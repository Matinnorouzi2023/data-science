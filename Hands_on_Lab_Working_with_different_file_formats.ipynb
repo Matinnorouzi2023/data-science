{
  "nbformat": 4,
  "nbformat_minor": 0,
  "metadata": {
    "colab": {
      "provenance": []
    },
    "kernelspec": {
      "name": "python3",
      "display_name": "Python 3"
    },
    "language_info": {
      "name": "python"
    }
  },
  "cells": [
    {
      "cell_type": "markdown",
      "source": [
        "# Hands-on Lab: Working with different file formats\n",
        "\n",
        "Estimated time: **40 mins**"
      ],
      "metadata": {
        "id": "Cw9b3j4vIFQW"
      }
    },
    {
      "cell_type": "markdown",
      "source": [
        "# Table of Contents\n",
        "\n",
        "<div class=\"alert alert-block alert-info\" style=\"margin-top: 20px\">\n",
        "\n",
        "<font size = 3>\n",
        "\n",
        "1.  <a href=\"#Data-Engineering\">Data Engineering</a>\n",
        "2.  <a href=\"#Data-Engineering-Process\">Data Engineering Process</a>\n",
        "3.  <a href=\"#Working-with-different-file-formats\">Working with different file formats</a>\n",
        "4.  <a href=\"#Data-Analysis\">Data Analysis</a>\n",
        "\n",
        "</font>\n",
        "</div>"
      ],
      "metadata": {
        "id": "u-2inpJBIOPG"
      }
    },
    {
      "cell_type": "markdown",
      "source": [
        "# Data Engineering"
      ],
      "metadata": {
        "id": "-XQVHrFeIOXK"
      }
    },
    {
      "cell_type": "markdown",
      "source": [
        "**Data engineering** is one of the most critical and foundational skills in any data scientist’s toolkit."
      ],
      "metadata": {
        "id": "NAYQFgLNISda"
      }
    },
    {
      "cell_type": "markdown",
      "source": [],
      "metadata": {
        "id": "I35q5bHgIVce"
      }
    },
    {
      "cell_type": "markdown",
      "source": [
        "# Data Engineering Process"
      ],
      "metadata": {
        "id": "PP29rCZRIViV"
      }
    },
    {
      "cell_type": "markdown",
      "source": [
        "There are several steps in Data Engineering process.\n",
        "\n",
        "1.  **Extract** - Data extraction is getting data from multiple sources. Ex. Data extraction from a website using Web scraping or gathering information from the data that are stored in different formats(JSON, CSV, XLSX etc.).\n",
        "\n",
        "2.  **Transform** - Transforming the data means removing the data that we don't need for further analysis and converting the data in the format that all the data from the multiple sources is in the same format.\n",
        "\n",
        "3.  **Load** - Loading the data inside a data warehouse. Data warehouse essentially contains large volumes of data that are accessed to gather insights."
      ],
      "metadata": {
        "id": "HRK_AHR0IYmm"
      }
    },
    {
      "cell_type": "markdown",
      "source": [
        "# Working with different file formats"
      ],
      "metadata": {
        "id": "uig-rga-IeBy"
      }
    },
    {
      "cell_type": "markdown",
      "source": [
        "In the real-world, people rarely get neat tabular data. Thus, it is mandatory for any data scientist (or data engineer) to be aware of different file formats, common challenges in handling them and the best, most efficient ways to handle this data in real life. We have reviewed some of this content in other modules."
      ],
      "metadata": {
        "id": "yH9-HbAYIjOs"
      }
    },
    {
      "cell_type": "markdown",
      "source": [
        "#### File Format"
      ],
      "metadata": {
        "id": "IbJdH4-lIoXr"
      }
    },
    {
      "cell_type": "markdown",
      "source": [
        "<p>A file format is a standard way in which information is encoded for storage in a file. First, the file format specifies whether the file is a binary or ASCII file. Second, it shows how the information is organized. For example, the comma-separated values (CSV) file format stores tabular data in plain text.\n",
        "\n",
        "To identify a file format, you can usually look at the file extension to get an idea. For example, a file saved with name \"Data\" in \"CSV\" format will appear as **Data.csv**. By noticing the **.csv** extension, we can clearly identify that it is a **CSV** file and the data is stored in a tabular format.</p>"
      ],
      "metadata": {
        "id": "ACG5xoMVIoai"
      }
    },
    {
      "cell_type": "markdown",
      "source": [
        "There are various formats for a dataset, .csv, .json, .xlsx etc. The dataset can be stored in different places, on your local machine or sometimes online.\n",
        "\n",
        "**In this section, you will learn how to load a dataset into our Jupyter Notebook.**\n"
      ],
      "metadata": {
        "id": "Pgn8xYI3Iv0d"
      }
    },
    {
      "cell_type": "markdown",
      "source": [
        "Now, we will look at some file formats and how to read them in Python:"
      ],
      "metadata": {
        "id": "Ynm81R69Ix9z"
      }
    },
    {
      "cell_type": "markdown",
      "source": [
        "# Comma-separated values (CSV) file format"
      ],
      "metadata": {
        "id": "CKTf9eBRI0lp"
      }
    },
    {
      "cell_type": "markdown",
      "source": [
        "The **Comma-separated values** file format falls under a spreadsheet file format.\n",
        "\n",
        "In a spreadsheet file format, data is stored in cells. Each cell is organized in rows and columns. A column in the spreadsheet file can have different types. For example, a column can be of string type, a date type, or an integer type.\n",
        "\n",
        "Each line in CSV file represents an observation, or commonly called a record. Each record may contain one or more fields which are separated by a comma.\n"
      ],
      "metadata": {
        "id": "vTCvuT_cI3x8"
      }
    },
    {
      "cell_type": "markdown",
      "source": [
        "## Reading data from CSV in Python"
      ],
      "metadata": {
        "id": "bK8f0zAzI5_W"
      }
    },
    {
      "cell_type": "markdown",
      "source": [
        "The **Pandas** Library is a useful tool that enables us to read various datasets into a Pandas data frame\n",
        "\n",
        "Let us look at how to read a CSV file in Pandas Library.\n",
        "\n",
        "We use **pandas.read_csv()** function to read the csv file. In the parentheses, we put the file path along with a quotation mark as an argument, so that pandas will read the file into a data frame from that address. The file path can be either a URL or your local file address."
      ],
      "metadata": {
        "id": "6ZUDqIvCI72E"
      }
    },
    {
      "cell_type": "code",
      "source": [
        "import piplite\n",
        "await piplite.install(['seaborn', 'lxml', 'openpyxl'])\n",
        "\n",
        "import pandas as pd"
      ],
      "metadata": {
        "colab": {
          "base_uri": "https://localhost:8080/",
          "height": 380
        },
        "id": "UEH4zVTNJFVv",
        "outputId": "23443724-e8fe-4950-c35a-cbc47ebc5470"
      },
      "execution_count": 4,
      "outputs": [
        {
          "output_type": "error",
          "ename": "ModuleNotFoundError",
          "evalue": "ignored",
          "traceback": [
            "\u001b[0;31m---------------------------------------------------------------------------\u001b[0m",
            "\u001b[0;31mModuleNotFoundError\u001b[0m                       Traceback (most recent call last)",
            "\u001b[0;32m<ipython-input-4-3ed9e9df0608>\u001b[0m in \u001b[0;36m<cell line: 1>\u001b[0;34m()\u001b[0m\n\u001b[0;32m----> 1\u001b[0;31m \u001b[0;32mimport\u001b[0m \u001b[0mpiplite\u001b[0m\u001b[0;34m\u001b[0m\u001b[0;34m\u001b[0m\u001b[0m\n\u001b[0m\u001b[1;32m      2\u001b[0m \u001b[0;32mawait\u001b[0m \u001b[0mpiplite\u001b[0m\u001b[0;34m.\u001b[0m\u001b[0minstall\u001b[0m\u001b[0;34m(\u001b[0m\u001b[0;34m[\u001b[0m\u001b[0;34m'seaborn'\u001b[0m\u001b[0;34m,\u001b[0m \u001b[0;34m'lxml'\u001b[0m\u001b[0;34m,\u001b[0m \u001b[0;34m'openpyxl'\u001b[0m\u001b[0;34m]\u001b[0m\u001b[0;34m)\u001b[0m\u001b[0;34m\u001b[0m\u001b[0;34m\u001b[0m\u001b[0m\n\u001b[1;32m      3\u001b[0m \u001b[0;34m\u001b[0m\u001b[0m\n\u001b[1;32m      4\u001b[0m \u001b[0;32mimport\u001b[0m \u001b[0mpandas\u001b[0m \u001b[0;32mas\u001b[0m \u001b[0mpd\u001b[0m\u001b[0;34m\u001b[0m\u001b[0;34m\u001b[0m\u001b[0m\n",
            "\u001b[0;31mModuleNotFoundError\u001b[0m: No module named 'piplite'",
            "",
            "\u001b[0;31m---------------------------------------------------------------------------\u001b[0;32m\nNOTE: If your import is failing due to a missing package, you can\nmanually install dependencies using either !pip or !apt.\n\nTo view examples of installing some common dependencies, click the\n\"Open Examples\" button below.\n\u001b[0;31m---------------------------------------------------------------------------\u001b[0m\n"
          ],
          "errorDetails": {
            "actions": [
              {
                "action": "open_url",
                "actionText": "Open Examples",
                "url": "/notebooks/snippets/importing_libraries.ipynb"
              }
            ]
          }
        }
      ]
    },
    {
      "cell_type": "code",
      "source": [
        "from pyodide.http import pyfetch\n",
        "\n",
        "filename = \"https://cf-courses-data.s3.us.cloud-object-storage.appdomain.cloud/IBMDeveloperSkillsNetwork-PY0101EN-SkillsNetwork/labs/Module%205/data/addresses.csv\"\n",
        "\n",
        "async def download(url, filename):\n",
        "    response = await pyfetch(url)\n",
        "    if response.status == 200:\n",
        "        with open(filename, \"wb\") as f:\n",
        "            f.write(await response.bytes())\n",
        "\n",
        "await download(filename, \"addresses.csv\")\n",
        "\n",
        "df = pd.read_csv(\"addresses.csv\", header=None)"
      ],
      "metadata": {
        "colab": {
          "base_uri": "https://localhost:8080/",
          "height": 399
        },
        "id": "RjEmQpg7JHrU",
        "outputId": "6d1d5717-ea2e-4772-a9b8-e6b436fb7581"
      },
      "execution_count": 2,
      "outputs": [
        {
          "output_type": "error",
          "ename": "ModuleNotFoundError",
          "evalue": "ignored",
          "traceback": [
            "\u001b[0;31m---------------------------------------------------------------------------\u001b[0m",
            "\u001b[0;31mModuleNotFoundError\u001b[0m                       Traceback (most recent call last)",
            "\u001b[0;32m<ipython-input-2-43528b2b60e9>\u001b[0m in \u001b[0;36m<cell line: 1>\u001b[0;34m()\u001b[0m\n\u001b[0;32m----> 1\u001b[0;31m \u001b[0;32mfrom\u001b[0m \u001b[0mpyodide\u001b[0m\u001b[0;34m.\u001b[0m\u001b[0mhttp\u001b[0m \u001b[0;32mimport\u001b[0m \u001b[0mpyfetch\u001b[0m\u001b[0;34m\u001b[0m\u001b[0;34m\u001b[0m\u001b[0m\n\u001b[0m\u001b[1;32m      2\u001b[0m \u001b[0;34m\u001b[0m\u001b[0m\n\u001b[1;32m      3\u001b[0m \u001b[0mfilename\u001b[0m \u001b[0;34m=\u001b[0m \u001b[0;34m\"https://cf-courses-data.s3.us.cloud-object-storage.appdomain.cloud/IBMDeveloperSkillsNetwork-PY0101EN-SkillsNetwork/labs/Module%205/data/addresses.csv\"\u001b[0m\u001b[0;34m\u001b[0m\u001b[0;34m\u001b[0m\u001b[0m\n\u001b[1;32m      4\u001b[0m \u001b[0;34m\u001b[0m\u001b[0m\n\u001b[1;32m      5\u001b[0m \u001b[0;32masync\u001b[0m \u001b[0;32mdef\u001b[0m \u001b[0mdownload\u001b[0m\u001b[0;34m(\u001b[0m\u001b[0murl\u001b[0m\u001b[0;34m,\u001b[0m \u001b[0mfilename\u001b[0m\u001b[0;34m)\u001b[0m\u001b[0;34m:\u001b[0m\u001b[0;34m\u001b[0m\u001b[0;34m\u001b[0m\u001b[0m\n",
            "\u001b[0;31mModuleNotFoundError\u001b[0m: No module named 'pyodide'",
            "",
            "\u001b[0;31m---------------------------------------------------------------------------\u001b[0;32m\nNOTE: If your import is failing due to a missing package, you can\nmanually install dependencies using either !pip or !apt.\n\nTo view examples of installing some common dependencies, click the\n\"Open Examples\" button below.\n\u001b[0;31m---------------------------------------------------------------------------\u001b[0m\n"
          ],
          "errorDetails": {
            "actions": [
              {
                "action": "open_url",
                "actionText": "Open Examples",
                "url": "/notebooks/snippets/importing_libraries.ipynb"
              }
            ]
          }
        }
      ]
    },
    {
      "cell_type": "code",
      "execution_count": 5,
      "metadata": {
        "colab": {
          "base_uri": "https://localhost:8080/",
          "height": 181
        },
        "id": "43aaIa-FH8YY",
        "outputId": "1334ede7-e159-40f3-dd98-d61d9a42b326"
      },
      "outputs": [
        {
          "output_type": "error",
          "ename": "NameError",
          "evalue": "ignored",
          "traceback": [
            "\u001b[0;31m---------------------------------------------------------------------------\u001b[0m",
            "\u001b[0;31mNameError\u001b[0m                                 Traceback (most recent call last)",
            "\u001b[0;32m<ipython-input-5-00cf07b74dcd>\u001b[0m in \u001b[0;36m<cell line: 1>\u001b[0;34m()\u001b[0m\n\u001b[0;32m----> 1\u001b[0;31m \u001b[0mdf\u001b[0m\u001b[0;34m\u001b[0m\u001b[0;34m\u001b[0m\u001b[0m\n\u001b[0m",
            "\u001b[0;31mNameError\u001b[0m: name 'df' is not defined"
          ]
        }
      ],
      "source": [
        "df"
      ]
    },
    {
      "cell_type": "markdown",
      "source": [
        "#### Adding column name to the DataFrame\n",
        "\n",
        "We can add columns to an existing DataFrame using its **columns** attribute."
      ],
      "metadata": {
        "id": "3UBW2TW-JKs6"
      }
    },
    {
      "cell_type": "markdown",
      "source": [
        "#### Adding column name to the DataFrame\n",
        "\n",
        "We can add columns to an existing DataFrame using its **columns** attribute."
      ],
      "metadata": {
        "id": "FvG-l0-iJav0"
      }
    },
    {
      "cell_type": "code",
      "source": [
        "df.columns =['First Name', 'Last Name', 'Location ', 'City','State','Area Code']"
      ],
      "metadata": {
        "colab": {
          "base_uri": "https://localhost:8080/",
          "height": 181
        },
        "id": "kWaIDGiDJekm",
        "outputId": "664bbe42-3e8a-44e4-87a3-eb4947ec8181"
      },
      "execution_count": 6,
      "outputs": [
        {
          "output_type": "error",
          "ename": "NameError",
          "evalue": "ignored",
          "traceback": [
            "\u001b[0;31m---------------------------------------------------------------------------\u001b[0m",
            "\u001b[0;31mNameError\u001b[0m                                 Traceback (most recent call last)",
            "\u001b[0;32m<ipython-input-6-8dfab728d2f9>\u001b[0m in \u001b[0;36m<cell line: 1>\u001b[0;34m()\u001b[0m\n\u001b[0;32m----> 1\u001b[0;31m \u001b[0mdf\u001b[0m\u001b[0;34m.\u001b[0m\u001b[0mcolumns\u001b[0m \u001b[0;34m=\u001b[0m\u001b[0;34m[\u001b[0m\u001b[0;34m'First Name'\u001b[0m\u001b[0;34m,\u001b[0m \u001b[0;34m'Last Name'\u001b[0m\u001b[0;34m,\u001b[0m \u001b[0;34m'Location '\u001b[0m\u001b[0;34m,\u001b[0m \u001b[0;34m'City'\u001b[0m\u001b[0;34m,\u001b[0m\u001b[0;34m'State'\u001b[0m\u001b[0;34m,\u001b[0m\u001b[0;34m'Area Code'\u001b[0m\u001b[0;34m]\u001b[0m\u001b[0;34m\u001b[0m\u001b[0;34m\u001b[0m\u001b[0m\n\u001b[0m",
            "\u001b[0;31mNameError\u001b[0m: name 'df' is not defined"
          ]
        }
      ]
    },
    {
      "cell_type": "code",
      "source": [
        "df"
      ],
      "metadata": {
        "id": "Q1m6uqkDJS9j"
      },
      "execution_count": null,
      "outputs": []
    },
    {
      "cell_type": "markdown",
      "source": [
        "#### Selecting a single column\n",
        "\n",
        "To select the first column 'First Name', you can pass the column name as a string to the indexing operator."
      ],
      "metadata": {
        "id": "XcVHiMqDJjlA"
      }
    },
    {
      "cell_type": "code",
      "source": [
        "df = df[['First Name', 'Last Name', 'Location ', 'City','State','Area Code']]\n",
        "df"
      ],
      "metadata": {
        "colab": {
          "base_uri": "https://localhost:8080/",
          "height": 199
        },
        "id": "pmKxCSbgJlsT",
        "outputId": "763fcd58-dfb9-429a-c057-4c373dff746e"
      },
      "execution_count": 7,
      "outputs": [
        {
          "output_type": "error",
          "ename": "NameError",
          "evalue": "ignored",
          "traceback": [
            "\u001b[0;31m---------------------------------------------------------------------------\u001b[0m",
            "\u001b[0;31mNameError\u001b[0m                                 Traceback (most recent call last)",
            "\u001b[0;32m<ipython-input-7-0e0cb28dd028>\u001b[0m in \u001b[0;36m<cell line: 1>\u001b[0;34m()\u001b[0m\n\u001b[0;32m----> 1\u001b[0;31m \u001b[0mdf\u001b[0m \u001b[0;34m=\u001b[0m \u001b[0mdf\u001b[0m\u001b[0;34m[\u001b[0m\u001b[0;34m[\u001b[0m\u001b[0;34m'First Name'\u001b[0m\u001b[0;34m,\u001b[0m \u001b[0;34m'Last Name'\u001b[0m\u001b[0;34m,\u001b[0m \u001b[0;34m'Location '\u001b[0m\u001b[0;34m,\u001b[0m \u001b[0;34m'City'\u001b[0m\u001b[0;34m,\u001b[0m\u001b[0;34m'State'\u001b[0m\u001b[0;34m,\u001b[0m\u001b[0;34m'Area Code'\u001b[0m\u001b[0;34m]\u001b[0m\u001b[0;34m]\u001b[0m\u001b[0;34m\u001b[0m\u001b[0;34m\u001b[0m\u001b[0m\n\u001b[0m\u001b[1;32m      2\u001b[0m \u001b[0mdf\u001b[0m\u001b[0;34m\u001b[0m\u001b[0;34m\u001b[0m\u001b[0m\n",
            "\u001b[0;31mNameError\u001b[0m: name 'df' is not defined"
          ]
        }
      ]
    },
    {
      "cell_type": "markdown",
      "source": [
        "#### Selecting rows using .iloc and .loc\n",
        "\n",
        "Now, let's see how to use .loc for selecting rows from our DataFrame.\n",
        "\n",
        "**loc() : loc() is label based data selecting method which means that we have to pass the name of the row or column which we want to select.**"
      ],
      "metadata": {
        "id": "AKVJ4EzDJu7v"
      }
    },
    {
      "cell_type": "code",
      "source": [
        "# To select the first row\n",
        "df.loc[0]"
      ],
      "metadata": {
        "id": "UbP7wG33Jw4W"
      },
      "execution_count": null,
      "outputs": []
    },
    {
      "cell_type": "code",
      "source": [
        "# To select the 0th,1st and 2nd row of \"First Name\" column only\n",
        "df.loc[[0,1,2], \"First Name\" ]"
      ],
      "metadata": {
        "id": "IlyVTAGJJycX"
      },
      "execution_count": null,
      "outputs": []
    },
    {
      "cell_type": "markdown",
      "source": [
        "Now, let's see how to use .iloc for selecting rows from our DataFrame.\n",
        "\n",
        "**iloc() : iloc() is a indexed based selecting method which means that we have to pass integer index in the method to select specific row/column.**"
      ],
      "metadata": {
        "id": "fq-vOW-AJy3Y"
      }
    },
    {
      "cell_type": "code",
      "source": [
        "# To select the 0th,1st and 2nd row of \"First Name\" column only\n",
        "df.iloc[[0,1,2], 0]"
      ],
      "metadata": {
        "id": "egCFrk3HJ1Ak"
      },
      "execution_count": null,
      "outputs": []
    },
    {
      "cell_type": "markdown",
      "source": [
        "For more information please read the [documentation](https://pandas.pydata.org/pandas-docs/stable/user_guide/indexing.html?utm_medium=Exinfluencer&utm_source=Exinfluencer&utm_content=000026UJ&utm_term=10006555&utm_id=NA-SkillsNetwork-Channel-SkillsNetworkCoursesIBMDeveloperSkillsNetworkPY0101ENSkillsNetwork19487395-2021-01-01).\n",
        "\n",
        "Let's perform some basic transformation in pandas."
      ],
      "metadata": {
        "id": "uSOBjBToJ6qe"
      }
    },
    {
      "cell_type": "markdown",
      "source": [
        "### Transform Function in Pandas\n",
        "\n",
        "Python's Transform function returns a self-produced dataframe with transformed values after applying the function specified in its parameter.\n",
        "\n",
        "Let's see how Transform function works."
      ],
      "metadata": {
        "id": "N-jzjjrBKDeH"
      }
    },
    {
      "cell_type": "code",
      "source": [
        "#import library\n",
        "import pandas as pd\n",
        "import numpy as np"
      ],
      "metadata": {
        "id": "JQaqlqLcJ_Cb"
      },
      "execution_count": null,
      "outputs": []
    },
    {
      "cell_type": "code",
      "source": [
        "#creating a dataframe\n",
        "df=pd.DataFrame(np.array([[1, 2, 3], [4, 5, 6], [7, 8, 9]]), columns=['a', 'b', 'c'])\n",
        "df"
      ],
      "metadata": {
        "id": "jTIoJuNyKFoR"
      },
      "execution_count": null,
      "outputs": []
    },
    {
      "cell_type": "markdown",
      "source": [
        "Let’s say we want to add 10 to each element in a dataframe:"
      ],
      "metadata": {
        "id": "XTGpVuShKJn4"
      }
    },
    {
      "cell_type": "code",
      "source": [
        "#applying the transform function\n",
        "df = df.transform(func = lambda x : x + 10)\n",
        "df"
      ],
      "metadata": {
        "id": "KG1QyZqmKLLt"
      },
      "execution_count": null,
      "outputs": []
    },
    {
      "cell_type": "markdown",
      "source": [
        "Now we will use DataFrame.transform() function to find the square root to each element of the dataframe."
      ],
      "metadata": {
        "id": "azbiZmcAKNSH"
      }
    },
    {
      "cell_type": "code",
      "source": [
        "result = df.transform(func = ['sqrt'])"
      ],
      "metadata": {
        "id": "hXXkBw9GKPTd"
      },
      "execution_count": null,
      "outputs": []
    },
    {
      "cell_type": "code",
      "source": [
        "result"
      ],
      "metadata": {
        "id": "kRFzCWPQKQ4A"
      },
      "execution_count": null,
      "outputs": []
    },
    {
      "cell_type": "markdown",
      "source": [
        "For more information about the **transform()** function  please read the [documentation](https://pandas.pydata.org/pandas-docs/stable/reference/api/pandas.DataFrame.transform.html?utm_medium=Exinfluencer&utm_source=Exinfluencer&utm_content=000026UJ&utm_term=10006555&utm_id=NA-SkillsNetwork-Channel-SkillsNetworkCoursesIBMDeveloperSkillsNetworkPY0101ENSkillsNetwork19487395-2021-01-01)."
      ],
      "metadata": {
        "id": "zsHkyxynKSzv"
      }
    },
    {
      "cell_type": "markdown",
      "source": [
        "# JSON file Format"
      ],
      "metadata": {
        "id": "Oe-E0aNiKV48"
      }
    },
    {
      "cell_type": "markdown",
      "source": [
        "**JSON (JavaScript Object Notation)** is a lightweight data-interchange format. It is easy for humans to read and write.\n",
        "\n",
        "JSON is built on two structures:\n",
        "\n",
        "1.  A collection of name/value pairs. In various languages, this is realized as an object, record, struct, dictionary, hash table, keyed list, or associative array.\n",
        "\n",
        "2.  An ordered list of values. In most languages, this is realized as an array, vector, list, or sequence.\n",
        "\n",
        "JSON is a language-independent data format. It was derived from JavaScript, but many modern programming languages include code to generate and parse JSON-format data. It is a very common data format with a diverse range of applications."
      ],
      "metadata": {
        "id": "FoHu30rnKYY4"
      }
    },
    {
      "cell_type": "markdown",
      "source": [
        "The text in JSON is done through quoted string which contains the values in key-value mappings within { }. It is similar to the dictionary in Python."
      ],
      "metadata": {
        "id": "ADF8tbcFKau2"
      }
    },
    {
      "cell_type": "markdown",
      "source": [
        "Python supports JSON through a built-in package called **json**. To use this feature, we import the json package in Python script."
      ],
      "metadata": {
        "id": "ioU_kPrQKbJJ"
      }
    },
    {
      "cell_type": "code",
      "source": [
        "import json"
      ],
      "metadata": {
        "id": "2_P8M9NbKebr"
      },
      "execution_count": null,
      "outputs": []
    },
    {
      "cell_type": "markdown",
      "source": [
        "# Writing JSON to a File\n",
        "\n",
        "This is usually called **serialization**. It is the process of converting an object into a special format which is suitable for transmitting over the network or storing in file or database.\n",
        "\n",
        "To handle the data flow in a file, the JSON library in Python uses the **dump()** or **dumps()** function to convert the Python objects into their respective JSON object. This makes it easy to write data to files."
      ],
      "metadata": {
        "id": "ULv7-2LrKkTH"
      }
    },
    {
      "cell_type": "code",
      "source": [
        "import json\n",
        "person = {\n",
        "    'first_name' : 'Mark',\n",
        "    'last_name' : 'abc',\n",
        "    'age' : 27,\n",
        "    'address': {\n",
        "        \"streetAddress\": \"21 2nd Street\",\n",
        "        \"city\": \"New York\",\n",
        "        \"state\": \"NY\",\n",
        "        \"postalCode\": \"10021-3100\"\n",
        "    }\n",
        "}"
      ],
      "metadata": {
        "id": "fd-GJSKdKpRz"
      },
      "execution_count": null,
      "outputs": []
    },
    {
      "cell_type": "markdown",
      "source": [
        "#### serialization using dump() function\n",
        "\n",
        "**json.dump()** method can be used for writing to JSON file.\n",
        "\n",
        "Syntax: json.dump(dict, file_pointer)\n",
        "\n",
        "Parameters:\n",
        "\n",
        "1.  **dictionary** – name of the dictionary which should be converted to JSON object.\n",
        "2.  **file pointer** – pointer of the file opened in write or append mode."
      ],
      "metadata": {
        "id": "aJQ9dWFjKrgB"
      }
    },
    {
      "cell_type": "code",
      "source": [
        "with open('person.json', 'w') as f:  # writing JSON object\n",
        "    json.dump(person, f)"
      ],
      "metadata": {
        "id": "efRWMDhSKtQ1"
      },
      "execution_count": null,
      "outputs": []
    },
    {
      "cell_type": "markdown",
      "source": [
        "#### serialization using dumps() function\n",
        "\n",
        "**json.dumps()** that helps in converting a dictionary to a JSON object.\n",
        "\n",
        "It takes two parameters:\n",
        "\n",
        "1.  **dictionary** – name of the dictionary which should be converted to JSON object.\n",
        "2.  **indent** – defines the number of units for indentation"
      ],
      "metadata": {
        "id": "GdV3dgvNKvdE"
      }
    },
    {
      "cell_type": "code",
      "source": [
        "# Serializing json\n",
        "json_object = json.dumps(person, indent = 4)\n",
        "\n",
        "# Writing to sample.json\n",
        "with open(\"sample.json\", \"w\") as outfile:\n",
        "    outfile.write(json_object)"
      ],
      "metadata": {
        "id": "rE-HSM-JKxCA"
      },
      "execution_count": null,
      "outputs": []
    },
    {
      "cell_type": "code",
      "source": [
        "print(json_object)"
      ],
      "metadata": {
        "id": "GJ4rtVTsKyqn"
      },
      "execution_count": null,
      "outputs": []
    },
    {
      "cell_type": "markdown",
      "source": [
        "Our Python objects are now serialized to the file. For deserialize it back to the Python object, we use the load() function."
      ],
      "metadata": {
        "id": "GqtuW6bSK1Eg"
      }
    },
    {
      "cell_type": "markdown",
      "source": [
        "# Reading JSON to a File"
      ],
      "metadata": {
        "id": "IDzy3sM_K3L4"
      }
    },
    {
      "cell_type": "markdown",
      "source": [
        "This process is usually called **Deserialization** - it is the reverse of serialization. It converts the special format returned by the serialization back into a usable object.\n",
        "\n",
        "### Using json.load()\n",
        "\n",
        "The JSON package has json.load() function that loads the json content from a json file into a dictionary.\n",
        "\n",
        "It takes one parameter:\n",
        "\n",
        "**File pointer** : A file pointer that points to a JSON file."
      ],
      "metadata": {
        "id": "74cSIQ9AK5q9"
      }
    },
    {
      "cell_type": "code",
      "source": [
        "import json\n",
        "\n",
        "# Opening JSON file\n",
        "with open('sample.json', 'r') as openfile:\n",
        "\n",
        "    # Reading from json file\n",
        "    json_object = json.load(openfile)\n",
        "\n",
        "print(json_object)\n",
        "print(type(json_object))"
      ],
      "metadata": {
        "id": "jvepbsk9K7e8"
      },
      "execution_count": null,
      "outputs": []
    },
    {
      "cell_type": "markdown",
      "source": [
        "# XLSX file format"
      ],
      "metadata": {
        "id": "DaVKM9caK9Ua"
      }
    },
    {
      "cell_type": "markdown",
      "source": [
        "**XLSX** is a Microsoft Excel Open XML file format. It is another type of Spreadsheet file format.\n",
        "\n",
        "In XLSX data is organized under the cells and columns in a sheet."
      ],
      "metadata": {
        "id": "oKKseLOXK_bp"
      }
    },
    {
      "cell_type": "markdown",
      "source": [
        "## Reading the data from XLSX file"
      ],
      "metadata": {
        "id": "Ppettx_CLBy9"
      }
    },
    {
      "cell_type": "markdown",
      "source": [
        "Let's load the data from XLSX file and define the sheet name. For loading the data you can use the Pandas library in python."
      ],
      "metadata": {
        "id": "hQoEBPsELDuO"
      }
    },
    {
      "cell_type": "code",
      "source": [
        "import pandas as pd"
      ],
      "metadata": {
        "id": "8ETn1Zg4LFn7"
      },
      "execution_count": null,
      "outputs": []
    },
    {
      "cell_type": "code",
      "source": [
        "# Not needed unless you're running locally\n",
        "# import urllib.request\n",
        "# urllib.request.urlretrieve(\"https://cf-courses-data.s3.us.cloud-object-storage.appdomain.cloud/IBMDeveloperSkillsNetwork-PY0101EN-SkillsNetwork/labs/Module%205/data/file_example_XLSX_10.xlsx\", \"sample.xlsx\")\n",
        "\n",
        "filename = \"https://cf-courses-data.s3.us.cloud-object-storage.appdomain.cloud/IBMDeveloperSkillsNetwork-PY0101EN-SkillsNetwork/labs/Module%205/data/file_example_XLSX_10.xlsx\"\n",
        "\n",
        "async def download(url, filename):\n",
        "    response = await pyfetch(url)\n",
        "    if response.status == 200:\n",
        "        with open(filename, \"wb\") as f:\n",
        "            f.write(await response.bytes())\n",
        "\n",
        "await download(filename, \"file_example_XLSX_10.xlsx\")\n",
        "\n",
        "df = pd.read_excel(\"file_example_XLSX_10.xlsx\")"
      ],
      "metadata": {
        "id": "-6xdyDqNLHRH"
      },
      "execution_count": null,
      "outputs": []
    },
    {
      "cell_type": "code",
      "source": [
        "df"
      ],
      "metadata": {
        "id": "EWkMZD7mLJMo"
      },
      "execution_count": null,
      "outputs": []
    },
    {
      "cell_type": "markdown",
      "source": [
        "# XML file format"
      ],
      "metadata": {
        "id": "tVH_9OwLLLCC"
      }
    },
    {
      "cell_type": "markdown",
      "source": [
        "**XML is also known as Extensible Markup Language**. As the name suggests, it is a markup language. It has certain rules for encoding data. XML file format is a human-readable and machine-readable file format.\n",
        "\n",
        "Pandas does not include any methods to read and write XML files. Here, we will take a look at how we can use other modules to read data from an XML file, and load it into a Pandas DataFrame.\n"
      ],
      "metadata": {
        "id": "sbr1RUCrLM0u"
      }
    },
    {
      "cell_type": "markdown",
      "source": [
        "### Writing with xml.etree.ElementTree"
      ],
      "metadata": {
        "id": "0bhWXiXKLO6d"
      }
    },
    {
      "cell_type": "markdown",
      "source": [
        "The **xml.etree.ElementTree** module comes built-in with Python. It provides functionality for parsing and creating XML documents. **ElementTree** represents the XML document as a tree. We can move across the document using nodes which are elements and sub-elements of the XML file.\n",
        "\n",
        "For more information please read the [xml.etree.ElementTree](https://docs.python.org/3/library/xml.etree.elementtree.html?utm_medium=Exinfluencer&utm_source=Exinfluencer&utm_content=000026UJ&utm_term=10006555&utm_id=NA-SkillsNetwork-Channel-SkillsNetworkCoursesIBMDeveloperSkillsNetworkPY0101ENSkillsNetwork19487395-2021-01-01) documentation."
      ],
      "metadata": {
        "id": "vsCxNCmOLQ8a"
      }
    },
    {
      "cell_type": "code",
      "source": [
        "import xml.etree.ElementTree as ET\n",
        "\n",
        "# create the file structure\n",
        "employee = ET.Element('employee')\n",
        "details = ET.SubElement(employee, 'details')\n",
        "first = ET.SubElement(details, 'firstname')\n",
        "second = ET.SubElement(details, 'lastname')\n",
        "third = ET.SubElement(details, 'age')\n",
        "first.text = 'Shiv'\n",
        "second.text = 'Mishra'\n",
        "third.text = '23'\n",
        "\n",
        "# create a new XML file with the results\n",
        "mydata1 = ET.ElementTree(employee)\n",
        "# myfile = open(\"items2.xml\", \"wb\")\n",
        "# myfile.write(mydata)\n",
        "with open(\"new_sample.xml\", \"wb\") as files:\n",
        "    mydata1.write(files)"
      ],
      "metadata": {
        "id": "IOwfIDokLVF_"
      },
      "execution_count": null,
      "outputs": []
    },
    {
      "cell_type": "markdown",
      "source": [
        "### Reading with xml.etree.ElementTree"
      ],
      "metadata": {
        "id": "wzp8a8cpLXIX"
      }
    },
    {
      "cell_type": "markdown",
      "source": [
        "Let's have a look at a one way to read XML data and put it in a Pandas DataFrame. You can see the XML file in the Notepad of your local machine."
      ],
      "metadata": {
        "id": "OeHspiOxLZUC"
      }
    },
    {
      "cell_type": "code",
      "source": [
        "# Not needed unless running locally\n",
        "# !wget https://cf-courses-data.s3.us.cloud-object-storage.appdomain.cloud/IBMDeveloperSkillsNetwork-PY0101EN-SkillsNetwork/labs/Module%205/data/Sample-employee-XML-file.xml\n",
        "\n",
        "import xml.etree.ElementTree as etree\n",
        "\n",
        "filename = \"https://cf-courses-data.s3.us.cloud-object-storage.appdomain.cloud/IBMDeveloperSkillsNetwork-PY0101EN-SkillsNetwork/labs/Module%205/data/Sample-employee-XML-file.xml\"\n",
        "\n",
        "async def download(url, filename):\n",
        "    response = await pyfetch(url)\n",
        "    if response.status == 200:\n",
        "        with open(filename, \"wb\") as f:\n",
        "            f.write(await response.bytes())\n",
        "\n",
        "await download(filename, \"Sample-employee-XML-file.xml\")"
      ],
      "metadata": {
        "id": "wiiqzK2WLbAi"
      },
      "execution_count": null,
      "outputs": []
    },
    {
      "cell_type": "markdown",
      "source": [
        "You would need to firstly parse an XML file and create a list of columns for data frame, then extract useful information from the XML file and add to a pandas data frame.\n",
        "\n",
        "Here is a sample code that you can use.:"
      ],
      "metadata": {
        "id": "OITWm3VNLcuU"
      }
    },
    {
      "cell_type": "code",
      "source": [
        "tree = etree.parse(\"Sample-employee-XML-file.xml\")\n",
        "\n",
        "root = tree.getroot()\n",
        "columns = [\"firstname\", \"lastname\", \"title\", \"division\", \"building\",\"room\"]\n",
        "\n",
        "datatframe = pd.DataFrame(columns = columns)\n",
        "\n",
        "for node in root:\n",
        "\n",
        "    firstname = node.find(\"firstname\").text\n",
        "\n",
        "    lastname = node.find(\"lastname\").text\n",
        "\n",
        "    title = node.find(\"title\").text\n",
        "\n",
        "    division = node.find(\"division\").text\n",
        "\n",
        "    building = node.find(\"building\").text\n",
        "\n",
        "    room = node.find(\"room\").text\n",
        "\n",
        "    datatframe = pd.concat([datatframe, pd.Series([firstname, lastname, title, division, building, room], index = columns)], ignore_index = True)"
      ],
      "metadata": {
        "id": "k9NHlp3nLevc"
      },
      "execution_count": null,
      "outputs": []
    },
    {
      "cell_type": "code",
      "source": [
        "datatframe"
      ],
      "metadata": {
        "id": "7fcLhzcnLggl"
      },
      "execution_count": null,
      "outputs": []
    },
    {
      "cell_type": "markdown",
      "source": [
        "### Reading xml  file using pandas.read_xml function\n",
        "\n",
        "We can also read the downloaded xml file using the read_xml function present in the pandas library which returns a Dataframe object.\n",
        "\n",
        "For more information read the <a href=\"https://pandas.pydata.org/pandas-docs/dev/reference/api/pandas.read_xml.html?utm_medium=Exinfluencer&utm_source=Exinfluencer&utm_content=000026UJ&utm_term=10006555&utm_id=NA-SkillsNetwork-Channel-SkillsNetworkCoursesIBMDeveloperSkillsNetworkPY0101ENSkillsNetwork19487395-2021-01-01#pandas-read-xml\">pandas.read_xml</a> documentation."
      ],
      "metadata": {
        "id": "gwRWTZCgLjqN"
      }
    },
    {
      "cell_type": "code",
      "source": [
        "# Herein xpath we mention the set of xml nodes to be considered for migrating  to the dataframe which in this case is details node under employees.\n",
        "df=pd.read_xml(\"Sample-employee-XML-file.xml\", xpath=\"/employees/details\")"
      ],
      "metadata": {
        "id": "rvZCstNPLooo"
      },
      "execution_count": null,
      "outputs": []
    },
    {
      "cell_type": "markdown",
      "source": [
        "### Save Data"
      ],
      "metadata": {
        "id": "XvSnQtTwLqvd"
      }
    },
    {
      "cell_type": "markdown",
      "source": [
        "Correspondingly, Pandas enables us to save the dataset to csv by using the **dataframe.to_csv()** method, you can add the file path and name along with quotation marks in the parentheses.\n",
        "\n",
        "For example, if you would save the dataframe df as **employee.csv** to your local machine, you may use the syntax below:"
      ],
      "metadata": {
        "id": "qzP__vxxLss2"
      }
    },
    {
      "cell_type": "code",
      "source": [
        "datatframe.to_csv(\"employee.csv\", index=False)"
      ],
      "metadata": {
        "id": "wcDlDd9JLuaY"
      },
      "execution_count": null,
      "outputs": []
    },
    {
      "cell_type": "markdown",
      "source": [
        "We can also read and save other file formats, we can use similar functions to **`pd.read_csv()`** and **`df.to_csv()`** for other data formats. The functions are listed in the following table:"
      ],
      "metadata": {
        "id": "UCg-QuwfLwM6"
      }
    },
    {
      "cell_type": "markdown",
      "source": [
        "<h2>Read/Save Other Data Formats</h2>\n",
        "\n",
        "| Data Formate |        Read       |            Save |\n",
        "| ------------ | :---------------: | --------------: |\n",
        "| csv          |  `pd.read_csv()`  |   `df.to_csv()` |\n",
        "| json         |  `pd.read_json()` |  `df.to_json()` |\n",
        "| excel        | `pd.read_excel()` | `df.to_excel()` |\n",
        "| hdf          |  `pd.read_hdf()`  |   `df.to_hdf()` |\n",
        "| sql          |  `pd.read_sql()`  |   `df.to_sql()` |\n",
        "| ...          |        ...        |             ... |\n"
      ],
      "metadata": {
        "id": "M3ub4inXLy3l"
      }
    },
    {
      "cell_type": "markdown",
      "source": [
        "Let's move ahead and perform some **Data Analysis**."
      ],
      "metadata": {
        "id": "xKt-hR24L1Up"
      }
    },
    {
      "cell_type": "markdown",
      "source": [
        "# Binary File Format\n",
        "\n",
        "\"Binary\" files are any files where the format isn't made up of readable characters. It contain formatting information that only certain applications or processors can understand. While humans can read text files, binary files must be run on the appropriate software or processor before humans can read them.\n",
        "\n",
        "Binary files can range from image files like JPEGs or GIFs, audio files like MP3s or binary document formats like Word or PDF.\n",
        "\n",
        "Let's see how to read an **Image** file.\n",
        "\n",
        "## Reading the Image file\n",
        "\n",
        "Python supports very powerful tools when it comes to image processing. Let's see how to process the images using the **PIL** library.\n",
        "\n",
        "**PIL** is the Python Imaging Library which provides the python interpreter with image editing capabilities."
      ],
      "metadata": {
        "id": "052CUggPL34Z"
      }
    },
    {
      "cell_type": "code",
      "source": [
        "# importing PIL\n",
        "from PIL import Image\n",
        "\n",
        "# Uncomment if running locally\n",
        "# import urllib.request\n",
        "# urllib.request.urlretrieve(\"https://hips.hearstapps.com/hmg-prod.s3.amazonaws.com/images/dog-puppy-on-garden-royalty-free-image-1586966191.jpg\", \"dog.jpg\")\n",
        "\n",
        "filename = \"https://hips.hearstapps.com/hmg-prod.s3.amazonaws.com/images/dog-puppy-on-garden-royalty-free-image-1586966191.jpg\"\n",
        "\n",
        "async def download(url, filename):\n",
        "    response = await pyfetch(url)\n",
        "    if response.status == 200:\n",
        "        with open(filename, \"wb\") as f:\n",
        "            f.write(await response.bytes())\n",
        "\n",
        "await download(filename, \"./dog.jpg\")"
      ],
      "metadata": {
        "id": "wwjrNKZqL5i8"
      },
      "execution_count": null,
      "outputs": []
    },
    {
      "cell_type": "code",
      "source": [
        "# Read image\n",
        "img = Image.open('./dog.jpg','r')\n",
        "\n",
        "# Output Images\n",
        "img.show()"
      ],
      "metadata": {
        "id": "9kJ_4lAeL7sK"
      },
      "execution_count": null,
      "outputs": []
    },
    {
      "cell_type": "markdown",
      "source": [
        "# Data Analysis"
      ],
      "metadata": {
        "id": "S5HyO5BZL9iU"
      }
    },
    {
      "cell_type": "markdown",
      "source": [
        "In this section, you will learn how to approach data acquisition in various ways and obtain necessary insights from a dataset. By the end of this lab, you will successfully load the data into Jupyter Notebook and gain some fundamental insights via the Pandas Library.\n",
        "\n",
        "In our case, the **Diabetes Dataset** is an online source and it is in CSV (comma separated value) format. Let's use this dataset as an example to practice data reading.\n"
      ],
      "metadata": {
        "id": "1TPeknrbL_jt"
      }
    },
    {
      "cell_type": "markdown",
      "source": [
        "## About this Dataset\n",
        "\n",
        "**Context:** This dataset is originally from the **National Institute of Diabetes and Digestive and Kidney Diseases**. The objective of the dataset is to diagnostically predict whether or not a patient has diabetes, based on certain diagnostic measurements included in the dataset. Several constraints were placed on the selection of these instances from a larger database. In particular, all patients here are females at least 21 years of age of Pima Indian heritage.\n",
        "\n",
        "**Content:** The datasets consists of several medical predictor variables and one target variable, Outcome. Predictor variables includes the number of pregnancies the patient has had, their BMI, insulin level, age, and so on."
      ],
      "metadata": {
        "id": "NNxMPemDL_si"
      }
    },
    {
      "cell_type": "markdown",
      "source": [
        "We have 768 rows and 9 columns. The first 8 columns represent the features and the last column represent the target/label."
      ],
      "metadata": {
        "id": "PY9D5omtMFaa"
      }
    },
    {
      "cell_type": "code",
      "source": [
        "filename = \"https://cf-courses-data.s3.us.cloud-object-storage.appdomain.cloud/IBMDeveloperSkillsNetwork-PY0101EN-SkillsNetwork/labs/Module%205/data/diabetes.csv\"\n",
        "\n",
        "async def download(url, filename):\n",
        "    response = await pyfetch(url)\n",
        "    if response.status == 200:\n",
        "        with open(filename, \"wb\") as f:\n",
        "            f.write(await response.bytes())\n",
        "\n",
        "await download(filename, \"diabetes.csv\")\n",
        "df = pd.read_csv(\"diabetes.csv\")"
      ],
      "metadata": {
        "id": "8JzECqlgMH-a"
      },
      "execution_count": null,
      "outputs": []
    },
    {
      "cell_type": "markdown",
      "source": [
        "After reading the dataset, we can use the **dataframe.head(n)** method to check the top n rows of the dataframe, where n is an integer. Contrary to **dataframe.head(n)**, **dataframe.tail(n)** will show you the bottom n rows of the dataframe."
      ],
      "metadata": {
        "id": "jAWHagMTMKXu"
      }
    },
    {
      "cell_type": "code",
      "source": [
        "# show the first 5 rows using dataframe.head() method\n",
        "print(\"The first 5 rows of the dataframe\")\n",
        "df.head(5)"
      ],
      "metadata": {
        "id": "gd4sC1FOMMIN"
      },
      "execution_count": null,
      "outputs": []
    },
    {
      "cell_type": "markdown",
      "source": [
        "To view the dimensions of the dataframe, we use the **`.shape`** parameter."
      ],
      "metadata": {
        "id": "PVMHwLmtMN8h"
      }
    },
    {
      "cell_type": "code",
      "source": [
        "df.shape"
      ],
      "metadata": {
        "id": "QdWqMXgvMPgE"
      },
      "execution_count": null,
      "outputs": []
    },
    {
      "cell_type": "markdown",
      "source": [
        "# Statistical Overview of dataset"
      ],
      "metadata": {
        "id": "QgjLuQYzMRy2"
      }
    },
    {
      "cell_type": "code",
      "source": [
        "df.info()"
      ],
      "metadata": {
        "id": "v1gB6U3VMUKV"
      },
      "execution_count": null,
      "outputs": []
    },
    {
      "cell_type": "markdown",
      "source": [
        "This method prints information about a DataFrame including the index dtype and columns, non-null values and memory usage.\n"
      ],
      "metadata": {
        "id": "dqTt9y8EMWLA"
      }
    },
    {
      "cell_type": "code",
      "source": [
        "df.describe()"
      ],
      "metadata": {
        "id": "FqIQZMIxMY2C"
      },
      "execution_count": null,
      "outputs": []
    },
    {
      "cell_type": "markdown",
      "source": [
        "Pandas **describe()** is used to view some basic statistical details like percentile, mean, standard deviation, etc. of a data frame or a series of numeric values. When this method is applied to a series of strings, it returns a different output\n"
      ],
      "metadata": {
        "id": "fvI4P4w2Mar8"
      }
    },
    {
      "cell_type": "markdown",
      "source": [
        "### Identify and handle missing values"
      ],
      "metadata": {
        "id": "EzV7EjqIMcUo"
      }
    },
    {
      "cell_type": "markdown",
      "source": [
        "We use Python's built-in functions to identify these missing values. There are two methods to detect missing data:\n",
        "\n",
        "**.isnull()**\n",
        "\n",
        "**.notnull()**\n",
        "\n",
        "The output is a boolean value indicating whether the value that is passed into the argument is in fact missing data."
      ],
      "metadata": {
        "id": "3B8Iu9ELMeL-"
      }
    },
    {
      "cell_type": "code",
      "source": [
        "missing_data = df.isnull()\n",
        "missing_data.head(5)"
      ],
      "metadata": {
        "id": "lNjK9eB-Mf4U"
      },
      "execution_count": null,
      "outputs": []
    },
    {
      "cell_type": "markdown",
      "source": [
        "\"True\" stands for missing value, while \"False\" stands for not missing value."
      ],
      "metadata": {
        "id": "_RhGJeTXMiGO"
      }
    },
    {
      "cell_type": "markdown",
      "source": [
        "<h4>Count missing values in each column</h4>\n",
        "<p>\n",
        "Using a for loop in Python, we can quickly figure out the number of missing values in each column. As mentioned above, \"True\" represents a missing value, \"False\"  means the value is present in the dataset.  In the body of the for loop the method \".value_counts()\"  counts the number of \"True\" values.\n",
        "</p>\n"
      ],
      "metadata": {
        "id": "lU0IRTv1Mj7h"
      }
    },
    {
      "cell_type": "code",
      "source": [
        "for column in missing_data.columns.values.tolist():\n",
        "    print(column)\n",
        "    print (missing_data[column].value_counts())\n",
        "    print(\"\")"
      ],
      "metadata": {
        "id": "knjvHKTqMmhj"
      },
      "execution_count": null,
      "outputs": []
    },
    {
      "cell_type": "markdown",
      "source": [
        "As you can see above, there is no missing values in the dataset."
      ],
      "metadata": {
        "id": "4YDJANiEMo9s"
      }
    },
    {
      "cell_type": "markdown",
      "source": [
        "<h3 id=\"correct_data_format\">Correct data format</h3>\n",
        "\n",
        "<p>Check all data is in the correct format (int, float, text or other).</p>\n",
        "\n",
        "In Pandas, we use\n",
        "\n",
        "<p><b>.dtype()</b> to check the data type</p>\n",
        "<p><b>.astype()</b> to change the data type</p>\n",
        "\n",
        "Numerical variables should have type **'float'** or **'int'**.\n"
      ],
      "metadata": {
        "id": "a3s-0Xv4MrW3"
      }
    },
    {
      "cell_type": "code",
      "source": [
        "df.dtypes"
      ],
      "metadata": {
        "id": "AlPrD1e7Ms8d"
      },
      "execution_count": null,
      "outputs": []
    },
    {
      "cell_type": "markdown",
      "source": [
        "As we can see above, All columns have the correct data type."
      ],
      "metadata": {
        "id": "syndgD4SMuus"
      }
    },
    {
      "cell_type": "markdown",
      "source": [
        "# Visualization"
      ],
      "metadata": {
        "id": "VB9CGT_pMxGr"
      }
    },
    {
      "cell_type": "markdown",
      "source": [
        "**Visualization** is one of the best way to get insights from the dataset. **Seaborn** and **Matplotlib** are two of Python's most powerful visualization libraries.\n"
      ],
      "metadata": {
        "id": "2qhgInBkMzZT"
      }
    },
    {
      "cell_type": "code",
      "source": [
        "# import libraries\n",
        "import matplotlib.pyplot as plt\n",
        "import seaborn as sns"
      ],
      "metadata": {
        "id": "sxDntq6mM1US"
      },
      "execution_count": null,
      "outputs": []
    },
    {
      "cell_type": "code",
      "source": [
        "labels= 'Not Diabetic','Diabetic'\n",
        "plt.pie(df['Outcome'].value_counts(),labels=labels,autopct='%0.02f%%')\n",
        "plt.legend()\n",
        "plt.show()"
      ],
      "metadata": {
        "id": "QjK_T8njM3Cg"
      },
      "execution_count": null,
      "outputs": []
    },
    {
      "cell_type": "markdown",
      "source": [
        "As you can see above, 65.10% females are not Diabetic and 34.90% are Diabetic."
      ],
      "metadata": {
        "id": "lydfmuz1M86D"
      }
    },
    {
      "cell_type": "markdown",
      "source": [
        "# Thank you for completing this Notebook"
      ],
      "metadata": {
        "id": "5vArT5NJM_Ns"
      }
    }
  ]
}