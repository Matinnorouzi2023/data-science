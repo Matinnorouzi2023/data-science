{
  "nbformat": 4,
  "nbformat_minor": 0,
  "metadata": {
    "colab": {
      "provenance": [],
      "authorship_tag": "ABX9TyPL20ysJULOfeTbTk3B29Lp",
      "include_colab_link": true
    },
    "kernelspec": {
      "name": "python3",
      "display_name": "Python 3"
    },
    "language_info": {
      "name": "python"
    }
  },
  "cells": [
    {
      "cell_type": "markdown",
      "metadata": {
        "id": "view-in-github",
        "colab_type": "text"
      },
      "source": [
        "<a href=\"https://colab.research.google.com/github/Matinnorouzi2023/data-science/blob/main/HTTP_and_Requests.ipynb\" target=\"_parent\"><img src=\"https://colab.research.google.com/assets/colab-badge.svg\" alt=\"Open In Colab\"/></a>"
      ]
    },
    {
      "cell_type": "markdown",
      "source": [
        "\n",
        "## Objectives\n",
        "\n",
        "After completing this lab you will be able to:\n",
        "\n",
        "*   Understand HTTP\n",
        "*   Handle HTTP Requests"
      ],
      "metadata": {
        "id": "hma8scZClX_6"
      }
    },
    {
      "cell_type": "markdown",
      "source": [
        "<h2>Table of Contents</h2>\n",
        "\n",
        "<div class=\"alert alert-block alert-info\" style=\"margin-top: 20px\">\n",
        "    <ul>\n",
        "        <li>\n",
        "            <a href=\"#Overview-of-HTTP\">Overview of HTTP </a>\n",
        "            <ul>\n",
        "                <li><a href=\"#Uniform-Resource-Locator:URL\">Uniform Resource Locator:URL</a></li>\n",
        "                 <li><a href=\"#Request\">Request</a></li>\n",
        "                <li><a href=\"#Response\">Response</a></li>\n",
        "            </ul>\n",
        "        </li>\n",
        "        <li>\n",
        "            <a href=\"#Requests-in-Python\">Requests in Python  </a>\n",
        "            <ul>\n",
        "                <li><a href=\"#Get-Request-with-URL-Parameters\">Get Request with URL Parameters</a></li>\n",
        "                <li><a href=\"#Post-Requests\">Post Requests </a></li>\n",
        "\n",
        "</ul>\n",
        "\n",
        "</div>\n",
        "\n",
        "<hr>"
      ],
      "metadata": {
        "id": "Ppn2fNYBlgJI"
      }
    },
    {
      "cell_type": "markdown",
      "source": [
        "## Overview of HTTP"
      ],
      "metadata": {
        "id": "2hW_c5UTl1_6"
      }
    },
    {
      "cell_type": "markdown",
      "source": [
        "When you, the **client**, use a web page your browser sends an **HTTP** request to the **server** where the page is hosted. The server tries to find the desired **resource** by default \"<code>index.html</code>\". If your request is successful, the server will send the object to the client in an **HTTP response**. This includes information like the type of the **resource**, the length of the **resource**, and other information.\n",
        "\n",
        "<p>\n",
        "The figure below represents the process. The circle on the left represents the client, the circle on the right represents the Web server. The table under the Web server represents a list of resources stored in the web server. In  this case an <code>HTML</code> file, <code>png</code> image, and <code>txt</code> file .\n",
        "</p>\n",
        "<p>\n",
        "The <b>HTTP</b> protocol allows you to send and receive information through the web including webpages, images, and other web resources. In this lab, we will provide an overview of the Requests library for interacting with the <code>HTTP</code> protocol.\n",
        "</p\n"
      ],
      "metadata": {
        "id": "2JZOlnaEl46x"
      }
    },
    {
      "cell_type": "markdown",
      "source": [
        "<div class=\"alert alert-block alert-info\" style=\"margin-top: 20px\">\n",
        "         <img src=\"https://cf-courses-data.s3.us.cloud-object-storage.appdomain.cloud/IBMDeveloperSkillsNetwork-PY0101EN-SkillsNetwork/labs/Module%205/images/reqest_basics.png\" width=\"750\" align=\"center\">\n",
        "\n",
        "</div>"
      ],
      "metadata": {
        "id": "ygI1d0oml_Qz"
      }
    },
    {
      "cell_type": "markdown",
      "source": [
        "## Uniform Resource Locator:URL"
      ],
      "metadata": {
        "id": "bVgZoDiimMTP"
      }
    },
    {
      "cell_type": "markdown",
      "source": [
        "Uniform resource locator (URL) is the most popular way to find resources on the web.  We can break the URL into three parts.\n",
        "\n",
        "<ul>\n",
        "    <li><b>Scheme</b>:- This is this protocol, for this lab it will always be <code>http://</code>  </li>\n",
        "    <li><b> Internet address or  Base URL </b>:- This will be used to find the location here are some examples: <code>www.ibm.com</code> and  <code> www.gitlab.com </code> </li>\n",
        "    <li><b>Route</b>:- Location on the web server for example: <code>/images/IDSNlogo.png</code> </li>\n",
        "</ul>"
      ],
      "metadata": {
        "id": "q4qGgik4mNMH"
      }
    },
    {
      "cell_type": "markdown",
      "source": [
        "You may also hear the term Uniform Resource Identifier (URI), URL are actually a subset of URIs. Another popular term is endpoint, this is the URL of an operation provided by a Web server.\n"
      ],
      "metadata": {
        "id": "tN4eBskymY5B"
      }
    },
    {
      "cell_type": "markdown",
      "source": [
        "## Request\n"
      ],
      "metadata": {
        "id": "pg01Lfgmmdnn"
      }
    },
    {
      "cell_type": "markdown",
      "source": [
        "The process can be broken into the <b>Request</b> and <b>Response </b> process.  The request using the get method is partially illustrated below. In the start line we have the <code>GET</code> method, this is an <code>HTTP</code> method. Also the location of the resource  <code>/index.html</code> and the <code>HTTP</code> version. The Request header passes additional information with an <code>HTTP</code> request:\n"
      ],
      "metadata": {
        "id": "0X9h-X1VmgvV"
      }
    },
    {
      "cell_type": "markdown",
      "source": [
        "<div class=\"alert alert-block alert-info\" style=\"margin-top: 20px\">\n",
        "         <img src=\"https://cf-courses-data.s3.us.cloud-object-storage.appdomain.cloud/IBMDeveloperSkillsNetwork-PY0101EN-SkillsNetwork/labs/Module%205/images/reqest_messege.png\" width=\"400\" align=\"center\">\n",
        "</div>"
      ],
      "metadata": {
        "id": "ZzwMZTgZmruk"
      }
    },
    {
      "cell_type": "markdown",
      "source": [
        "When an <code>HTTP</code> request is made, an <code>HTTP</code> method is sent, this tells the server what action to perform.  A list of several <code>HTTP</code> methods is shown below. We will go over more examples later."
      ],
      "metadata": {
        "id": "QfGAjkr3mvf2"
      }
    },
    {
      "cell_type": "markdown",
      "source": [
        "<div class=\"alert alert-block alert-info\" style=\"margin-top: 20px\">\n",
        "         <img src=\"https://cf-courses-data.s3.us.cloud-object-storage.appdomain.cloud/IBMDeveloperSkillsNetwork-PY0101EN-SkillsNetwork/labs/Module%205/images/http_methods.png\" width=\"400\" align=\"center\">\n",
        "</div>"
      ],
      "metadata": {
        "id": "JtITXptrm_UN"
      }
    },
    {
      "cell_type": "markdown",
      "source": [
        "## Response\n"
      ],
      "metadata": {
        "id": "Jacb01KCnDDI"
      }
    },
    {
      "cell_type": "markdown",
      "source": [
        "The figure below represents the response; the response start line contains the version number <code>HTTP/1.0</code>, a status code (200) meaning success, followed by a descriptive phrase (OK). The response header contains useful information. Finally, we have the response body containing the requested file, an <code> HTML </code> document.  It should be noted that some requests have headers."
      ],
      "metadata": {
        "id": "Si-mimMenGSZ"
      }
    },
    {
      "cell_type": "markdown",
      "source": [
        "<div class=\"alert alert-block alert-info\" style=\"margin-top: 20px\">\n",
        "         <img src=\"https://cf-courses-data.s3.us.cloud-object-storage.appdomain.cloud/IBMDeveloperSkillsNetwork-PY0101EN-SkillsNetwork/labs/Module%205/images/response_message.png\" width=\"400\" align=\"center\">\n",
        "</div>\n"
      ],
      "metadata": {
        "id": "OhX3DSu8nKnG"
      }
    },
    {
      "cell_type": "markdown",
      "source": [
        "Some status code examples are shown in the table below, the prefix indicates the class. These are shown in yellow, with actual status codes shown in  white. Check out the following <a href=\"https://developer.mozilla.org/en-US/docs/Web/HTTP/Status?utm_medium=Exinfluencer&utm_source=Exinfluencer&utm_content=000026UJ&utm_term=10006555&utm_id=NA-SkillsNetwork-Channel-SkillsNetworkCoursesIBMDeveloperSkillsNetworkPY0101ENSkillsNetwork19487395-2021-01-01\">link </a> for more descriptions."
      ],
      "metadata": {
        "id": "eQX8FOSRn00D"
      }
    },
    {
      "cell_type": "markdown",
      "source": [
        "<div class=\"alert alert-block alert-info\" style=\"margin-top: 20px\">\n",
        "         <img src=\"https://cf-courses-data.s3.us.cloud-object-storage.appdomain.cloud/IBMDeveloperSkillsNetwork-PY0101EN-SkillsNetwork/labs/Module%205/images/status_code.png\" width=\"300\" align=\"center\">\n",
        "</div>\n"
      ],
      "metadata": {
        "id": "wekfniyHn-Ig"
      }
    },
    {
      "cell_type": "code",
      "source": [],
      "metadata": {
        "id": "9RobGReSoJKH"
      },
      "execution_count": null,
      "outputs": []
    },
    {
      "cell_type": "markdown",
      "source": [
        "## Requests in Python\n"
      ],
      "metadata": {
        "id": "-Cm6m1gVoBcV"
      }
    },
    {
      "cell_type": "markdown",
      "source": [
        "Requests is a Python Library that allows you to send <code>HTTP/1.1</code> requests easily. We can import the library as follows:"
      ],
      "metadata": {
        "id": "YaQYghwgoESu"
      }
    },
    {
      "cell_type": "code",
      "source": [
        "import requests"
      ],
      "metadata": {
        "id": "NJCQs3hzlgxx"
      },
      "execution_count": null,
      "outputs": []
    },
    {
      "cell_type": "markdown",
      "source": [
        "We will also use the following libraries:\n"
      ],
      "metadata": {
        "id": "cSUfRqt4oObo"
      }
    },
    {
      "cell_type": "code",
      "execution_count": null,
      "metadata": {
        "id": "PSh9WKTFhOLe"
      },
      "outputs": [],
      "source": [
        "import os\n",
        "from PIL import Image\n",
        "from IPython.display import IFrame"
      ]
    }
  ]
}