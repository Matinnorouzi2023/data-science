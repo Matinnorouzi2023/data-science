{
  "nbformat": 4,
  "nbformat_minor": 0,
  "metadata": {
    "colab": {
      "provenance": [],
      "authorship_tag": "ABX9TyNkmMsDJnar5YdpQH4gy3yS",
      "include_colab_link": true
    },
    "kernelspec": {
      "name": "python3",
      "display_name": "Python 3"
    },
    "language_info": {
      "name": "python"
    }
  },
  "cells": [
    {
      "cell_type": "markdown",
      "metadata": {
        "id": "view-in-github",
        "colab_type": "text"
      },
      "source": [
        "<a href=\"https://colab.research.google.com/github/Matinnorouzi2023/data-science/blob/main/Web_Scraping_Lab.ipynb\" target=\"_parent\"><img src=\"https://colab.research.google.com/assets/colab-badge.svg\" alt=\"Open In Colab\"/></a>"
      ]
    },
    {
      "cell_type": "markdown",
      "source": [
        "# **Web Scraping Lab**"
      ],
      "metadata": {
        "id": "bQTkZhqczcCV"
      }
    },
    {
      "cell_type": "markdown",
      "source": [
        "## Objectives"
      ],
      "metadata": {
        "id": "dhtf8V3fzb52"
      }
    },
    {
      "cell_type": "markdown",
      "source": [
        "After completing this lab you will be:\n",
        "\n",
        "*   Familiar with the basics of the `BeautifulSoup` Python library\n",
        "*   Be able to scrape webpages for data and filter the data"
      ],
      "metadata": {
        "id": "4CuvLRRyzTRQ"
      }
    },
    {
      "cell_type": "markdown",
      "source": [
        "<h2>Table of Contents</h2>\n",
        "<div class=\"alert alert-block alert-info\" style=\"margin-top: 20px\">\n",
        "    <ul>\n",
        "        <li>\n",
        "            <a href=\"#Beautiful-Soup-Object\">Beautiful Soup Object</a>\n",
        "            <ul>\n",
        "                <li><a href=\"#Tags\">Tags</a></li>\n",
        "                <li><a href=\"#Children,-Parents,-and-Siblings\">Children, Parents, and Siblings</a></li>\n",
        "                <li><a href=\"#HTML-Attributes\">HTML Attributes</a></li>\n",
        "                <li><a href=\"#Navigable-String\">Navigable String</a></li>\n",
        "            </ul>\n",
        "        </li>\n",
        "     </ul>\n",
        "    <ul>\n",
        "        <li>\n",
        "            <a href=\"#Filter\">Filter</a>\n",
        "            <ul>\n",
        "                <li><a href=\"#find_All\">find_All</a></li>\n",
        "                <li><a href=\"#find\">find</a></li>\n",
        "            </ul>\n",
        "        </li>\n",
        "     </ul>\n",
        "     <ul>\n",
        "        <li>\n",
        "            <a href=\"#Downloading-And-Scraping-The-Contents-Of-A-Web-Page\">Downloading And Scraping The Contents Of A Web Page</a></li>\n",
        "         <li> <a href=\"#Scraping-tables-from-a-Web-page-using-Pandas\">Scraping tables from a Web page using Pandas</a></li>\n",
        "    </ul>\n",
        "\n",
        "</div>\n",
        "\n",
        "<hr>\n"
      ],
      "metadata": {
        "id": "bXwxry_uztkW"
      }
    },
    {
      "cell_type": "markdown",
      "source": [
        "For this lab, we are going to be using Python and several Python libraries. Some of these libraries might be installed in your lab environment or in SN Labs. Others may need to be installed by you. The cells below will install these libraries when executed."
      ],
      "metadata": {
        "id": "2jUtFyeGztrL"
      }
    },
    {
      "cell_type": "code",
      "execution_count": 6,
      "metadata": {
        "colab": {
          "base_uri": "https://localhost:8080/"
        },
        "id": "UX0LlLZgzPnz",
        "outputId": "24665ec5-01b2-4556-a9ac-90c62cb7bef8"
      },
      "outputs": [
        {
          "output_type": "stream",
          "name": "stdout",
          "text": [
            "Requirement already satisfied: html5lib in /usr/local/lib/python3.10/dist-packages (1.1)\n",
            "Requirement already satisfied: six>=1.9 in /usr/local/lib/python3.10/dist-packages (from html5lib) (1.16.0)\n",
            "Requirement already satisfied: webencodings in /usr/local/lib/python3.10/dist-packages (from html5lib) (0.5.1)\n"
          ]
        }
      ],
      "source": [
        "!pip install html5lib"
      ]
    },
    {
      "cell_type": "markdown",
      "source": [
        "**Note:- After running the above code cell, restart the kernel and don't run the above code cell after restarting the kernel.**\n"
      ],
      "metadata": {
        "id": "aoGVTcqaztzi"
      }
    },
    {
      "cell_type": "code",
      "source": [
        "!pip install bs4\n",
        "#!pip install requests"
      ],
      "metadata": {
        "colab": {
          "base_uri": "https://localhost:8080/"
        },
        "id": "-rEYcGSSz8P2",
        "outputId": "778c516d-03a9-4607-f9b6-63d8788de8b1"
      },
      "execution_count": 7,
      "outputs": [
        {
          "output_type": "stream",
          "name": "stdout",
          "text": [
            "Requirement already satisfied: bs4 in /usr/local/lib/python3.10/dist-packages (0.0.1)\n",
            "Requirement already satisfied: beautifulsoup4 in /usr/local/lib/python3.10/dist-packages (from bs4) (4.11.2)\n",
            "Requirement already satisfied: soupsieve>1.2 in /usr/local/lib/python3.10/dist-packages (from beautifulsoup4->bs4) (2.5)\n"
          ]
        }
      ]
    },
    {
      "cell_type": "markdown",
      "source": [
        "Import the required modules and functions"
      ],
      "metadata": {
        "id": "AQNPqCZUz_eH"
      }
    },
    {
      "cell_type": "code",
      "source": [
        "from bs4 import BeautifulSoup # this module helps in web scrapping.\n",
        "import requests  # this module helps us to download a web page"
      ],
      "metadata": {
        "id": "2OGfXohY0F3X"
      },
      "execution_count": 8,
      "outputs": []
    },
    {
      "cell_type": "markdown",
      "source": [
        "## Beautiful Soup Object\n"
      ],
      "metadata": {
        "id": "4RYeiwHp0JgX"
      }
    },
    {
      "cell_type": "markdown",
      "source": [
        "Beautiful Soup is a Python library for pulling data out of HTML and XML files, we will focus on HTML files. This is accomplished by representing the HTML as a set of objects with methods used to parse the HTML.  We can navigate the HTML as a tree, and/or filter out what we are looking for.\n",
        "\n",
        "Consider the following HTML:\n"
      ],
      "metadata": {
        "id": "lg8B0mCV0MUC"
      }
    },
    {
      "cell_type": "code",
      "source": [
        "%%html\n",
        "<!DOCTYPE html>\n",
        "<html>\n",
        "<head>\n",
        "<title>Page Title</title>\n",
        "</head>\n",
        "<body>\n",
        "<h3><b id='boldest'>Lebron James</b></h3>\n",
        "<p> Salary: $ 92,000,000 </p>\n",
        "<h3> Stephen Curry</h3>\n",
        "<p> Salary: $85,000, 000 </p>\n",
        "<h3> Kevin Durant </h3>\n",
        "<p> Salary: $73,200, 000</p>\n",
        "</body>\n",
        "</html>"
      ],
      "metadata": {
        "colab": {
          "base_uri": "https://localhost:8080/",
          "height": 203
        },
        "id": "wyvgHGsU0O3S",
        "outputId": "b69a0520-a217-4b67-9073-cfdf885afdfd"
      },
      "execution_count": 9,
      "outputs": [
        {
          "output_type": "display_data",
          "data": {
            "text/plain": [
              "<IPython.core.display.HTML object>"
            ],
            "text/html": [
              "<!DOCTYPE html>\n",
              "<html>\n",
              "<head>\n",
              "<title>Page Title</title>\n",
              "</head>\n",
              "<body>\n",
              "<h3><b id='boldest'>Lebron James</b></h3>\n",
              "<p> Salary: $ 92,000,000 </p>\n",
              "<h3> Stephen Curry</h3>\n",
              "<p> Salary: $85,000, 000 </p>\n",
              "<h3> Kevin Durant </h3>\n",
              "<p> Salary: $73,200, 000</p>\n",
              "</body>\n",
              "</html>\n"
            ]
          },
          "metadata": {}
        }
      ]
    },
    {
      "cell_type": "markdown",
      "source": [
        "We can store it as a string in the variable HTML:"
      ],
      "metadata": {
        "id": "xF-3_ANj0WOE"
      }
    },
    {
      "cell_type": "code",
      "source": [
        "html=\"<!DOCTYPE html><html><head><title>Page Title</title></head><body><h3><b id='boldest'>Lebron James</b></h3><p> Salary: $ 92,000,000 </p><h3> Stephen Curry</h3><p> Salary: $85,000, 000 </p><h3> Kevin Durant </h3><p> Salary: $73,200, 000</p></body></html>\""
      ],
      "metadata": {
        "id": "2NU9sBj10an9"
      },
      "execution_count": 10,
      "outputs": []
    },
    {
      "cell_type": "markdown",
      "source": [
        "To parse a document, pass it into the <code>BeautifulSoup</code> constructor. The <code>BeautifulSoup</code> object represents the document as a nested data structure:"
      ],
      "metadata": {
        "id": "0jZN2g_E0hTi"
      }
    },
    {
      "cell_type": "code",
      "source": [
        "soup = BeautifulSoup(html, 'html5lib')"
      ],
      "metadata": {
        "id": "vVAiUzSG0kMy"
      },
      "execution_count": 11,
      "outputs": []
    },
    {
      "cell_type": "markdown",
      "source": [
        "First, the document is converted to Unicode (similar to ASCII) and HTML entities are converted to Unicode characters. Beautiful Soup transforms a complex HTML document into a complex tree of Python objects. The <code>BeautifulSoup</code> object can create other types of objects. In this lab, we will cover <code>BeautifulSoup</code> and <code>Tag</code> objects, that for the purposes of this lab are identical. Finally, we will look at <code>NavigableString</code> objects."
      ],
      "metadata": {
        "id": "PsYp-3lW0mxr"
      }
    },
    {
      "cell_type": "markdown",
      "source": [
        "We can use the method <code>prettify()</code> to display the HTML in the nested structure:"
      ],
      "metadata": {
        "id": "0Cxn_5FR0pX4"
      }
    },
    {
      "cell_type": "code",
      "source": [
        "print(soup.prettify())"
      ],
      "metadata": {
        "colab": {
          "base_uri": "https://localhost:8080/"
        },
        "id": "ZxXbOMFx0rQ4",
        "outputId": "75228369-a9dd-44e0-e858-2dd2e87964ab"
      },
      "execution_count": 12,
      "outputs": [
        {
          "output_type": "stream",
          "name": "stdout",
          "text": [
            "<!DOCTYPE html>\n",
            "<html>\n",
            " <head>\n",
            "  <title>\n",
            "   Page Title\n",
            "  </title>\n",
            " </head>\n",
            " <body>\n",
            "  <h3>\n",
            "   <b id=\"boldest\">\n",
            "    Lebron James\n",
            "   </b>\n",
            "  </h3>\n",
            "  <p>\n",
            "   Salary: $ 92,000,000\n",
            "  </p>\n",
            "  <h3>\n",
            "   Stephen Curry\n",
            "  </h3>\n",
            "  <p>\n",
            "   Salary: $85,000, 000\n",
            "  </p>\n",
            "  <h3>\n",
            "   Kevin Durant\n",
            "  </h3>\n",
            "  <p>\n",
            "   Salary: $73,200, 000\n",
            "  </p>\n",
            " </body>\n",
            "</html>\n"
          ]
        }
      ]
    },
    {
      "cell_type": "markdown",
      "source": [
        "## Tags"
      ],
      "metadata": {
        "id": "QmMJOGpt0tdu"
      }
    },
    {
      "cell_type": "markdown",
      "source": [
        "Let's say we want the  title of the page and the name of the top paid player. We can use the <code>Tag</code>. The <code>Tag</code> object corresponds to an HTML tag in the original document, for example, the tag title."
      ],
      "metadata": {
        "id": "uwDDOEa-0vn6"
      }
    },
    {
      "cell_type": "code",
      "source": [
        "tag_object=soup.title\n",
        "print(\"tag object:\",tag_object)"
      ],
      "metadata": {
        "colab": {
          "base_uri": "https://localhost:8080/"
        },
        "id": "twwginCA0ycP",
        "outputId": "8e009bee-f738-4722-d5e1-bd94e96d5c5e"
      },
      "execution_count": 13,
      "outputs": [
        {
          "output_type": "stream",
          "name": "stdout",
          "text": [
            "tag object: <title>Page Title</title>\n"
          ]
        }
      ]
    },
    {
      "cell_type": "markdown",
      "source": [
        "we can see the tag type <code>bs4.element.Tag</code>"
      ],
      "metadata": {
        "id": "RfWeL1Q600q2"
      }
    },
    {
      "cell_type": "code",
      "source": [
        "print(\"tag object type:\",type(tag_object))"
      ],
      "metadata": {
        "colab": {
          "base_uri": "https://localhost:8080/"
        },
        "id": "N38zT3Jo042e",
        "outputId": "0cd21ed6-8c01-41c4-fa79-eafe3167f31a"
      },
      "execution_count": 14,
      "outputs": [
        {
          "output_type": "stream",
          "name": "stdout",
          "text": [
            "tag object type: <class 'bs4.element.Tag'>\n"
          ]
        }
      ]
    },
    {
      "cell_type": "markdown",
      "source": [
        "If there is more than one <code>Tag</code> with the same name, the first element with that <code>Tag</code> name is called. This corresponds to the most paid player:\n"
      ],
      "metadata": {
        "id": "vfzo6YJS07Ji"
      }
    },
    {
      "cell_type": "code",
      "source": [
        "tag_object=soup.h3\n",
        "tag_object"
      ],
      "metadata": {
        "colab": {
          "base_uri": "https://localhost:8080/"
        },
        "id": "XkCqpHwa09CN",
        "outputId": "a436c3ea-bf10-47ed-b5b0-3a04cb0ce590"
      },
      "execution_count": 15,
      "outputs": [
        {
          "output_type": "execute_result",
          "data": {
            "text/plain": [
              "<h3><b id=\"boldest\">Lebron James</b></h3>"
            ]
          },
          "metadata": {},
          "execution_count": 15
        }
      ]
    },
    {
      "cell_type": "markdown",
      "source": [
        "Enclosed in the bold attribute <code>b</code>, it helps to use the tree representation. We can navigate down the tree using the child attribute to get the name."
      ],
      "metadata": {
        "id": "iyTe_hV20_G4"
      }
    },
    {
      "cell_type": "markdown",
      "source": [
        "### Children, Parents, and Siblings"
      ],
      "metadata": {
        "id": "didmQfLh1C24"
      }
    },
    {
      "cell_type": "markdown",
      "source": [
        "As stated above, the <code>Tag</code> object is a tree of objects. We can access the child of the tag or navigate down the branch as follows:\n"
      ],
      "metadata": {
        "id": "iWtkfP-D1EpM"
      }
    },
    {
      "cell_type": "code",
      "source": [
        "tag_child =tag_object.b\n",
        "tag_child"
      ],
      "metadata": {
        "colab": {
          "base_uri": "https://localhost:8080/"
        },
        "id": "t3TFZ8Vl1GqI",
        "outputId": "14e80d4f-454c-42ac-f57a-c36144ea8998"
      },
      "execution_count": 16,
      "outputs": [
        {
          "output_type": "execute_result",
          "data": {
            "text/plain": [
              "<b id=\"boldest\">Lebron James</b>"
            ]
          },
          "metadata": {},
          "execution_count": 16
        }
      ]
    },
    {
      "cell_type": "markdown",
      "source": [
        "You can access the parent with the <code> parent</code>."
      ],
      "metadata": {
        "id": "EPVHqIj31Jvb"
      }
    },
    {
      "cell_type": "code",
      "source": [
        "parent_tag=tag_child.parent\n",
        "parent_tag"
      ],
      "metadata": {
        "colab": {
          "base_uri": "https://localhost:8080/"
        },
        "id": "iaOhin541LW9",
        "outputId": "ebdb57f8-4658-44b1-d821-b417e070e1bc"
      },
      "execution_count": 17,
      "outputs": [
        {
          "output_type": "execute_result",
          "data": {
            "text/plain": [
              "<h3><b id=\"boldest\">Lebron James</b></h3>"
            ]
          },
          "metadata": {},
          "execution_count": 17
        }
      ]
    },
    {
      "cell_type": "markdown",
      "source": [
        "this is identical to:"
      ],
      "metadata": {
        "id": "xPTlUyeT1Nea"
      }
    },
    {
      "cell_type": "code",
      "source": [
        "tag_object"
      ],
      "metadata": {
        "colab": {
          "base_uri": "https://localhost:8080/"
        },
        "id": "-4lWZGI71Pgr",
        "outputId": "0d73c23b-9fed-4dcb-b495-c1cc7f0360a4"
      },
      "execution_count": 18,
      "outputs": [
        {
          "output_type": "execute_result",
          "data": {
            "text/plain": [
              "<h3><b id=\"boldest\">Lebron James</b></h3>"
            ]
          },
          "metadata": {},
          "execution_count": 18
        }
      ]
    },
    {
      "cell_type": "markdown",
      "source": [
        "<code>tag_object</code> parent is the <code>body</code> element."
      ],
      "metadata": {
        "id": "66cLieZV1b8F"
      }
    },
    {
      "cell_type": "code",
      "source": [
        "tag_object.parent"
      ],
      "metadata": {
        "colab": {
          "base_uri": "https://localhost:8080/"
        },
        "id": "I_UhdzOb1PTB",
        "outputId": "1e69363e-46d3-4875-9390-c63dbb2d7c46"
      },
      "execution_count": 19,
      "outputs": [
        {
          "output_type": "execute_result",
          "data": {
            "text/plain": [
              "<body><h3><b id=\"boldest\">Lebron James</b></h3><p> Salary: $ 92,000,000 </p><h3> Stephen Curry</h3><p> Salary: $85,000, 000 </p><h3> Kevin Durant </h3><p> Salary: $73,200, 000</p></body>"
            ]
          },
          "metadata": {},
          "execution_count": 19
        }
      ]
    },
    {
      "cell_type": "markdown",
      "source": [
        "<code>tag_object</code> sibling is the <code>paragraph</code> element."
      ],
      "metadata": {
        "id": "lHWeVg1J1i-0"
      }
    },
    {
      "cell_type": "code",
      "source": [
        "sibling_1=tag_object.next_sibling\n",
        "sibling_1"
      ],
      "metadata": {
        "colab": {
          "base_uri": "https://localhost:8080/"
        },
        "id": "kjmXF-6D1leE",
        "outputId": "1f1d055f-80ea-4c9a-c731-0bd1ac9a3852"
      },
      "execution_count": 20,
      "outputs": [
        {
          "output_type": "execute_result",
          "data": {
            "text/plain": [
              "<p> Salary: $ 92,000,000 </p>"
            ]
          },
          "metadata": {},
          "execution_count": 20
        }
      ]
    },
    {
      "cell_type": "markdown",
      "source": [
        "`sibling_2` is the `header` element, which is also a sibling of both `sibling_1` and `tag_object`"
      ],
      "metadata": {
        "id": "XTOyt7E51n0F"
      }
    },
    {
      "cell_type": "code",
      "source": [
        "sibling_2=sibling_1.next_sibling\n",
        "sibling_2"
      ],
      "metadata": {
        "colab": {
          "base_uri": "https://localhost:8080/"
        },
        "id": "Ss9QFZ4-1p4j",
        "outputId": "c850ca95-827c-4d7b-f061-178d9194e66f"
      },
      "execution_count": 21,
      "outputs": [
        {
          "output_type": "execute_result",
          "data": {
            "text/plain": [
              "<h3> Stephen Curry</h3>"
            ]
          },
          "metadata": {},
          "execution_count": 21
        }
      ]
    },
    {
      "cell_type": "markdown",
      "source": [
        "<h3 id=\"first_question\">Exercise: <code>next_sibling</code></h3>"
      ],
      "metadata": {
        "id": "jMuMhWX61r8k"
      }
    },
    {
      "cell_type": "markdown",
      "source": [
        "Use the object <code>sibling\\_2</code> and the method <code>next_sibling</code> to find the salary of Stephen Curry:"
      ],
      "metadata": {
        "id": "sw7EEpfU1zet"
      }
    },
    {
      "cell_type": "markdown",
      "source": [
        "<details><summary>Click here for the solution</summary>\n",
        "\n",
        "```\n",
        "sibling_2.next_sibling\n",
        "\n",
        "```\n",
        "\n",
        "</details>\n"
      ],
      "metadata": {
        "id": "KZVNAYDF14cH"
      }
    },
    {
      "cell_type": "code",
      "source": [
        "sibling_2.next_sibling"
      ],
      "metadata": {
        "colab": {
          "base_uri": "https://localhost:8080/"
        },
        "id": "E8PEYSmM1yyj",
        "outputId": "40ee273e-79c3-4e84-947d-e5b97e7637db"
      },
      "execution_count": 22,
      "outputs": [
        {
          "output_type": "execute_result",
          "data": {
            "text/plain": [
              "<p> Salary: $85,000, 000 </p>"
            ]
          },
          "metadata": {},
          "execution_count": 22
        }
      ]
    },
    {
      "cell_type": "markdown",
      "source": [
        "### HTML Attributes"
      ],
      "metadata": {
        "id": "Esxu_mA11913"
      }
    },
    {
      "cell_type": "markdown",
      "source": [
        "If the tag has attributes, the tag <code>id=\"boldest\"</code> has an attribute <code>id</code> whose value is <code>boldest</code>. You can access a tag's attributes by treating the tag like a dictionary:"
      ],
      "metadata": {
        "id": "HF_xm-QQ2AAz"
      }
    },
    {
      "cell_type": "code",
      "source": [
        "tag_child['id']"
      ],
      "metadata": {
        "colab": {
          "base_uri": "https://localhost:8080/",
          "height": 36
        },
        "id": "gL0rfxUe2DIa",
        "outputId": "ac85ba4c-4750-4913-c858-e4b7de486df3"
      },
      "execution_count": 23,
      "outputs": [
        {
          "output_type": "execute_result",
          "data": {
            "text/plain": [
              "'boldest'"
            ],
            "application/vnd.google.colaboratory.intrinsic+json": {
              "type": "string"
            }
          },
          "metadata": {},
          "execution_count": 23
        }
      ]
    },
    {
      "cell_type": "markdown",
      "source": [
        "You can access that dictionary directly as <code>attrs</code>:"
      ],
      "metadata": {
        "id": "rFgzTCLe2IH7"
      }
    },
    {
      "cell_type": "code",
      "source": [
        "tag_child.attrs"
      ],
      "metadata": {
        "colab": {
          "base_uri": "https://localhost:8080/"
        },
        "id": "ZBRnT6222KJa",
        "outputId": "21f24c7f-0b5c-441f-f65f-4ecb31211c60"
      },
      "execution_count": 24,
      "outputs": [
        {
          "output_type": "execute_result",
          "data": {
            "text/plain": [
              "{'id': 'boldest'}"
            ]
          },
          "metadata": {},
          "execution_count": 24
        }
      ]
    },
    {
      "cell_type": "markdown",
      "source": [
        "You can also work with Multi-valued attributes. Check out <a href=\"https://www.crummy.com/software/BeautifulSoup/bs4/doc/?utm_medium=Exinfluencer&utm_source=Exinfluencer&utm_content=000026UJ&utm_term=10006555&utm_id=NA-SkillsNetwork-Channel-SkillsNetworkCoursesIBMDeveloperSkillsNetworkPY0101ENSkillsNetwork19487395-2021-01-01\">\\[1]</a> for more.\n"
      ],
      "metadata": {
        "id": "ZxO5Ebyu2Mjd"
      }
    },
    {
      "cell_type": "markdown",
      "source": [
        "We can also obtain the content of the attribute of the <code>tag</code> using the Python <code>get()</code> method."
      ],
      "metadata": {
        "id": "qmLSKv6P2O_j"
      }
    },
    {
      "cell_type": "code",
      "source": [
        "tag_child.get('id')"
      ],
      "metadata": {
        "colab": {
          "base_uri": "https://localhost:8080/",
          "height": 36
        },
        "id": "BjbydWJA2RSh",
        "outputId": "bbf31abd-ccc5-4fee-a8fc-374fe590b9a3"
      },
      "execution_count": 25,
      "outputs": [
        {
          "output_type": "execute_result",
          "data": {
            "text/plain": [
              "'boldest'"
            ],
            "application/vnd.google.colaboratory.intrinsic+json": {
              "type": "string"
            }
          },
          "metadata": {},
          "execution_count": 25
        }
      ]
    },
    {
      "cell_type": "markdown",
      "source": [
        "### Navigable String"
      ],
      "metadata": {
        "id": "O5CtvrXJ2TV-"
      }
    },
    {
      "cell_type": "markdown",
      "source": [
        "A string corresponds to a bit of text or content within a tag. Beautiful Soup uses the <code>NavigableString</code> class to contain this text. In our HTML we can obtain the name of the first player by extracting the string of the <code>Tag</code> object <code>tag_child</code> as follows:\n"
      ],
      "metadata": {
        "id": "roF2BL0G2VVK"
      }
    },
    {
      "cell_type": "code",
      "source": [
        "tag_string=tag_child.string\n",
        "tag_string"
      ],
      "metadata": {
        "colab": {
          "base_uri": "https://localhost:8080/",
          "height": 36
        },
        "id": "v3H6vwMj2XiG",
        "outputId": "844bc662-677d-48a4-e4bf-7511f1e496f5"
      },
      "execution_count": 26,
      "outputs": [
        {
          "output_type": "execute_result",
          "data": {
            "text/plain": [
              "'Lebron James'"
            ],
            "application/vnd.google.colaboratory.intrinsic+json": {
              "type": "string"
            }
          },
          "metadata": {},
          "execution_count": 26
        }
      ]
    },
    {
      "cell_type": "markdown",
      "source": [
        "we can verify the type is Navigable String"
      ],
      "metadata": {
        "id": "Zk63qQM32Zma"
      }
    },
    {
      "cell_type": "code",
      "source": [
        "type(tag_string)"
      ],
      "metadata": {
        "colab": {
          "base_uri": "https://localhost:8080/"
        },
        "id": "ThUqhAkO2bl4",
        "outputId": "7849cff1-fc85-4c9e-8a56-47a8ef35c2e1"
      },
      "execution_count": 27,
      "outputs": [
        {
          "output_type": "execute_result",
          "data": {
            "text/plain": [
              "bs4.element.NavigableString"
            ]
          },
          "metadata": {},
          "execution_count": 27
        }
      ]
    },
    {
      "cell_type": "markdown",
      "source": [
        "A NavigableString is similar to a Python string or Unicode string. To be more precise, the main difference is that it also supports some <code>BeautifulSoup</code> features. We can convert it to string object in Python:"
      ],
      "metadata": {
        "id": "n9LyI6YN2dlW"
      }
    },
    {
      "cell_type": "code",
      "source": [
        "unicode_string = str(tag_string)\n",
        "unicode_string"
      ],
      "metadata": {
        "colab": {
          "base_uri": "https://localhost:8080/",
          "height": 36
        },
        "id": "pRmKORAU2g8Q",
        "outputId": "0604177a-c926-47ae-97f6-6d745113f7c2"
      },
      "execution_count": 28,
      "outputs": [
        {
          "output_type": "execute_result",
          "data": {
            "text/plain": [
              "'Lebron James'"
            ],
            "application/vnd.google.colaboratory.intrinsic+json": {
              "type": "string"
            }
          },
          "metadata": {},
          "execution_count": 28
        }
      ]
    },
    {
      "cell_type": "markdown",
      "source": [
        "## Filter"
      ],
      "metadata": {
        "id": "GIEEPtCf2inN"
      }
    },
    {
      "cell_type": "markdown",
      "source": [
        "Filters allow you to find complex patterns, the simplest filter is a string. In this section we will pass a string to a different filter method and Beautiful Soup will perform a match against that exact string. Consider the following HTML of rocket launches:\n"
      ],
      "metadata": {
        "id": "atrLgpRh2lDx"
      }
    },
    {
      "cell_type": "code",
      "source": [
        "%%html\n",
        "<table>\n",
        "  <tr>\n",
        "    <td id='flight' >Flight No</td>\n",
        "    <td>Launch site</td>\n",
        "    <td>Payload mass</td>\n",
        "   </tr>\n",
        "  <tr>\n",
        "    <td>1</td>\n",
        "    <td><a href='https://en.wikipedia.org/wiki/Florida'>Florida</a></td>\n",
        "    <td>300 kg</td>\n",
        "  </tr>\n",
        "  <tr>\n",
        "    <td>2</td>\n",
        "    <td><a href='https://en.wikipedia.org/wiki/Texas'>Texas</a></td>\n",
        "    <td>94 kg</td>\n",
        "  </tr>\n",
        "  <tr>\n",
        "    <td>3</td>\n",
        "    <td><a href='https://en.wikipedia.org/wiki/Florida'>Florida<a> </td>\n",
        "    <td>80 kg</td>\n",
        "  </tr>\n",
        "</table>"
      ],
      "metadata": {
        "colab": {
          "base_uri": "https://localhost:8080/",
          "height": 102
        },
        "id": "ZWOoEhxj2nUu",
        "outputId": "b2a2c990-9eef-4165-9110-d804efa796f9"
      },
      "execution_count": 29,
      "outputs": [
        {
          "output_type": "display_data",
          "data": {
            "text/plain": [
              "<IPython.core.display.HTML object>"
            ],
            "text/html": [
              "<table>\n",
              "  <tr>\n",
              "    <td id='flight' >Flight No</td>\n",
              "    <td>Launch site</td> \n",
              "    <td>Payload mass</td>\n",
              "   </tr>\n",
              "  <tr> \n",
              "    <td>1</td>\n",
              "    <td><a href='https://en.wikipedia.org/wiki/Florida'>Florida</a></td>\n",
              "    <td>300 kg</td>\n",
              "  </tr>\n",
              "  <tr>\n",
              "    <td>2</td>\n",
              "    <td><a href='https://en.wikipedia.org/wiki/Texas'>Texas</a></td>\n",
              "    <td>94 kg</td>\n",
              "  </tr>\n",
              "  <tr>\n",
              "    <td>3</td>\n",
              "    <td><a href='https://en.wikipedia.org/wiki/Florida'>Florida<a> </td>\n",
              "    <td>80 kg</td>\n",
              "  </tr>\n",
              "</table>\n"
            ]
          },
          "metadata": {}
        }
      ]
    },
    {
      "cell_type": "markdown",
      "source": [
        "We can store it as a string in the variable <code>table</code>:"
      ],
      "metadata": {
        "id": "y-5SVdC42r3S"
      }
    },
    {
      "cell_type": "code",
      "source": [
        "table=\"<table><tr><td id='flight'>Flight No</td><td>Launch site</td> <td>Payload mass</td></tr><tr> <td>1</td><td><a href='https://en.wikipedia.org/wiki/Florida'>Florida<a></td><td>300 kg</td></tr><tr><td>2</td><td><a href='https://en.wikipedia.org/wiki/Texas'>Texas</a></td><td>94 kg</td></tr><tr><td>3</td><td><a href='https://en.wikipedia.org/wiki/Florida'>Florida<a> </td><td>80 kg</td></tr></table>\""
      ],
      "metadata": {
        "id": "KTynPjl32xVS"
      },
      "execution_count": 30,
      "outputs": []
    },
    {
      "cell_type": "code",
      "source": [
        "table_bs = BeautifulSoup(table, 'html5lib')"
      ],
      "metadata": {
        "id": "w6x2EQoo2zHL"
      },
      "execution_count": 31,
      "outputs": []
    },
    {
      "cell_type": "markdown",
      "source": [
        "## find_All"
      ],
      "metadata": {
        "id": "MvKvZmof23fN"
      }
    },
    {
      "cell_type": "markdown",
      "source": [
        "The <code>find_all()</code> method looks through a tag's descendants and retrieves all descendants that match your filters.\n",
        "\n",
        "<p>\n",
        "The Method signature for <code>find_all(name, attrs, recursive, string, limit, **kwargs)<c/ode>\n",
        "</p>\n"
      ],
      "metadata": {
        "id": "AAl84gov26eq"
      }
    },
    {
      "cell_type": "markdown",
      "source": [
        "### Name"
      ],
      "metadata": {
        "id": "NJ-6fjWg29j5"
      }
    },
    {
      "cell_type": "markdown",
      "source": [
        "When we set the <code>name</code> parameter to a tag name, the method will extract all the tags with that name and its children."
      ],
      "metadata": {
        "id": "MS8WtIzD2_0w"
      }
    },
    {
      "cell_type": "code",
      "source": [
        "table_rows=table_bs.find_all('tr')\n",
        "table_rows"
      ],
      "metadata": {
        "colab": {
          "base_uri": "https://localhost:8080/"
        },
        "id": "BXE3yfMy3CEa",
        "outputId": "1511cb4a-87d0-4c5c-f035-f7ceab398661"
      },
      "execution_count": 32,
      "outputs": [
        {
          "output_type": "execute_result",
          "data": {
            "text/plain": [
              "[<tr><td id=\"flight\">Flight No</td><td>Launch site</td> <td>Payload mass</td></tr>,\n",
              " <tr> <td>1</td><td><a href=\"https://en.wikipedia.org/wiki/Florida\">Florida</a><a></a></td><td>300 kg</td></tr>,\n",
              " <tr><td>2</td><td><a href=\"https://en.wikipedia.org/wiki/Texas\">Texas</a></td><td>94 kg</td></tr>,\n",
              " <tr><td>3</td><td><a href=\"https://en.wikipedia.org/wiki/Florida\">Florida</a><a> </a></td><td>80 kg</td></tr>]"
            ]
          },
          "metadata": {},
          "execution_count": 32
        }
      ]
    },
    {
      "cell_type": "markdown",
      "source": [
        "The result is a Python iterable just like a list, each element is a <code>tag</code> object:"
      ],
      "metadata": {
        "id": "h3AdUtTr3EI1"
      }
    },
    {
      "cell_type": "code",
      "source": [
        "first_row =table_rows[0]\n",
        "first_row"
      ],
      "metadata": {
        "colab": {
          "base_uri": "https://localhost:8080/"
        },
        "id": "_L0ilUrD3GCb",
        "outputId": "ff67924f-fc04-4a54-f6bd-d89f0dfd9931"
      },
      "execution_count": 33,
      "outputs": [
        {
          "output_type": "execute_result",
          "data": {
            "text/plain": [
              "<tr><td id=\"flight\">Flight No</td><td>Launch site</td> <td>Payload mass</td></tr>"
            ]
          },
          "metadata": {},
          "execution_count": 33
        }
      ]
    },
    {
      "cell_type": "markdown",
      "source": [
        "The type is <code>tag</code>"
      ],
      "metadata": {
        "id": "kjuzJ6W03Ibl"
      }
    },
    {
      "cell_type": "code",
      "source": [
        "print(type(first_row))"
      ],
      "metadata": {
        "colab": {
          "base_uri": "https://localhost:8080/"
        },
        "id": "XRrspq2Y3RGt",
        "outputId": "54a6c33b-c8aa-449d-ea73-4533bdfe29b3"
      },
      "execution_count": 34,
      "outputs": [
        {
          "output_type": "stream",
          "name": "stdout",
          "text": [
            "<class 'bs4.element.Tag'>\n"
          ]
        }
      ]
    },
    {
      "cell_type": "markdown",
      "source": [
        "we can obtain the child"
      ],
      "metadata": {
        "id": "zYMvoUXn3TWd"
      }
    },
    {
      "cell_type": "code",
      "source": [
        "first_row.td"
      ],
      "metadata": {
        "colab": {
          "base_uri": "https://localhost:8080/"
        },
        "id": "AHD-BNRp3UDP",
        "outputId": "5e4b2f92-d2f7-4472-b863-c19ce4bacaaf"
      },
      "execution_count": 35,
      "outputs": [
        {
          "output_type": "execute_result",
          "data": {
            "text/plain": [
              "<td id=\"flight\">Flight No</td>"
            ]
          },
          "metadata": {},
          "execution_count": 35
        }
      ]
    },
    {
      "cell_type": "code",
      "source": [
        "for i,row in enumerate(table_rows):\n",
        "    print(\"row\",i,\"is\",row)\n",
        ""
      ],
      "metadata": {
        "colab": {
          "base_uri": "https://localhost:8080/"
        },
        "id": "-Eee6x5C3a-z",
        "outputId": "248ea8c7-c217-4cf0-fadb-3e7a4d84c92c"
      },
      "execution_count": 36,
      "outputs": [
        {
          "output_type": "stream",
          "name": "stdout",
          "text": [
            "row 0 is <tr><td id=\"flight\">Flight No</td><td>Launch site</td> <td>Payload mass</td></tr>\n",
            "row 1 is <tr> <td>1</td><td><a href=\"https://en.wikipedia.org/wiki/Florida\">Florida</a><a></a></td><td>300 kg</td></tr>\n",
            "row 2 is <tr><td>2</td><td><a href=\"https://en.wikipedia.org/wiki/Texas\">Texas</a></td><td>94 kg</td></tr>\n",
            "row 3 is <tr><td>3</td><td><a href=\"https://en.wikipedia.org/wiki/Florida\">Florida</a><a> </a></td><td>80 kg</td></tr>\n"
          ]
        }
      ]
    },
    {
      "cell_type": "markdown",
      "source": [
        "If we iterate through the list, each element corresponds to a row in the table:"
      ],
      "metadata": {
        "id": "lfTyIfg23VwS"
      }
    },
    {
      "cell_type": "markdown",
      "source": [
        "As <code>row</code> is a <code>cell</code> object, we can apply the method <code>find_all</code> to it and extract table cells in the object <code>cells</code> using the tag <code>td</code>, this is all the children with the name <code>td</code>. The result is a list, each element corresponds to a cell and is a <code>Tag</code> object, we can iterate through this list as well. We can extract the content using the <code>string</code> attribute.\n"
      ],
      "metadata": {
        "id": "fYZlINpZ3c8T"
      }
    },
    {
      "cell_type": "code",
      "source": [
        "for i,row in enumerate(table_rows):\n",
        "    print(\"row\",i)\n",
        "    cells=row.find_all('td')\n",
        "    for j,cell in enumerate(cells):\n",
        "        print('colunm',j,\"cell\",cell)"
      ],
      "metadata": {
        "colab": {
          "base_uri": "https://localhost:8080/"
        },
        "id": "K_o5wPrL3fbc",
        "outputId": "12d63052-12f9-4c98-94cb-d231f5364eb7"
      },
      "execution_count": 37,
      "outputs": [
        {
          "output_type": "stream",
          "name": "stdout",
          "text": [
            "row 0\n",
            "colunm 0 cell <td id=\"flight\">Flight No</td>\n",
            "colunm 1 cell <td>Launch site</td>\n",
            "colunm 2 cell <td>Payload mass</td>\n",
            "row 1\n",
            "colunm 0 cell <td>1</td>\n",
            "colunm 1 cell <td><a href=\"https://en.wikipedia.org/wiki/Florida\">Florida</a><a></a></td>\n",
            "colunm 2 cell <td>300 kg</td>\n",
            "row 2\n",
            "colunm 0 cell <td>2</td>\n",
            "colunm 1 cell <td><a href=\"https://en.wikipedia.org/wiki/Texas\">Texas</a></td>\n",
            "colunm 2 cell <td>94 kg</td>\n",
            "row 3\n",
            "colunm 0 cell <td>3</td>\n",
            "colunm 1 cell <td><a href=\"https://en.wikipedia.org/wiki/Florida\">Florida</a><a> </a></td>\n",
            "colunm 2 cell <td>80 kg</td>\n"
          ]
        }
      ]
    },
    {
      "cell_type": "markdown",
      "source": [
        "If we use a list we can match against any item in that list."
      ],
      "metadata": {
        "id": "99vnOmGP3f2N"
      }
    },
    {
      "cell_type": "code",
      "source": [
        "list_input=table_bs .find_all(name=[\"tr\", \"td\"])\n",
        "list_input"
      ],
      "metadata": {
        "colab": {
          "base_uri": "https://localhost:8080/"
        },
        "id": "jX13_DG03jFR",
        "outputId": "2fe58c5d-fcf3-42c2-a15a-9056ab01e15d"
      },
      "execution_count": 38,
      "outputs": [
        {
          "output_type": "execute_result",
          "data": {
            "text/plain": [
              "[<tr><td id=\"flight\">Flight No</td><td>Launch site</td> <td>Payload mass</td></tr>,\n",
              " <td id=\"flight\">Flight No</td>,\n",
              " <td>Launch site</td>,\n",
              " <td>Payload mass</td>,\n",
              " <tr> <td>1</td><td><a href=\"https://en.wikipedia.org/wiki/Florida\">Florida</a><a></a></td><td>300 kg</td></tr>,\n",
              " <td>1</td>,\n",
              " <td><a href=\"https://en.wikipedia.org/wiki/Florida\">Florida</a><a></a></td>,\n",
              " <td>300 kg</td>,\n",
              " <tr><td>2</td><td><a href=\"https://en.wikipedia.org/wiki/Texas\">Texas</a></td><td>94 kg</td></tr>,\n",
              " <td>2</td>,\n",
              " <td><a href=\"https://en.wikipedia.org/wiki/Texas\">Texas</a></td>,\n",
              " <td>94 kg</td>,\n",
              " <tr><td>3</td><td><a href=\"https://en.wikipedia.org/wiki/Florida\">Florida</a><a> </a></td><td>80 kg</td></tr>,\n",
              " <td>3</td>,\n",
              " <td><a href=\"https://en.wikipedia.org/wiki/Florida\">Florida</a><a> </a></td>,\n",
              " <td>80 kg</td>]"
            ]
          },
          "metadata": {},
          "execution_count": 38
        }
      ]
    },
    {
      "cell_type": "markdown",
      "source": [
        "### Attributes"
      ],
      "metadata": {
        "id": "FJObaiaD3lI_"
      }
    },
    {
      "cell_type": "markdown",
      "source": [
        "If the argument is not recognized it will be turned into a filter on the tag's attributes. For example with the <code>id</code> argument, Beautiful Soup will filter against each tag's <code>id</code> attribute. For example, the first <code>td</code> elements have a value of <code>id</code> of <code>flight</code>, therefore we can filter based on that <code>id</code> value."
      ],
      "metadata": {
        "id": "1iWJpzTq3nDc"
      }
    },
    {
      "cell_type": "code",
      "source": [
        "table_bs.find_all(id=\"flight\")"
      ],
      "metadata": {
        "colab": {
          "base_uri": "https://localhost:8080/"
        },
        "id": "7kwkfVDK3qQ0",
        "outputId": "d2d652d5-51e3-4a7b-ee70-265333b24160"
      },
      "execution_count": 39,
      "outputs": [
        {
          "output_type": "execute_result",
          "data": {
            "text/plain": [
              "[<td id=\"flight\">Flight No</td>]"
            ]
          },
          "metadata": {},
          "execution_count": 39
        }
      ]
    },
    {
      "cell_type": "markdown",
      "source": [
        "We can find all the elements that have links to the Florida Wikipedia page:"
      ],
      "metadata": {
        "id": "SlU0-Arv3sUW"
      }
    },
    {
      "cell_type": "code",
      "source": [
        "list_input=table_bs.find_all(href=\"https://en.wikipedia.org/wiki/Florida\")\n",
        "list_input"
      ],
      "metadata": {
        "colab": {
          "base_uri": "https://localhost:8080/"
        },
        "id": "sfCB-Bfv3urA",
        "outputId": "2aaf5d1c-d202-43e4-acc4-f9fbac52f353"
      },
      "execution_count": 40,
      "outputs": [
        {
          "output_type": "execute_result",
          "data": {
            "text/plain": [
              "[<a href=\"https://en.wikipedia.org/wiki/Florida\">Florida</a>,\n",
              " <a href=\"https://en.wikipedia.org/wiki/Florida\">Florida</a>]"
            ]
          },
          "metadata": {},
          "execution_count": 40
        }
      ]
    },
    {
      "cell_type": "markdown",
      "source": [
        "If we set the <code>href</code> attribute to True, regardless of what the value is, the code finds all tags with <code>href</code> value:"
      ],
      "metadata": {
        "id": "QE2tAvMi3wj4"
      }
    },
    {
      "cell_type": "code",
      "source": [
        "table_bs.find_all(href=True)"
      ],
      "metadata": {
        "colab": {
          "base_uri": "https://localhost:8080/"
        },
        "id": "RSrYA7a83yS9",
        "outputId": "cf850d7b-56de-4423-df55-077556b89548"
      },
      "execution_count": 41,
      "outputs": [
        {
          "output_type": "execute_result",
          "data": {
            "text/plain": [
              "[<a href=\"https://en.wikipedia.org/wiki/Florida\">Florida</a>,\n",
              " <a href=\"https://en.wikipedia.org/wiki/Texas\">Texas</a>,\n",
              " <a href=\"https://en.wikipedia.org/wiki/Florida\">Florida</a>]"
            ]
          },
          "metadata": {},
          "execution_count": 41
        }
      ]
    },
    {
      "cell_type": "markdown",
      "source": [
        "There are other methods for dealing with attributes and other related methods. Check out the following <a href='https://www.crummy.com/software/BeautifulSoup/bs4/doc/?utm_medium=Exinfluencer&utm_source=Exinfluencer&utm_content=000026UJ&utm_term=10006555&utm_id=NA-SkillsNetwork-Channel-SkillsNetworkCoursesIBMDeveloperSkillsNetworkPY0101ENSkillsNetwork19487395-2021-01-01#css-selectors'>link</a>"
      ],
      "metadata": {
        "id": "D5uwLACZ30HD"
      }
    },
    {
      "cell_type": "markdown",
      "source": [
        "<h3 id=\"exer_type\">Exercise: <code>find_all</code></h3>"
      ],
      "metadata": {
        "id": "O0Gq-Ea_316n"
      }
    },
    {
      "cell_type": "markdown",
      "source": [
        "Using the logic above, find all the elements without <code>href</code> value"
      ],
      "metadata": {
        "id": "w-AhtXDe34ON"
      }
    },
    {
      "cell_type": "code",
      "source": [],
      "metadata": {
        "id": "baG4J1mZ34qx"
      },
      "execution_count": 41,
      "outputs": []
    },
    {
      "cell_type": "markdown",
      "source": [
        "<details><summary>Click here for the solution</summary>\n",
        "\n",
        "```\n",
        "table_bs.find_all(href=False)\n",
        "\n",
        "```\n",
        "\n",
        "</details>\n"
      ],
      "metadata": {
        "id": "CUF_vQbg37W6"
      }
    },
    {
      "cell_type": "code",
      "source": [
        "table_bs.find_all(href=False)"
      ],
      "metadata": {
        "colab": {
          "base_uri": "https://localhost:8080/"
        },
        "id": "xSy1vQEI38fA",
        "outputId": "b4f4fae2-00a4-4f4a-b584-ffeac719ddb9"
      },
      "execution_count": 42,
      "outputs": [
        {
          "output_type": "execute_result",
          "data": {
            "text/plain": [
              "[<html><head></head><body><table><tbody><tr><td id=\"flight\">Flight No</td><td>Launch site</td> <td>Payload mass</td></tr><tr> <td>1</td><td><a href=\"https://en.wikipedia.org/wiki/Florida\">Florida</a><a></a></td><td>300 kg</td></tr><tr><td>2</td><td><a href=\"https://en.wikipedia.org/wiki/Texas\">Texas</a></td><td>94 kg</td></tr><tr><td>3</td><td><a href=\"https://en.wikipedia.org/wiki/Florida\">Florida</a><a> </a></td><td>80 kg</td></tr></tbody></table></body></html>,\n",
              " <head></head>,\n",
              " <body><table><tbody><tr><td id=\"flight\">Flight No</td><td>Launch site</td> <td>Payload mass</td></tr><tr> <td>1</td><td><a href=\"https://en.wikipedia.org/wiki/Florida\">Florida</a><a></a></td><td>300 kg</td></tr><tr><td>2</td><td><a href=\"https://en.wikipedia.org/wiki/Texas\">Texas</a></td><td>94 kg</td></tr><tr><td>3</td><td><a href=\"https://en.wikipedia.org/wiki/Florida\">Florida</a><a> </a></td><td>80 kg</td></tr></tbody></table></body>,\n",
              " <table><tbody><tr><td id=\"flight\">Flight No</td><td>Launch site</td> <td>Payload mass</td></tr><tr> <td>1</td><td><a href=\"https://en.wikipedia.org/wiki/Florida\">Florida</a><a></a></td><td>300 kg</td></tr><tr><td>2</td><td><a href=\"https://en.wikipedia.org/wiki/Texas\">Texas</a></td><td>94 kg</td></tr><tr><td>3</td><td><a href=\"https://en.wikipedia.org/wiki/Florida\">Florida</a><a> </a></td><td>80 kg</td></tr></tbody></table>,\n",
              " <tbody><tr><td id=\"flight\">Flight No</td><td>Launch site</td> <td>Payload mass</td></tr><tr> <td>1</td><td><a href=\"https://en.wikipedia.org/wiki/Florida\">Florida</a><a></a></td><td>300 kg</td></tr><tr><td>2</td><td><a href=\"https://en.wikipedia.org/wiki/Texas\">Texas</a></td><td>94 kg</td></tr><tr><td>3</td><td><a href=\"https://en.wikipedia.org/wiki/Florida\">Florida</a><a> </a></td><td>80 kg</td></tr></tbody>,\n",
              " <tr><td id=\"flight\">Flight No</td><td>Launch site</td> <td>Payload mass</td></tr>,\n",
              " <td id=\"flight\">Flight No</td>,\n",
              " <td>Launch site</td>,\n",
              " <td>Payload mass</td>,\n",
              " <tr> <td>1</td><td><a href=\"https://en.wikipedia.org/wiki/Florida\">Florida</a><a></a></td><td>300 kg</td></tr>,\n",
              " <td>1</td>,\n",
              " <td><a href=\"https://en.wikipedia.org/wiki/Florida\">Florida</a><a></a></td>,\n",
              " <a></a>,\n",
              " <td>300 kg</td>,\n",
              " <tr><td>2</td><td><a href=\"https://en.wikipedia.org/wiki/Texas\">Texas</a></td><td>94 kg</td></tr>,\n",
              " <td>2</td>,\n",
              " <td><a href=\"https://en.wikipedia.org/wiki/Texas\">Texas</a></td>,\n",
              " <td>94 kg</td>,\n",
              " <tr><td>3</td><td><a href=\"https://en.wikipedia.org/wiki/Florida\">Florida</a><a> </a></td><td>80 kg</td></tr>,\n",
              " <td>3</td>,\n",
              " <td><a href=\"https://en.wikipedia.org/wiki/Florida\">Florida</a><a> </a></td>,\n",
              " <a> </a>,\n",
              " <td>80 kg</td>]"
            ]
          },
          "metadata": {},
          "execution_count": 42
        }
      ]
    },
    {
      "cell_type": "markdown",
      "source": [
        "Using the soup object <code>soup</code>, find the element with the <code>id</code> attribute content set to <code>\"boldest\"</code>."
      ],
      "metadata": {
        "id": "NMcEb9RT3-QK"
      }
    },
    {
      "cell_type": "code",
      "source": [],
      "metadata": {
        "id": "k93I8Fb83_WD"
      },
      "execution_count": 42,
      "outputs": []
    },
    {
      "cell_type": "markdown",
      "source": [
        "<details><summary>Click here for the solution</summary>\n",
        "\n",
        "```\n",
        "soup.find_all(id=\"boldest\")\n",
        "\n",
        "```\n",
        "\n",
        "</details>"
      ],
      "metadata": {
        "id": "mqdMfNEs4AGj"
      }
    },
    {
      "cell_type": "code",
      "source": [
        "soup.find_all(id=\"boldest\")"
      ],
      "metadata": {
        "colab": {
          "base_uri": "https://localhost:8080/"
        },
        "id": "DQ15sOwc4DHf",
        "outputId": "2bafc321-cc38-4c47-ffbd-330a9adbfd42"
      },
      "execution_count": 43,
      "outputs": [
        {
          "output_type": "execute_result",
          "data": {
            "text/plain": [
              "[<b id=\"boldest\">Lebron James</b>]"
            ]
          },
          "metadata": {},
          "execution_count": 43
        }
      ]
    },
    {
      "cell_type": "markdown",
      "source": [
        "### string"
      ],
      "metadata": {
        "id": "1hshZ_HP4F5M"
      }
    },
    {
      "cell_type": "markdown",
      "source": [
        "With string you can search for strings instead of tags, where we find all the elments with Florida:\n"
      ],
      "metadata": {
        "id": "QSGdQerg4I0O"
      }
    },
    {
      "cell_type": "code",
      "source": [
        "table_bs.find_all(string=\"Florida\")"
      ],
      "metadata": {
        "colab": {
          "base_uri": "https://localhost:8080/"
        },
        "id": "8F7RhcCb4Koi",
        "outputId": "473412e2-fad4-490c-d014-8a02f2638694"
      },
      "execution_count": 44,
      "outputs": [
        {
          "output_type": "execute_result",
          "data": {
            "text/plain": [
              "['Florida', 'Florida']"
            ]
          },
          "metadata": {},
          "execution_count": 44
        }
      ]
    },
    {
      "cell_type": "markdown",
      "source": [
        "## find"
      ],
      "metadata": {
        "id": "zDQ9b5924PSP"
      }
    },
    {
      "cell_type": "markdown",
      "source": [
        "The <code>find_all()</code> method scans the entire document looking for results. It’s useful if you are looking for one element, as you can use the <code>find()</code> method to find the first element in the document. Consider the following two tables:"
      ],
      "metadata": {
        "id": "9v2W4d5K4RND"
      }
    },
    {
      "cell_type": "code",
      "source": [
        "%%html\n",
        "<h3>Rocket Launch </h3>\n",
        "\n",
        "<p>\n",
        "<table class='rocket'>\n",
        "  <tr>\n",
        "    <td>Flight No</td>\n",
        "    <td>Launch site</td>\n",
        "    <td>Payload mass</td>\n",
        "  </tr>\n",
        "  <tr>\n",
        "    <td>1</td>\n",
        "    <td>Florida</td>\n",
        "    <td>300 kg</td>\n",
        "  </tr>\n",
        "  <tr>\n",
        "    <td>2</td>\n",
        "    <td>Texas</td>\n",
        "    <td>94 kg</td>\n",
        "  </tr>\n",
        "  <tr>\n",
        "    <td>3</td>\n",
        "    <td>Florida </td>\n",
        "    <td>80 kg</td>\n",
        "  </tr>\n",
        "</table>\n",
        "</p>\n",
        "<p>\n",
        "\n",
        "<h3>Pizza Party  </h3>\n",
        "\n",
        "\n",
        "<table class='pizza'>\n",
        "  <tr>\n",
        "    <td>Pizza Place</td>\n",
        "    <td>Orders</td>\n",
        "    <td>Slices </td>\n",
        "   </tr>\n",
        "  <tr>\n",
        "    <td>Domino's Pizza</td>\n",
        "    <td>10</td>\n",
        "    <td>100</td>\n",
        "  </tr>\n",
        "  <tr>\n",
        "    <td>Little Caesars</td>\n",
        "    <td>12</td>\n",
        "    <td >144 </td>\n",
        "  </tr>\n",
        "  <tr>\n",
        "    <td>Papa John's </td>\n",
        "    <td>15 </td>\n",
        "    <td>165</td>\n",
        "  </tr>\n"
      ],
      "metadata": {
        "colab": {
          "base_uri": "https://localhost:8080/",
          "height": 271
        },
        "id": "ivgxem7t4UeF",
        "outputId": "aa42df7a-8b1d-4363-bed7-e8604935be11"
      },
      "execution_count": 45,
      "outputs": [
        {
          "output_type": "display_data",
          "data": {
            "text/plain": [
              "<IPython.core.display.HTML object>"
            ],
            "text/html": [
              "<h3>Rocket Launch </h3>\n",
              "\n",
              "<p>\n",
              "<table class='rocket'>\n",
              "  <tr>\n",
              "    <td>Flight No</td>\n",
              "    <td>Launch site</td> \n",
              "    <td>Payload mass</td>\n",
              "  </tr>\n",
              "  <tr>\n",
              "    <td>1</td>\n",
              "    <td>Florida</td>\n",
              "    <td>300 kg</td>\n",
              "  </tr>\n",
              "  <tr>\n",
              "    <td>2</td>\n",
              "    <td>Texas</td>\n",
              "    <td>94 kg</td>\n",
              "  </tr>\n",
              "  <tr>\n",
              "    <td>3</td>\n",
              "    <td>Florida </td>\n",
              "    <td>80 kg</td>\n",
              "  </tr>\n",
              "</table>\n",
              "</p>\n",
              "<p>\n",
              "\n",
              "<h3>Pizza Party  </h3>\n",
              "  \n",
              "    \n",
              "<table class='pizza'>\n",
              "  <tr>\n",
              "    <td>Pizza Place</td>\n",
              "    <td>Orders</td> \n",
              "    <td>Slices </td>\n",
              "   </tr>\n",
              "  <tr>\n",
              "    <td>Domino's Pizza</td>\n",
              "    <td>10</td>\n",
              "    <td>100</td>\n",
              "  </tr>\n",
              "  <tr>\n",
              "    <td>Little Caesars</td>\n",
              "    <td>12</td>\n",
              "    <td >144 </td>\n",
              "  </tr>\n",
              "  <tr>\n",
              "    <td>Papa John's </td>\n",
              "    <td>15 </td>\n",
              "    <td>165</td>\n",
              "  </tr>\n"
            ]
          },
          "metadata": {}
        }
      ]
    },
    {
      "cell_type": "markdown",
      "source": [
        "We store the HTML as a Python string and assign <code>two_tables</code>:"
      ],
      "metadata": {
        "id": "EZMNQjfM4Ye7"
      }
    },
    {
      "cell_type": "code",
      "source": [
        "two_tables=\"<h3>Rocket Launch </h3><p><table class='rocket'><tr><td>Flight No</td><td>Launch site</td> <td>Payload mass</td></tr><tr><td>1</td><td>Florida</td><td>300 kg</td></tr><tr><td>2</td><td>Texas</td><td>94 kg</td></tr><tr><td>3</td><td>Florida </td><td>80 kg</td></tr></table></p><p><h3>Pizza Party  </h3><table class='pizza'><tr><td>Pizza Place</td><td>Orders</td> <td>Slices </td></tr><tr><td>Domino's Pizza</td><td>10</td><td>100</td></tr><tr><td>Little Caesars</td><td>12</td><td >144 </td></tr><tr><td>Papa John's </td><td>15 </td><td>165</td></tr>\""
      ],
      "metadata": {
        "id": "XyVQCEb74avA"
      },
      "execution_count": 46,
      "outputs": []
    },
    {
      "cell_type": "markdown",
      "source": [
        "We create a <code>BeautifulSoup</code> object  <code>two_tables_bs</code>"
      ],
      "metadata": {
        "id": "-VjuIFtA4ckh"
      }
    },
    {
      "cell_type": "code",
      "source": [
        "two_tables_bs= BeautifulSoup(two_tables, 'html.parser')"
      ],
      "metadata": {
        "id": "fcvh8gRJ4fAo"
      },
      "execution_count": 47,
      "outputs": []
    },
    {
      "cell_type": "markdown",
      "source": [
        "We can find the first table using the tag name table"
      ],
      "metadata": {
        "id": "98G_ezm04hIX"
      }
    },
    {
      "cell_type": "code",
      "source": [
        "two_tables_bs.find(\"table\")"
      ],
      "metadata": {
        "colab": {
          "base_uri": "https://localhost:8080/"
        },
        "id": "V5HTzsu74jYp",
        "outputId": "7ba08601-fb61-486d-d31f-0adad5357b69"
      },
      "execution_count": 48,
      "outputs": [
        {
          "output_type": "execute_result",
          "data": {
            "text/plain": [
              "<table class=\"rocket\"><tr><td>Flight No</td><td>Launch site</td> <td>Payload mass</td></tr><tr><td>1</td><td>Florida</td><td>300 kg</td></tr><tr><td>2</td><td>Texas</td><td>94 kg</td></tr><tr><td>3</td><td>Florida </td><td>80 kg</td></tr></table>"
            ]
          },
          "metadata": {},
          "execution_count": 48
        }
      ]
    },
    {
      "cell_type": "markdown",
      "source": [
        "We can filter on the class attribute to find the second table, but because class is a keyword in Python, we add an underscore to differentiate them."
      ],
      "metadata": {
        "id": "jHCOXMdI4lZO"
      }
    },
    {
      "cell_type": "code",
      "source": [
        "two_tables_bs.find(\"table\",class_='pizza')"
      ],
      "metadata": {
        "colab": {
          "base_uri": "https://localhost:8080/"
        },
        "id": "9EPB-QgG4n1o",
        "outputId": "d5219dbe-1bc6-45c6-df9b-1a40582d9bfb"
      },
      "execution_count": 49,
      "outputs": [
        {
          "output_type": "execute_result",
          "data": {
            "text/plain": [
              "<table class=\"pizza\"><tr><td>Pizza Place</td><td>Orders</td> <td>Slices </td></tr><tr><td>Domino's Pizza</td><td>10</td><td>100</td></tr><tr><td>Little Caesars</td><td>12</td><td>144 </td></tr><tr><td>Papa John's </td><td>15 </td><td>165</td></tr></table>"
            ]
          },
          "metadata": {},
          "execution_count": 49
        }
      ]
    },
    {
      "cell_type": "markdown",
      "source": [
        "<h2 id=\"DSCW\">Downloading And Scraping The Contents Of A Web Page</h2>\n"
      ],
      "metadata": {
        "id": "XuWqklZr4toB"
      }
    },
    {
      "cell_type": "markdown",
      "source": [
        "We Download the contents of the web page:"
      ],
      "metadata": {
        "id": "gxAbq1hP4wF6"
      }
    },
    {
      "cell_type": "code",
      "source": [
        "url = \"http://www.ibm.com\""
      ],
      "metadata": {
        "id": "7Wj2Q7VO4xzQ"
      },
      "execution_count": 50,
      "outputs": []
    },
    {
      "cell_type": "markdown",
      "source": [
        "We use <code>get</code> to download the contents of the webpage in text format and store in a variable called <code>data</code>:"
      ],
      "metadata": {
        "id": "0p42URuV40ys"
      }
    },
    {
      "cell_type": "code",
      "source": [
        "data  = requests.get(url).text"
      ],
      "metadata": {
        "id": "BW1lH7BM43BL"
      },
      "execution_count": 51,
      "outputs": []
    },
    {
      "cell_type": "markdown",
      "source": [
        "We create a <code>BeautifulSoup</code> object using the <code>BeautifulSoup</code> constructor"
      ],
      "metadata": {
        "id": "ycTm5m8Y48kX"
      }
    },
    {
      "cell_type": "code",
      "source": [
        "soup = BeautifulSoup(data,\"html5lib\")  # create a soup object using the variable 'data'"
      ],
      "metadata": {
        "id": "L37UG92r45V7"
      },
      "execution_count": 52,
      "outputs": []
    },
    {
      "cell_type": "markdown",
      "source": [
        "Scrape all links"
      ],
      "metadata": {
        "id": "5LkbUOLH5BIw"
      }
    },
    {
      "cell_type": "code",
      "source": [
        "for link in soup.find_all('a',href=True):  # in html anchor/link is represented by the tag <a>\n",
        "\n",
        "    print(link.get('href'))"
      ],
      "metadata": {
        "colab": {
          "base_uri": "https://localhost:8080/"
        },
        "id": "ElXe3YTL5DNB",
        "outputId": "362e1a97-6fb9-4e7c-9ac2-b83e02828031"
      },
      "execution_count": 53,
      "outputs": [
        {
          "output_type": "stream",
          "name": "stdout",
          "text": [
            "https://www.ibm.com/cloud?lnk=hpUSbt1\n"
          ]
        }
      ]
    },
    {
      "cell_type": "markdown",
      "source": [
        "### Scrape all images Tags"
      ],
      "metadata": {
        "id": "qF3OGMlk5Fr_"
      }
    },
    {
      "cell_type": "code",
      "source": [
        "for link in soup.find_all('img'):# in html image is represented by the tag <img>\n",
        "    print(link)\n",
        "    print(link.get('src'))"
      ],
      "metadata": {
        "colab": {
          "base_uri": "https://localhost:8080/"
        },
        "id": "Et02AsRg5HrF",
        "outputId": "d49ef0a1-88dc-42ba-c282-1dccf6faadb1"
      },
      "execution_count": 54,
      "outputs": [
        {
          "output_type": "stream",
          "name": "stdout",
          "text": [
            "<img alt=\"Portraits of IBM consultants\" class=\"bx--image__img\" id=\"image-1276293314\" loading=\"lazy\" src=\"/content/dam/adobe-cms/default-images/home-consultants.component.crop-16by9-xl.ts=1699968002314.jpg/content/adobe-cms/us/en/homepage/_jcr_content/root/table_of_contents/simple_image\"/>\n",
            "/content/dam/adobe-cms/default-images/home-consultants.component.crop-16by9-xl.ts=1699968002314.jpg/content/adobe-cms/us/en/homepage/_jcr_content/root/table_of_contents/simple_image\n"
          ]
        }
      ]
    },
    {
      "cell_type": "markdown",
      "source": [
        "### Scrape data from HTML tables\n"
      ],
      "metadata": {
        "id": "vySt2Z6K5JyE"
      }
    },
    {
      "cell_type": "code",
      "source": [
        "#The below url contains an html table with data about colors and color codes.\n",
        "url = \"https://cf-courses-data.s3.us.cloud-object-storage.appdomain.cloud/IBM-DA0321EN-SkillsNetwork/labs/datasets/HTMLColorCodes.html\""
      ],
      "metadata": {
        "id": "4vUDHPWk5NTm"
      },
      "execution_count": 55,
      "outputs": []
    },
    {
      "cell_type": "markdown",
      "source": [
        "Before proceeding to scrape a web site, you need to examine the contents and the way data is organized on the website. Open the above url in your browser and check how many rows and columns there are in the color table."
      ],
      "metadata": {
        "id": "y8oDEQko5Qg7"
      }
    },
    {
      "cell_type": "code",
      "source": [
        "# get the contents of the webpage in text format and store in a variable called data\n",
        "data  = requests.get(url).text"
      ],
      "metadata": {
        "id": "Rt0xaTBV5SU5"
      },
      "execution_count": 56,
      "outputs": []
    },
    {
      "cell_type": "code",
      "source": [
        "soup = BeautifulSoup(data,\"html5lib\")"
      ],
      "metadata": {
        "id": "1IpCR6IS5UOr"
      },
      "execution_count": 57,
      "outputs": []
    },
    {
      "cell_type": "code",
      "source": [
        "#find a html table in the web page\n",
        "table = soup.find('table') # in html table is represented by the tag <table>"
      ],
      "metadata": {
        "id": "3EwG3OSe5W3V"
      },
      "execution_count": 58,
      "outputs": []
    },
    {
      "cell_type": "code",
      "source": [
        "#Get all rows from the table\n",
        "for row in table.find_all('tr'): # in html table row is represented by the tag <tr>\n",
        "    # Get all columns in each row.\n",
        "    cols = row.find_all('td') # in html a column is represented by the tag <td>\n",
        "    color_name = cols[2].string # store the value in column 3 as color_name\n",
        "    color_code = cols[3].text # store the value in column 4 as color_code\n",
        "    print(\"{}--->{}\".format(color_name,color_code))"
      ],
      "metadata": {
        "colab": {
          "base_uri": "https://localhost:8080/"
        },
        "id": "KNyLLYPr5Yu-",
        "outputId": "c0eade7f-97ba-4f86-8cd7-d9c132f20fc4"
      },
      "execution_count": 59,
      "outputs": [
        {
          "output_type": "stream",
          "name": "stdout",
          "text": [
            "Color Name--->Hex Code#RRGGBB\n",
            "lightsalmon--->#FFA07A\n",
            "salmon--->#FA8072\n",
            "darksalmon--->#E9967A\n",
            "lightcoral--->#F08080\n",
            "coral--->#FF7F50\n",
            "tomato--->#FF6347\n",
            "orangered--->#FF4500\n",
            "gold--->#FFD700\n",
            "orange--->#FFA500\n",
            "darkorange--->#FF8C00\n",
            "lightyellow--->#FFFFE0\n",
            "lemonchiffon--->#FFFACD\n",
            "papayawhip--->#FFEFD5\n",
            "moccasin--->#FFE4B5\n",
            "peachpuff--->#FFDAB9\n",
            "palegoldenrod--->#EEE8AA\n",
            "khaki--->#F0E68C\n",
            "darkkhaki--->#BDB76B\n",
            "yellow--->#FFFF00\n",
            "lawngreen--->#7CFC00\n",
            "chartreuse--->#7FFF00\n",
            "limegreen--->#32CD32\n",
            "lime--->#00FF00\n",
            "forestgreen--->#228B22\n",
            "green--->#008000\n",
            "powderblue--->#B0E0E6\n",
            "lightblue--->#ADD8E6\n",
            "lightskyblue--->#87CEFA\n",
            "skyblue--->#87CEEB\n",
            "deepskyblue--->#00BFFF\n",
            "lightsteelblue--->#B0C4DE\n",
            "dodgerblue--->#1E90FF\n"
          ]
        }
      ]
    },
    {
      "cell_type": "markdown",
      "source": [
        "## Scraping tables from a Web page using Pandas"
      ],
      "metadata": {
        "id": "YwJtOZjf5bLY"
      }
    },
    {
      "cell_type": "markdown",
      "source": [
        "Particularly for extracting tabular data from a web page, you may also use the `read_html()` method of the Pandas library."
      ],
      "metadata": {
        "id": "vz18ihwr5dmH"
      }
    },
    {
      "cell_type": "code",
      "source": [
        "#The below url contains an html table with data about colors and color codes.\n",
        "url = \"https://cf-courses-data.s3.us.cloud-object-storage.appdomain.cloud/IBM-DA0321EN-SkillsNetwork/labs/datasets/HTMLColorCodes.html\""
      ],
      "metadata": {
        "id": "XaCMNvy85fvl"
      },
      "execution_count": 60,
      "outputs": []
    },
    {
      "cell_type": "markdown",
      "source": [
        "You may extract all the tables from the given webpage simply by using the following commands."
      ],
      "metadata": {
        "id": "J5x9B5qB5isi"
      }
    },
    {
      "cell_type": "code",
      "source": [
        "import pandas as pd\n",
        "\n",
        "tables = pd.read_html(url)\n",
        "tables"
      ],
      "metadata": {
        "colab": {
          "base_uri": "https://localhost:8080/"
        },
        "id": "iQyWfyHA5kZh",
        "outputId": "c3114a89-9169-421a-8fc3-ff74189cc179"
      },
      "execution_count": 61,
      "outputs": [
        {
          "output_type": "execute_result",
          "data": {
            "text/plain": [
              "[         0      1               2                 3                     4\n",
              " 0   Number  Color      Color Name  Hex Code #RRGGBB  Decimal Code (R,G,B)\n",
              " 1        1    NaN     lightsalmon           #FFA07A      rgb(255,160,122)\n",
              " 2        2    NaN          salmon           #FA8072      rgb(250,128,114)\n",
              " 3        3    NaN      darksalmon           #E9967A      rgb(233,150,122)\n",
              " 4        4    NaN      lightcoral           #F08080      rgb(240,128,128)\n",
              " 5        5    NaN           coral           #FF7F50       rgb(255,127,80)\n",
              " 6        6    NaN          tomato           #FF6347        rgb(255,99,71)\n",
              " 7        7    NaN       orangered           #FF4500         rgb(255,69,0)\n",
              " 8        8    NaN            gold           #FFD700        rgb(255,215,0)\n",
              " 9        9    NaN          orange           #FFA500        rgb(255,165,0)\n",
              " 10      10    NaN      darkorange           #FF8C00        rgb(255,140,0)\n",
              " 11      11    NaN     lightyellow           #FFFFE0      rgb(255,255,224)\n",
              " 12      12    NaN    lemonchiffon           #FFFACD      rgb(255,250,205)\n",
              " 13      13    NaN      papayawhip           #FFEFD5      rgb(255,239,213)\n",
              " 14      14    NaN        moccasin           #FFE4B5      rgb(255,228,181)\n",
              " 15      15    NaN       peachpuff           #FFDAB9      rgb(255,218,185)\n",
              " 16      16    NaN   palegoldenrod           #EEE8AA      rgb(238,232,170)\n",
              " 17      17    NaN           khaki           #F0E68C      rgb(240,230,140)\n",
              " 18      18    NaN       darkkhaki           #BDB76B      rgb(189,183,107)\n",
              " 19      19    NaN          yellow           #FFFF00        rgb(255,255,0)\n",
              " 20      20    NaN       lawngreen           #7CFC00        rgb(124,252,0)\n",
              " 21      21    NaN      chartreuse           #7FFF00        rgb(127,255,0)\n",
              " 22      22    NaN       limegreen           #32CD32        rgb(50,205,50)\n",
              " 23      23    NaN            lime           #00FF00          rgb(0.255.0)\n",
              " 24      24    NaN     forestgreen           #228B22        rgb(34,139,34)\n",
              " 25      25    NaN           green           #008000          rgb(0,128,0)\n",
              " 26      26    NaN      powderblue           #B0E0E6      rgb(176,224,230)\n",
              " 27      27    NaN       lightblue           #ADD8E6      rgb(173,216,230)\n",
              " 28      28    NaN    lightskyblue           #87CEFA      rgb(135,206,250)\n",
              " 29      29    NaN         skyblue           #87CEEB      rgb(135,206,235)\n",
              " 30      30    NaN     deepskyblue           #00BFFF        rgb(0,191,255)\n",
              " 31      31    NaN  lightsteelblue           #B0C4DE      rgb(176,196,222)\n",
              " 32      32    NaN      dodgerblue           #1E90FF       rgb(30,144,255)]"
            ]
          },
          "metadata": {},
          "execution_count": 61
        }
      ]
    },
    {
      "cell_type": "markdown",
      "source": [
        "`tables` is now a list of dataframes representing the tables from the web page, in the sequence of their appearance. In the current  URL, there is only a single table, so the same can be accessed as shown below."
      ],
      "metadata": {
        "id": "t-dFJRST5mZY"
      }
    },
    {
      "cell_type": "code",
      "source": [
        "tables[0]"
      ],
      "metadata": {
        "colab": {
          "base_uri": "https://localhost:8080/",
          "height": 1000
        },
        "id": "fA6P4v-V5opt",
        "outputId": "0bc2bf6e-f5bf-4bcd-8f11-a8e7e294ab5a"
      },
      "execution_count": 62,
      "outputs": [
        {
          "output_type": "execute_result",
          "data": {
            "text/plain": [
              "         0      1               2                 3                     4\n",
              "0   Number  Color      Color Name  Hex Code #RRGGBB  Decimal Code (R,G,B)\n",
              "1        1    NaN     lightsalmon           #FFA07A      rgb(255,160,122)\n",
              "2        2    NaN          salmon           #FA8072      rgb(250,128,114)\n",
              "3        3    NaN      darksalmon           #E9967A      rgb(233,150,122)\n",
              "4        4    NaN      lightcoral           #F08080      rgb(240,128,128)\n",
              "5        5    NaN           coral           #FF7F50       rgb(255,127,80)\n",
              "6        6    NaN          tomato           #FF6347        rgb(255,99,71)\n",
              "7        7    NaN       orangered           #FF4500         rgb(255,69,0)\n",
              "8        8    NaN            gold           #FFD700        rgb(255,215,0)\n",
              "9        9    NaN          orange           #FFA500        rgb(255,165,0)\n",
              "10      10    NaN      darkorange           #FF8C00        rgb(255,140,0)\n",
              "11      11    NaN     lightyellow           #FFFFE0      rgb(255,255,224)\n",
              "12      12    NaN    lemonchiffon           #FFFACD      rgb(255,250,205)\n",
              "13      13    NaN      papayawhip           #FFEFD5      rgb(255,239,213)\n",
              "14      14    NaN        moccasin           #FFE4B5      rgb(255,228,181)\n",
              "15      15    NaN       peachpuff           #FFDAB9      rgb(255,218,185)\n",
              "16      16    NaN   palegoldenrod           #EEE8AA      rgb(238,232,170)\n",
              "17      17    NaN           khaki           #F0E68C      rgb(240,230,140)\n",
              "18      18    NaN       darkkhaki           #BDB76B      rgb(189,183,107)\n",
              "19      19    NaN          yellow           #FFFF00        rgb(255,255,0)\n",
              "20      20    NaN       lawngreen           #7CFC00        rgb(124,252,0)\n",
              "21      21    NaN      chartreuse           #7FFF00        rgb(127,255,0)\n",
              "22      22    NaN       limegreen           #32CD32        rgb(50,205,50)\n",
              "23      23    NaN            lime           #00FF00          rgb(0.255.0)\n",
              "24      24    NaN     forestgreen           #228B22        rgb(34,139,34)\n",
              "25      25    NaN           green           #008000          rgb(0,128,0)\n",
              "26      26    NaN      powderblue           #B0E0E6      rgb(176,224,230)\n",
              "27      27    NaN       lightblue           #ADD8E6      rgb(173,216,230)\n",
              "28      28    NaN    lightskyblue           #87CEFA      rgb(135,206,250)\n",
              "29      29    NaN         skyblue           #87CEEB      rgb(135,206,235)\n",
              "30      30    NaN     deepskyblue           #00BFFF        rgb(0,191,255)\n",
              "31      31    NaN  lightsteelblue           #B0C4DE      rgb(176,196,222)\n",
              "32      32    NaN      dodgerblue           #1E90FF       rgb(30,144,255)"
            ],
            "text/html": [
              "\n",
              "  <div id=\"df-4423ee20-6e81-41df-8bc6-a8e6c23a0486\" class=\"colab-df-container\">\n",
              "    <div>\n",
              "<style scoped>\n",
              "    .dataframe tbody tr th:only-of-type {\n",
              "        vertical-align: middle;\n",
              "    }\n",
              "\n",
              "    .dataframe tbody tr th {\n",
              "        vertical-align: top;\n",
              "    }\n",
              "\n",
              "    .dataframe thead th {\n",
              "        text-align: right;\n",
              "    }\n",
              "</style>\n",
              "<table border=\"1\" class=\"dataframe\">\n",
              "  <thead>\n",
              "    <tr style=\"text-align: right;\">\n",
              "      <th></th>\n",
              "      <th>0</th>\n",
              "      <th>1</th>\n",
              "      <th>2</th>\n",
              "      <th>3</th>\n",
              "      <th>4</th>\n",
              "    </tr>\n",
              "  </thead>\n",
              "  <tbody>\n",
              "    <tr>\n",
              "      <th>0</th>\n",
              "      <td>Number</td>\n",
              "      <td>Color</td>\n",
              "      <td>Color Name</td>\n",
              "      <td>Hex Code #RRGGBB</td>\n",
              "      <td>Decimal Code (R,G,B)</td>\n",
              "    </tr>\n",
              "    <tr>\n",
              "      <th>1</th>\n",
              "      <td>1</td>\n",
              "      <td>NaN</td>\n",
              "      <td>lightsalmon</td>\n",
              "      <td>#FFA07A</td>\n",
              "      <td>rgb(255,160,122)</td>\n",
              "    </tr>\n",
              "    <tr>\n",
              "      <th>2</th>\n",
              "      <td>2</td>\n",
              "      <td>NaN</td>\n",
              "      <td>salmon</td>\n",
              "      <td>#FA8072</td>\n",
              "      <td>rgb(250,128,114)</td>\n",
              "    </tr>\n",
              "    <tr>\n",
              "      <th>3</th>\n",
              "      <td>3</td>\n",
              "      <td>NaN</td>\n",
              "      <td>darksalmon</td>\n",
              "      <td>#E9967A</td>\n",
              "      <td>rgb(233,150,122)</td>\n",
              "    </tr>\n",
              "    <tr>\n",
              "      <th>4</th>\n",
              "      <td>4</td>\n",
              "      <td>NaN</td>\n",
              "      <td>lightcoral</td>\n",
              "      <td>#F08080</td>\n",
              "      <td>rgb(240,128,128)</td>\n",
              "    </tr>\n",
              "    <tr>\n",
              "      <th>5</th>\n",
              "      <td>5</td>\n",
              "      <td>NaN</td>\n",
              "      <td>coral</td>\n",
              "      <td>#FF7F50</td>\n",
              "      <td>rgb(255,127,80)</td>\n",
              "    </tr>\n",
              "    <tr>\n",
              "      <th>6</th>\n",
              "      <td>6</td>\n",
              "      <td>NaN</td>\n",
              "      <td>tomato</td>\n",
              "      <td>#FF6347</td>\n",
              "      <td>rgb(255,99,71)</td>\n",
              "    </tr>\n",
              "    <tr>\n",
              "      <th>7</th>\n",
              "      <td>7</td>\n",
              "      <td>NaN</td>\n",
              "      <td>orangered</td>\n",
              "      <td>#FF4500</td>\n",
              "      <td>rgb(255,69,0)</td>\n",
              "    </tr>\n",
              "    <tr>\n",
              "      <th>8</th>\n",
              "      <td>8</td>\n",
              "      <td>NaN</td>\n",
              "      <td>gold</td>\n",
              "      <td>#FFD700</td>\n",
              "      <td>rgb(255,215,0)</td>\n",
              "    </tr>\n",
              "    <tr>\n",
              "      <th>9</th>\n",
              "      <td>9</td>\n",
              "      <td>NaN</td>\n",
              "      <td>orange</td>\n",
              "      <td>#FFA500</td>\n",
              "      <td>rgb(255,165,0)</td>\n",
              "    </tr>\n",
              "    <tr>\n",
              "      <th>10</th>\n",
              "      <td>10</td>\n",
              "      <td>NaN</td>\n",
              "      <td>darkorange</td>\n",
              "      <td>#FF8C00</td>\n",
              "      <td>rgb(255,140,0)</td>\n",
              "    </tr>\n",
              "    <tr>\n",
              "      <th>11</th>\n",
              "      <td>11</td>\n",
              "      <td>NaN</td>\n",
              "      <td>lightyellow</td>\n",
              "      <td>#FFFFE0</td>\n",
              "      <td>rgb(255,255,224)</td>\n",
              "    </tr>\n",
              "    <tr>\n",
              "      <th>12</th>\n",
              "      <td>12</td>\n",
              "      <td>NaN</td>\n",
              "      <td>lemonchiffon</td>\n",
              "      <td>#FFFACD</td>\n",
              "      <td>rgb(255,250,205)</td>\n",
              "    </tr>\n",
              "    <tr>\n",
              "      <th>13</th>\n",
              "      <td>13</td>\n",
              "      <td>NaN</td>\n",
              "      <td>papayawhip</td>\n",
              "      <td>#FFEFD5</td>\n",
              "      <td>rgb(255,239,213)</td>\n",
              "    </tr>\n",
              "    <tr>\n",
              "      <th>14</th>\n",
              "      <td>14</td>\n",
              "      <td>NaN</td>\n",
              "      <td>moccasin</td>\n",
              "      <td>#FFE4B5</td>\n",
              "      <td>rgb(255,228,181)</td>\n",
              "    </tr>\n",
              "    <tr>\n",
              "      <th>15</th>\n",
              "      <td>15</td>\n",
              "      <td>NaN</td>\n",
              "      <td>peachpuff</td>\n",
              "      <td>#FFDAB9</td>\n",
              "      <td>rgb(255,218,185)</td>\n",
              "    </tr>\n",
              "    <tr>\n",
              "      <th>16</th>\n",
              "      <td>16</td>\n",
              "      <td>NaN</td>\n",
              "      <td>palegoldenrod</td>\n",
              "      <td>#EEE8AA</td>\n",
              "      <td>rgb(238,232,170)</td>\n",
              "    </tr>\n",
              "    <tr>\n",
              "      <th>17</th>\n",
              "      <td>17</td>\n",
              "      <td>NaN</td>\n",
              "      <td>khaki</td>\n",
              "      <td>#F0E68C</td>\n",
              "      <td>rgb(240,230,140)</td>\n",
              "    </tr>\n",
              "    <tr>\n",
              "      <th>18</th>\n",
              "      <td>18</td>\n",
              "      <td>NaN</td>\n",
              "      <td>darkkhaki</td>\n",
              "      <td>#BDB76B</td>\n",
              "      <td>rgb(189,183,107)</td>\n",
              "    </tr>\n",
              "    <tr>\n",
              "      <th>19</th>\n",
              "      <td>19</td>\n",
              "      <td>NaN</td>\n",
              "      <td>yellow</td>\n",
              "      <td>#FFFF00</td>\n",
              "      <td>rgb(255,255,0)</td>\n",
              "    </tr>\n",
              "    <tr>\n",
              "      <th>20</th>\n",
              "      <td>20</td>\n",
              "      <td>NaN</td>\n",
              "      <td>lawngreen</td>\n",
              "      <td>#7CFC00</td>\n",
              "      <td>rgb(124,252,0)</td>\n",
              "    </tr>\n",
              "    <tr>\n",
              "      <th>21</th>\n",
              "      <td>21</td>\n",
              "      <td>NaN</td>\n",
              "      <td>chartreuse</td>\n",
              "      <td>#7FFF00</td>\n",
              "      <td>rgb(127,255,0)</td>\n",
              "    </tr>\n",
              "    <tr>\n",
              "      <th>22</th>\n",
              "      <td>22</td>\n",
              "      <td>NaN</td>\n",
              "      <td>limegreen</td>\n",
              "      <td>#32CD32</td>\n",
              "      <td>rgb(50,205,50)</td>\n",
              "    </tr>\n",
              "    <tr>\n",
              "      <th>23</th>\n",
              "      <td>23</td>\n",
              "      <td>NaN</td>\n",
              "      <td>lime</td>\n",
              "      <td>#00FF00</td>\n",
              "      <td>rgb(0.255.0)</td>\n",
              "    </tr>\n",
              "    <tr>\n",
              "      <th>24</th>\n",
              "      <td>24</td>\n",
              "      <td>NaN</td>\n",
              "      <td>forestgreen</td>\n",
              "      <td>#228B22</td>\n",
              "      <td>rgb(34,139,34)</td>\n",
              "    </tr>\n",
              "    <tr>\n",
              "      <th>25</th>\n",
              "      <td>25</td>\n",
              "      <td>NaN</td>\n",
              "      <td>green</td>\n",
              "      <td>#008000</td>\n",
              "      <td>rgb(0,128,0)</td>\n",
              "    </tr>\n",
              "    <tr>\n",
              "      <th>26</th>\n",
              "      <td>26</td>\n",
              "      <td>NaN</td>\n",
              "      <td>powderblue</td>\n",
              "      <td>#B0E0E6</td>\n",
              "      <td>rgb(176,224,230)</td>\n",
              "    </tr>\n",
              "    <tr>\n",
              "      <th>27</th>\n",
              "      <td>27</td>\n",
              "      <td>NaN</td>\n",
              "      <td>lightblue</td>\n",
              "      <td>#ADD8E6</td>\n",
              "      <td>rgb(173,216,230)</td>\n",
              "    </tr>\n",
              "    <tr>\n",
              "      <th>28</th>\n",
              "      <td>28</td>\n",
              "      <td>NaN</td>\n",
              "      <td>lightskyblue</td>\n",
              "      <td>#87CEFA</td>\n",
              "      <td>rgb(135,206,250)</td>\n",
              "    </tr>\n",
              "    <tr>\n",
              "      <th>29</th>\n",
              "      <td>29</td>\n",
              "      <td>NaN</td>\n",
              "      <td>skyblue</td>\n",
              "      <td>#87CEEB</td>\n",
              "      <td>rgb(135,206,235)</td>\n",
              "    </tr>\n",
              "    <tr>\n",
              "      <th>30</th>\n",
              "      <td>30</td>\n",
              "      <td>NaN</td>\n",
              "      <td>deepskyblue</td>\n",
              "      <td>#00BFFF</td>\n",
              "      <td>rgb(0,191,255)</td>\n",
              "    </tr>\n",
              "    <tr>\n",
              "      <th>31</th>\n",
              "      <td>31</td>\n",
              "      <td>NaN</td>\n",
              "      <td>lightsteelblue</td>\n",
              "      <td>#B0C4DE</td>\n",
              "      <td>rgb(176,196,222)</td>\n",
              "    </tr>\n",
              "    <tr>\n",
              "      <th>32</th>\n",
              "      <td>32</td>\n",
              "      <td>NaN</td>\n",
              "      <td>dodgerblue</td>\n",
              "      <td>#1E90FF</td>\n",
              "      <td>rgb(30,144,255)</td>\n",
              "    </tr>\n",
              "  </tbody>\n",
              "</table>\n",
              "</div>\n",
              "    <div class=\"colab-df-buttons\">\n",
              "\n",
              "  <div class=\"colab-df-container\">\n",
              "    <button class=\"colab-df-convert\" onclick=\"convertToInteractive('df-4423ee20-6e81-41df-8bc6-a8e6c23a0486')\"\n",
              "            title=\"Convert this dataframe to an interactive table.\"\n",
              "            style=\"display:none;\">\n",
              "\n",
              "  <svg xmlns=\"http://www.w3.org/2000/svg\" height=\"24px\" viewBox=\"0 -960 960 960\">\n",
              "    <path d=\"M120-120v-720h720v720H120Zm60-500h600v-160H180v160Zm220 220h160v-160H400v160Zm0 220h160v-160H400v160ZM180-400h160v-160H180v160Zm440 0h160v-160H620v160ZM180-180h160v-160H180v160Zm440 0h160v-160H620v160Z\"/>\n",
              "  </svg>\n",
              "    </button>\n",
              "\n",
              "  <style>\n",
              "    .colab-df-container {\n",
              "      display:flex;\n",
              "      gap: 12px;\n",
              "    }\n",
              "\n",
              "    .colab-df-convert {\n",
              "      background-color: #E8F0FE;\n",
              "      border: none;\n",
              "      border-radius: 50%;\n",
              "      cursor: pointer;\n",
              "      display: none;\n",
              "      fill: #1967D2;\n",
              "      height: 32px;\n",
              "      padding: 0 0 0 0;\n",
              "      width: 32px;\n",
              "    }\n",
              "\n",
              "    .colab-df-convert:hover {\n",
              "      background-color: #E2EBFA;\n",
              "      box-shadow: 0px 1px 2px rgba(60, 64, 67, 0.3), 0px 1px 3px 1px rgba(60, 64, 67, 0.15);\n",
              "      fill: #174EA6;\n",
              "    }\n",
              "\n",
              "    .colab-df-buttons div {\n",
              "      margin-bottom: 4px;\n",
              "    }\n",
              "\n",
              "    [theme=dark] .colab-df-convert {\n",
              "      background-color: #3B4455;\n",
              "      fill: #D2E3FC;\n",
              "    }\n",
              "\n",
              "    [theme=dark] .colab-df-convert:hover {\n",
              "      background-color: #434B5C;\n",
              "      box-shadow: 0px 1px 3px 1px rgba(0, 0, 0, 0.15);\n",
              "      filter: drop-shadow(0px 1px 2px rgba(0, 0, 0, 0.3));\n",
              "      fill: #FFFFFF;\n",
              "    }\n",
              "  </style>\n",
              "\n",
              "    <script>\n",
              "      const buttonEl =\n",
              "        document.querySelector('#df-4423ee20-6e81-41df-8bc6-a8e6c23a0486 button.colab-df-convert');\n",
              "      buttonEl.style.display =\n",
              "        google.colab.kernel.accessAllowed ? 'block' : 'none';\n",
              "\n",
              "      async function convertToInteractive(key) {\n",
              "        const element = document.querySelector('#df-4423ee20-6e81-41df-8bc6-a8e6c23a0486');\n",
              "        const dataTable =\n",
              "          await google.colab.kernel.invokeFunction('convertToInteractive',\n",
              "                                                    [key], {});\n",
              "        if (!dataTable) return;\n",
              "\n",
              "        const docLinkHtml = 'Like what you see? Visit the ' +\n",
              "          '<a target=\"_blank\" href=https://colab.research.google.com/notebooks/data_table.ipynb>data table notebook</a>'\n",
              "          + ' to learn more about interactive tables.';\n",
              "        element.innerHTML = '';\n",
              "        dataTable['output_type'] = 'display_data';\n",
              "        await google.colab.output.renderOutput(dataTable, element);\n",
              "        const docLink = document.createElement('div');\n",
              "        docLink.innerHTML = docLinkHtml;\n",
              "        element.appendChild(docLink);\n",
              "      }\n",
              "    </script>\n",
              "  </div>\n",
              "\n",
              "\n",
              "<div id=\"df-f3373be1-3746-4360-ac03-c3a93d718ea7\">\n",
              "  <button class=\"colab-df-quickchart\" onclick=\"quickchart('df-f3373be1-3746-4360-ac03-c3a93d718ea7')\"\n",
              "            title=\"Suggest charts\"\n",
              "            style=\"display:none;\">\n",
              "\n",
              "<svg xmlns=\"http://www.w3.org/2000/svg\" height=\"24px\"viewBox=\"0 0 24 24\"\n",
              "     width=\"24px\">\n",
              "    <g>\n",
              "        <path d=\"M19 3H5c-1.1 0-2 .9-2 2v14c0 1.1.9 2 2 2h14c1.1 0 2-.9 2-2V5c0-1.1-.9-2-2-2zM9 17H7v-7h2v7zm4 0h-2V7h2v10zm4 0h-2v-4h2v4z\"/>\n",
              "    </g>\n",
              "</svg>\n",
              "  </button>\n",
              "\n",
              "<style>\n",
              "  .colab-df-quickchart {\n",
              "      --bg-color: #E8F0FE;\n",
              "      --fill-color: #1967D2;\n",
              "      --hover-bg-color: #E2EBFA;\n",
              "      --hover-fill-color: #174EA6;\n",
              "      --disabled-fill-color: #AAA;\n",
              "      --disabled-bg-color: #DDD;\n",
              "  }\n",
              "\n",
              "  [theme=dark] .colab-df-quickchart {\n",
              "      --bg-color: #3B4455;\n",
              "      --fill-color: #D2E3FC;\n",
              "      --hover-bg-color: #434B5C;\n",
              "      --hover-fill-color: #FFFFFF;\n",
              "      --disabled-bg-color: #3B4455;\n",
              "      --disabled-fill-color: #666;\n",
              "  }\n",
              "\n",
              "  .colab-df-quickchart {\n",
              "    background-color: var(--bg-color);\n",
              "    border: none;\n",
              "    border-radius: 50%;\n",
              "    cursor: pointer;\n",
              "    display: none;\n",
              "    fill: var(--fill-color);\n",
              "    height: 32px;\n",
              "    padding: 0;\n",
              "    width: 32px;\n",
              "  }\n",
              "\n",
              "  .colab-df-quickchart:hover {\n",
              "    background-color: var(--hover-bg-color);\n",
              "    box-shadow: 0 1px 2px rgba(60, 64, 67, 0.3), 0 1px 3px 1px rgba(60, 64, 67, 0.15);\n",
              "    fill: var(--button-hover-fill-color);\n",
              "  }\n",
              "\n",
              "  .colab-df-quickchart-complete:disabled,\n",
              "  .colab-df-quickchart-complete:disabled:hover {\n",
              "    background-color: var(--disabled-bg-color);\n",
              "    fill: var(--disabled-fill-color);\n",
              "    box-shadow: none;\n",
              "  }\n",
              "\n",
              "  .colab-df-spinner {\n",
              "    border: 2px solid var(--fill-color);\n",
              "    border-color: transparent;\n",
              "    border-bottom-color: var(--fill-color);\n",
              "    animation:\n",
              "      spin 1s steps(1) infinite;\n",
              "  }\n",
              "\n",
              "  @keyframes spin {\n",
              "    0% {\n",
              "      border-color: transparent;\n",
              "      border-bottom-color: var(--fill-color);\n",
              "      border-left-color: var(--fill-color);\n",
              "    }\n",
              "    20% {\n",
              "      border-color: transparent;\n",
              "      border-left-color: var(--fill-color);\n",
              "      border-top-color: var(--fill-color);\n",
              "    }\n",
              "    30% {\n",
              "      border-color: transparent;\n",
              "      border-left-color: var(--fill-color);\n",
              "      border-top-color: var(--fill-color);\n",
              "      border-right-color: var(--fill-color);\n",
              "    }\n",
              "    40% {\n",
              "      border-color: transparent;\n",
              "      border-right-color: var(--fill-color);\n",
              "      border-top-color: var(--fill-color);\n",
              "    }\n",
              "    60% {\n",
              "      border-color: transparent;\n",
              "      border-right-color: var(--fill-color);\n",
              "    }\n",
              "    80% {\n",
              "      border-color: transparent;\n",
              "      border-right-color: var(--fill-color);\n",
              "      border-bottom-color: var(--fill-color);\n",
              "    }\n",
              "    90% {\n",
              "      border-color: transparent;\n",
              "      border-bottom-color: var(--fill-color);\n",
              "    }\n",
              "  }\n",
              "</style>\n",
              "\n",
              "  <script>\n",
              "    async function quickchart(key) {\n",
              "      const quickchartButtonEl =\n",
              "        document.querySelector('#' + key + ' button');\n",
              "      quickchartButtonEl.disabled = true;  // To prevent multiple clicks.\n",
              "      quickchartButtonEl.classList.add('colab-df-spinner');\n",
              "      try {\n",
              "        const charts = await google.colab.kernel.invokeFunction(\n",
              "            'suggestCharts', [key], {});\n",
              "      } catch (error) {\n",
              "        console.error('Error during call to suggestCharts:', error);\n",
              "      }\n",
              "      quickchartButtonEl.classList.remove('colab-df-spinner');\n",
              "      quickchartButtonEl.classList.add('colab-df-quickchart-complete');\n",
              "    }\n",
              "    (() => {\n",
              "      let quickchartButtonEl =\n",
              "        document.querySelector('#df-f3373be1-3746-4360-ac03-c3a93d718ea7 button');\n",
              "      quickchartButtonEl.style.display =\n",
              "        google.colab.kernel.accessAllowed ? 'block' : 'none';\n",
              "    })();\n",
              "  </script>\n",
              "</div>\n",
              "    </div>\n",
              "  </div>\n"
            ]
          },
          "metadata": {},
          "execution_count": 62
        }
      ]
    },
    {
      "cell_type": "markdown",
      "source": [
        "## Editor :"
      ],
      "metadata": {
        "id": "T4YMf50c5sYn"
      }
    },
    {
      "cell_type": "markdown",
      "source": [
        "Matin Hajnorouzi"
      ],
      "metadata": {
        "id": "kQPPwna15xwI"
      }
    }
  ]
}