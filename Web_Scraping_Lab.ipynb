{
  "nbformat": 4,
  "nbformat_minor": 0,
  "metadata": {
    "colab": {
      "provenance": [],
      "authorship_tag": "ABX9TyNkmMsDJnar5YdpQH4gy3yS",
      "include_colab_link": true
    },
    "kernelspec": {
      "name": "python3",
      "display_name": "Python 3"
    },
    "language_info": {
      "name": "python"
    }
  },
  "cells": [
    {
      "cell_type": "markdown",
      "metadata": {
        "id": "view-in-github",
        "colab_type": "text"
      },
      "source": [
        "<a href=\"https://colab.research.google.com/github/Matinnorouzi2023/data-science/blob/main/Web_Scraping_Lab.ipynb\" target=\"_parent\"><img src=\"https://colab.research.google.com/assets/colab-badge.svg\" alt=\"Open In Colab\"/></a>"
      ]
    },
    {
      "cell_type": "markdown",
      "source": [
        "# **Web Scraping Lab**"
      ],
      "metadata": {
        "id": "bQTkZhqczcCV"
      }
    },
    {
      "cell_type": "markdown",
      "source": [
        "## Objectives"
      ],
      "metadata": {
        "id": "dhtf8V3fzb52"
      }
    },
    {
      "cell_type": "markdown",
      "source": [
        "After completing this lab you will be:\n",
        "\n",
        "*   Familiar with the basics of the `BeautifulSoup` Python library\n",
        "*   Be able to scrape webpages for data and filter the data"
      ],
      "metadata": {
        "id": "4CuvLRRyzTRQ"
      }
    },
    {
      "cell_type": "markdown",
      "source": [
        "<h2>Table of Contents</h2>\n",
        "<div class=\"alert alert-block alert-info\" style=\"margin-top: 20px\">\n",
        "    <ul>\n",
        "        <li>\n",
        "            <a href=\"#Beautiful-Soup-Object\">Beautiful Soup Object</a>\n",
        "            <ul>\n",
        "                <li><a href=\"#Tags\">Tags</a></li>\n",
        "                <li><a href=\"#Children,-Parents,-and-Siblings\">Children, Parents, and Siblings</a></li>\n",
        "                <li><a href=\"#HTML-Attributes\">HTML Attributes</a></li>\n",
        "                <li><a href=\"#Navigable-String\">Navigable String</a></li>\n",
        "            </ul>\n",
        "        </li>\n",
        "     </ul>\n",
        "    <ul>\n",
        "        <li>\n",
        "            <a href=\"#Filter\">Filter</a>\n",
        "            <ul>\n",
        "                <li><a href=\"#find_All\">find_All</a></li>\n",
        "                <li><a href=\"#find\">find</a></li>\n",
        "            </ul>\n",
        "        </li>\n",
        "     </ul>\n",
        "     <ul>\n",
        "        <li>\n",
        "            <a href=\"#Downloading-And-Scraping-The-Contents-Of-A-Web-Page\">Downloading And Scraping The Contents Of A Web Page</a></li>\n",
        "         <li> <a href=\"#Scraping-tables-from-a-Web-page-using-Pandas\">Scraping tables from a Web page using Pandas</a></li>\n",
        "    </ul>\n",
        "\n",
        "</div>\n",
        "\n",
        "<hr>\n"
      ],
      "metadata": {
        "id": "bXwxry_uztkW"
      }
    },
    {
      "cell_type": "markdown",
      "source": [
        "For this lab, we are going to be using Python and several Python libraries. Some of these libraries might be installed in your lab environment or in SN Labs. Others may need to be installed by you. The cells below will install these libraries when executed."
      ],
      "metadata": {
        "id": "2jUtFyeGztrL"
      }
    },
    {
      "cell_type": "code",
      "execution_count": 1,
      "metadata": {
        "colab": {
          "base_uri": "https://localhost:8080/"
        },
        "id": "UX0LlLZgzPnz",
        "outputId": "8a9caf5f-d45a-4863-fc3f-609605479456"
      },
      "outputs": [
        {
          "output_type": "stream",
          "name": "stdout",
          "text": [
            "Requirement already satisfied: html5lib in /usr/local/lib/python3.10/dist-packages (1.1)\n",
            "Requirement already satisfied: six>=1.9 in /usr/local/lib/python3.10/dist-packages (from html5lib) (1.16.0)\n",
            "Requirement already satisfied: webencodings in /usr/local/lib/python3.10/dist-packages (from html5lib) (0.5.1)\n"
          ]
        }
      ],
      "source": [
        "!pip install html5lib"
      ]
    },
    {
      "cell_type": "markdown",
      "source": [
        "**Note:- After running the above code cell, restart the kernel and don't run the above code cell after restarting the kernel.**\n"
      ],
      "metadata": {
        "id": "aoGVTcqaztzi"
      }
    },
    {
      "cell_type": "code",
      "source": [
        "!pip install bs4\n",
        "#!pip install requests"
      ],
      "metadata": {
        "colab": {
          "base_uri": "https://localhost:8080/"
        },
        "id": "-rEYcGSSz8P2",
        "outputId": "865af819-e9c3-4fdf-86de-7490e4463676"
      },
      "execution_count": 2,
      "outputs": [
        {
          "output_type": "stream",
          "name": "stdout",
          "text": [
            "Collecting bs4\n",
            "  Downloading bs4-0.0.1.tar.gz (1.1 kB)\n",
            "  Preparing metadata (setup.py) ... \u001b[?25l\u001b[?25hdone\n",
            "Requirement already satisfied: beautifulsoup4 in /usr/local/lib/python3.10/dist-packages (from bs4) (4.11.2)\n",
            "Requirement already satisfied: soupsieve>1.2 in /usr/local/lib/python3.10/dist-packages (from beautifulsoup4->bs4) (2.5)\n",
            "Building wheels for collected packages: bs4\n",
            "  Building wheel for bs4 (setup.py) ... \u001b[?25l\u001b[?25hdone\n",
            "  Created wheel for bs4: filename=bs4-0.0.1-py3-none-any.whl size=1257 sha256=8f173944ffcb609244e723b6bf9e134155d0ed7c84d5da8cb2ad183ca5fda70a\n",
            "  Stored in directory: /root/.cache/pip/wheels/25/42/45/b773edc52acb16cd2db4cf1a0b47117e2f69bb4eb300ed0e70\n",
            "Successfully built bs4\n",
            "Installing collected packages: bs4\n",
            "Successfully installed bs4-0.0.1\n"
          ]
        }
      ]
    },
    {
      "cell_type": "markdown",
      "source": [
        "Import the required modules and functions"
      ],
      "metadata": {
        "id": "AQNPqCZUz_eH"
      }
    },
    {
      "cell_type": "code",
      "source": [
        "from bs4 import BeautifulSoup # this module helps in web scrapping.\n",
        "import requests  # this module helps us to download a web page"
      ],
      "metadata": {
        "id": "2OGfXohY0F3X"
      },
      "execution_count": 3,
      "outputs": []
    },
    {
      "cell_type": "markdown",
      "source": [
        "## Beautiful Soup Object\n"
      ],
      "metadata": {
        "id": "4RYeiwHp0JgX"
      }
    },
    {
      "cell_type": "markdown",
      "source": [
        "Beautiful Soup is a Python library for pulling data out of HTML and XML files, we will focus on HTML files. This is accomplished by representing the HTML as a set of objects with methods used to parse the HTML.  We can navigate the HTML as a tree, and/or filter out what we are looking for.\n",
        "\n",
        "Consider the following HTML:\n"
      ],
      "metadata": {
        "id": "lg8B0mCV0MUC"
      }
    },
    {
      "cell_type": "code",
      "source": [
        "%%html\n",
        "<!DOCTYPE html>\n",
        "<html>\n",
        "<head>\n",
        "<title>Page Title</title>\n",
        "</head>\n",
        "<body>\n",
        "<h3><b id='boldest'>Lebron James</b></h3>\n",
        "<p> Salary: $ 92,000,000 </p>\n",
        "<h3> Stephen Curry</h3>\n",
        "<p> Salary: $85,000, 000 </p>\n",
        "<h3> Kevin Durant </h3>\n",
        "<p> Salary: $73,200, 000</p>\n",
        "</body>\n",
        "</html>"
      ],
      "metadata": {
        "colab": {
          "base_uri": "https://localhost:8080/",
          "height": 203
        },
        "id": "wyvgHGsU0O3S",
        "outputId": "455f1d00-8dc7-45f1-b30f-653c3bb6e696"
      },
      "execution_count": 4,
      "outputs": [
        {
          "output_type": "display_data",
          "data": {
            "text/plain": [
              "<IPython.core.display.HTML object>"
            ],
            "text/html": [
              "<!DOCTYPE html>\n",
              "<html>\n",
              "<head>\n",
              "<title>Page Title</title>\n",
              "</head>\n",
              "<body>\n",
              "<h3><b id='boldest'>Lebron James</b></h3>\n",
              "<p> Salary: $ 92,000,000 </p>\n",
              "<h3> Stephen Curry</h3>\n",
              "<p> Salary: $85,000, 000 </p>\n",
              "<h3> Kevin Durant </h3>\n",
              "<p> Salary: $73,200, 000</p>\n",
              "</body>\n",
              "</html>\n"
            ]
          },
          "metadata": {}
        }
      ]
    },
    {
      "cell_type": "markdown",
      "source": [
        "We can store it as a string in the variable HTML:"
      ],
      "metadata": {
        "id": "xF-3_ANj0WOE"
      }
    },
    {
      "cell_type": "code",
      "source": [
        "html=\"<!DOCTYPE html><html><head><title>Page Title</title></head><body><h3><b id='boldest'>Lebron James</b></h3><p> Salary: $ 92,000,000 </p><h3> Stephen Curry</h3><p> Salary: $85,000, 000 </p><h3> Kevin Durant </h3><p> Salary: $73,200, 000</p></body></html>\""
      ],
      "metadata": {
        "id": "2NU9sBj10an9"
      },
      "execution_count": null,
      "outputs": []
    },
    {
      "cell_type": "markdown",
      "source": [
        "To parse a document, pass it into the <code>BeautifulSoup</code> constructor. The <code>BeautifulSoup</code> object represents the document as a nested data structure:"
      ],
      "metadata": {
        "id": "0jZN2g_E0hTi"
      }
    },
    {
      "cell_type": "code",
      "source": [
        "soup = BeautifulSoup(html, 'html5lib')"
      ],
      "metadata": {
        "id": "vVAiUzSG0kMy"
      },
      "execution_count": null,
      "outputs": []
    },
    {
      "cell_type": "markdown",
      "source": [
        "First, the document is converted to Unicode (similar to ASCII) and HTML entities are converted to Unicode characters. Beautiful Soup transforms a complex HTML document into a complex tree of Python objects. The <code>BeautifulSoup</code> object can create other types of objects. In this lab, we will cover <code>BeautifulSoup</code> and <code>Tag</code> objects, that for the purposes of this lab are identical. Finally, we will look at <code>NavigableString</code> objects."
      ],
      "metadata": {
        "id": "PsYp-3lW0mxr"
      }
    },
    {
      "cell_type": "markdown",
      "source": [
        "We can use the method <code>prettify()</code> to display the HTML in the nested structure:"
      ],
      "metadata": {
        "id": "0Cxn_5FR0pX4"
      }
    },
    {
      "cell_type": "code",
      "source": [
        "print(soup.prettify())"
      ],
      "metadata": {
        "id": "ZxXbOMFx0rQ4"
      },
      "execution_count": null,
      "outputs": []
    },
    {
      "cell_type": "markdown",
      "source": [
        "## Tags"
      ],
      "metadata": {
        "id": "QmMJOGpt0tdu"
      }
    },
    {
      "cell_type": "markdown",
      "source": [
        "Let's say we want the  title of the page and the name of the top paid player. We can use the <code>Tag</code>. The <code>Tag</code> object corresponds to an HTML tag in the original document, for example, the tag title."
      ],
      "metadata": {
        "id": "uwDDOEa-0vn6"
      }
    },
    {
      "cell_type": "code",
      "source": [
        "tag_object=soup.title\n",
        "print(\"tag object:\",tag_object)"
      ],
      "metadata": {
        "id": "twwginCA0ycP"
      },
      "execution_count": null,
      "outputs": []
    },
    {
      "cell_type": "markdown",
      "source": [
        "we can see the tag type <code>bs4.element.Tag</code>"
      ],
      "metadata": {
        "id": "RfWeL1Q600q2"
      }
    },
    {
      "cell_type": "code",
      "source": [
        "print(\"tag object type:\",type(tag_object))"
      ],
      "metadata": {
        "id": "N38zT3Jo042e"
      },
      "execution_count": null,
      "outputs": []
    },
    {
      "cell_type": "markdown",
      "source": [
        "If there is more than one <code>Tag</code> with the same name, the first element with that <code>Tag</code> name is called. This corresponds to the most paid player:\n"
      ],
      "metadata": {
        "id": "vfzo6YJS07Ji"
      }
    },
    {
      "cell_type": "code",
      "source": [
        "tag_object=soup.h3\n",
        "tag_object"
      ],
      "metadata": {
        "id": "XkCqpHwa09CN"
      },
      "execution_count": null,
      "outputs": []
    },
    {
      "cell_type": "markdown",
      "source": [
        "Enclosed in the bold attribute <code>b</code>, it helps to use the tree representation. We can navigate down the tree using the child attribute to get the name."
      ],
      "metadata": {
        "id": "iyTe_hV20_G4"
      }
    },
    {
      "cell_type": "markdown",
      "source": [
        "### Children, Parents, and Siblings"
      ],
      "metadata": {
        "id": "didmQfLh1C24"
      }
    },
    {
      "cell_type": "markdown",
      "source": [
        "As stated above, the <code>Tag</code> object is a tree of objects. We can access the child of the tag or navigate down the branch as follows:\n"
      ],
      "metadata": {
        "id": "iWtkfP-D1EpM"
      }
    },
    {
      "cell_type": "code",
      "source": [
        "tag_child =tag_object.b\n",
        "tag_child"
      ],
      "metadata": {
        "id": "t3TFZ8Vl1GqI"
      },
      "execution_count": null,
      "outputs": []
    },
    {
      "cell_type": "markdown",
      "source": [
        "You can access the parent with the <code> parent</code>."
      ],
      "metadata": {
        "id": "EPVHqIj31Jvb"
      }
    },
    {
      "cell_type": "code",
      "source": [
        "parent_tag=tag_child.parent\n",
        "parent_tag"
      ],
      "metadata": {
        "id": "iaOhin541LW9"
      },
      "execution_count": null,
      "outputs": []
    },
    {
      "cell_type": "markdown",
      "source": [
        "this is identical to:"
      ],
      "metadata": {
        "id": "xPTlUyeT1Nea"
      }
    },
    {
      "cell_type": "code",
      "source": [
        "tag_object"
      ],
      "metadata": {
        "id": "-4lWZGI71Pgr"
      },
      "execution_count": null,
      "outputs": []
    },
    {
      "cell_type": "markdown",
      "source": [
        "<code>tag_object</code> parent is the <code>body</code> element."
      ],
      "metadata": {
        "id": "66cLieZV1b8F"
      }
    },
    {
      "cell_type": "code",
      "source": [
        "tag_object.parent"
      ],
      "metadata": {
        "id": "I_UhdzOb1PTB"
      },
      "execution_count": null,
      "outputs": []
    },
    {
      "cell_type": "markdown",
      "source": [
        "<code>tag_object</code> sibling is the <code>paragraph</code> element."
      ],
      "metadata": {
        "id": "lHWeVg1J1i-0"
      }
    },
    {
      "cell_type": "code",
      "source": [
        "sibling_1=tag_object.next_sibling\n",
        "sibling_1"
      ],
      "metadata": {
        "id": "kjmXF-6D1leE"
      },
      "execution_count": null,
      "outputs": []
    },
    {
      "cell_type": "markdown",
      "source": [
        "`sibling_2` is the `header` element, which is also a sibling of both `sibling_1` and `tag_object`"
      ],
      "metadata": {
        "id": "XTOyt7E51n0F"
      }
    },
    {
      "cell_type": "code",
      "source": [
        "sibling_2=sibling_1.next_sibling\n",
        "sibling_2"
      ],
      "metadata": {
        "id": "Ss9QFZ4-1p4j"
      },
      "execution_count": null,
      "outputs": []
    },
    {
      "cell_type": "markdown",
      "source": [
        "<h3 id=\"first_question\">Exercise: <code>next_sibling</code></h3>"
      ],
      "metadata": {
        "id": "jMuMhWX61r8k"
      }
    },
    {
      "cell_type": "markdown",
      "source": [
        "Use the object <code>sibling\\_2</code> and the method <code>next_sibling</code> to find the salary of Stephen Curry:"
      ],
      "metadata": {
        "id": "sw7EEpfU1zet"
      }
    },
    {
      "cell_type": "markdown",
      "source": [
        "<details><summary>Click here for the solution</summary>\n",
        "\n",
        "```\n",
        "sibling_2.next_sibling\n",
        "\n",
        "```\n",
        "\n",
        "</details>\n"
      ],
      "metadata": {
        "id": "KZVNAYDF14cH"
      }
    },
    {
      "cell_type": "code",
      "source": [
        "sibling_2.next_sibling"
      ],
      "metadata": {
        "id": "E8PEYSmM1yyj"
      },
      "execution_count": null,
      "outputs": []
    },
    {
      "cell_type": "markdown",
      "source": [
        "### HTML Attributes"
      ],
      "metadata": {
        "id": "Esxu_mA11913"
      }
    },
    {
      "cell_type": "markdown",
      "source": [
        "If the tag has attributes, the tag <code>id=\"boldest\"</code> has an attribute <code>id</code> whose value is <code>boldest</code>. You can access a tag's attributes by treating the tag like a dictionary:"
      ],
      "metadata": {
        "id": "HF_xm-QQ2AAz"
      }
    },
    {
      "cell_type": "code",
      "source": [
        "tag_child['id']"
      ],
      "metadata": {
        "id": "gL0rfxUe2DIa"
      },
      "execution_count": null,
      "outputs": []
    },
    {
      "cell_type": "markdown",
      "source": [
        "You can access that dictionary directly as <code>attrs</code>:"
      ],
      "metadata": {
        "id": "rFgzTCLe2IH7"
      }
    },
    {
      "cell_type": "code",
      "source": [
        "tag_child.attrs"
      ],
      "metadata": {
        "id": "ZBRnT6222KJa"
      },
      "execution_count": null,
      "outputs": []
    },
    {
      "cell_type": "markdown",
      "source": [
        "You can also work with Multi-valued attributes. Check out <a href=\"https://www.crummy.com/software/BeautifulSoup/bs4/doc/?utm_medium=Exinfluencer&utm_source=Exinfluencer&utm_content=000026UJ&utm_term=10006555&utm_id=NA-SkillsNetwork-Channel-SkillsNetworkCoursesIBMDeveloperSkillsNetworkPY0101ENSkillsNetwork19487395-2021-01-01\">\\[1]</a> for more.\n"
      ],
      "metadata": {
        "id": "ZxO5Ebyu2Mjd"
      }
    },
    {
      "cell_type": "markdown",
      "source": [
        "We can also obtain the content of the attribute of the <code>tag</code> using the Python <code>get()</code> method."
      ],
      "metadata": {
        "id": "qmLSKv6P2O_j"
      }
    },
    {
      "cell_type": "code",
      "source": [
        "tag_child.get('id')"
      ],
      "metadata": {
        "id": "BjbydWJA2RSh"
      },
      "execution_count": null,
      "outputs": []
    },
    {
      "cell_type": "markdown",
      "source": [
        "### Navigable String"
      ],
      "metadata": {
        "id": "O5CtvrXJ2TV-"
      }
    },
    {
      "cell_type": "markdown",
      "source": [
        "A string corresponds to a bit of text or content within a tag. Beautiful Soup uses the <code>NavigableString</code> class to contain this text. In our HTML we can obtain the name of the first player by extracting the string of the <code>Tag</code> object <code>tag_child</code> as follows:\n"
      ],
      "metadata": {
        "id": "roF2BL0G2VVK"
      }
    },
    {
      "cell_type": "code",
      "source": [
        "tag_string=tag_child.string\n",
        "tag_string"
      ],
      "metadata": {
        "id": "v3H6vwMj2XiG"
      },
      "execution_count": null,
      "outputs": []
    },
    {
      "cell_type": "markdown",
      "source": [
        "we can verify the type is Navigable String"
      ],
      "metadata": {
        "id": "Zk63qQM32Zma"
      }
    },
    {
      "cell_type": "code",
      "source": [
        "type(tag_string)"
      ],
      "metadata": {
        "id": "ThUqhAkO2bl4"
      },
      "execution_count": null,
      "outputs": []
    },
    {
      "cell_type": "markdown",
      "source": [
        "A NavigableString is similar to a Python string or Unicode string. To be more precise, the main difference is that it also supports some <code>BeautifulSoup</code> features. We can convert it to string object in Python:"
      ],
      "metadata": {
        "id": "n9LyI6YN2dlW"
      }
    },
    {
      "cell_type": "code",
      "source": [
        "unicode_string = str(tag_string)\n",
        "unicode_string"
      ],
      "metadata": {
        "id": "pRmKORAU2g8Q"
      },
      "execution_count": null,
      "outputs": []
    },
    {
      "cell_type": "markdown",
      "source": [
        "## Filter"
      ],
      "metadata": {
        "id": "GIEEPtCf2inN"
      }
    },
    {
      "cell_type": "markdown",
      "source": [
        "Filters allow you to find complex patterns, the simplest filter is a string. In this section we will pass a string to a different filter method and Beautiful Soup will perform a match against that exact string. Consider the following HTML of rocket launches:\n"
      ],
      "metadata": {
        "id": "atrLgpRh2lDx"
      }
    },
    {
      "cell_type": "code",
      "source": [
        "%%html\n",
        "<table>\n",
        "  <tr>\n",
        "    <td id='flight' >Flight No</td>\n",
        "    <td>Launch site</td>\n",
        "    <td>Payload mass</td>\n",
        "   </tr>\n",
        "  <tr>\n",
        "    <td>1</td>\n",
        "    <td><a href='https://en.wikipedia.org/wiki/Florida'>Florida</a></td>\n",
        "    <td>300 kg</td>\n",
        "  </tr>\n",
        "  <tr>\n",
        "    <td>2</td>\n",
        "    <td><a href='https://en.wikipedia.org/wiki/Texas'>Texas</a></td>\n",
        "    <td>94 kg</td>\n",
        "  </tr>\n",
        "  <tr>\n",
        "    <td>3</td>\n",
        "    <td><a href='https://en.wikipedia.org/wiki/Florida'>Florida<a> </td>\n",
        "    <td>80 kg</td>\n",
        "  </tr>\n",
        "</table>"
      ],
      "metadata": {
        "id": "ZWOoEhxj2nUu"
      },
      "execution_count": null,
      "outputs": []
    },
    {
      "cell_type": "markdown",
      "source": [
        "We can store it as a string in the variable <code>table</code>:"
      ],
      "metadata": {
        "id": "y-5SVdC42r3S"
      }
    },
    {
      "cell_type": "code",
      "source": [
        "table=\"<table><tr><td id='flight'>Flight No</td><td>Launch site</td> <td>Payload mass</td></tr><tr> <td>1</td><td><a href='https://en.wikipedia.org/wiki/Florida'>Florida<a></td><td>300 kg</td></tr><tr><td>2</td><td><a href='https://en.wikipedia.org/wiki/Texas'>Texas</a></td><td>94 kg</td></tr><tr><td>3</td><td><a href='https://en.wikipedia.org/wiki/Florida'>Florida<a> </td><td>80 kg</td></tr></table>\""
      ],
      "metadata": {
        "id": "KTynPjl32xVS"
      },
      "execution_count": null,
      "outputs": []
    },
    {
      "cell_type": "code",
      "source": [
        "table_bs = BeautifulSoup(table, 'html5lib')"
      ],
      "metadata": {
        "id": "w6x2EQoo2zHL"
      },
      "execution_count": null,
      "outputs": []
    },
    {
      "cell_type": "markdown",
      "source": [
        "## find_All"
      ],
      "metadata": {
        "id": "MvKvZmof23fN"
      }
    },
    {
      "cell_type": "markdown",
      "source": [
        "The <code>find_all()</code> method looks through a tag's descendants and retrieves all descendants that match your filters.\n",
        "\n",
        "<p>\n",
        "The Method signature for <code>find_all(name, attrs, recursive, string, limit, **kwargs)<c/ode>\n",
        "</p>\n"
      ],
      "metadata": {
        "id": "AAl84gov26eq"
      }
    },
    {
      "cell_type": "markdown",
      "source": [
        "### Name"
      ],
      "metadata": {
        "id": "NJ-6fjWg29j5"
      }
    },
    {
      "cell_type": "markdown",
      "source": [
        "When we set the <code>name</code> parameter to a tag name, the method will extract all the tags with that name and its children."
      ],
      "metadata": {
        "id": "MS8WtIzD2_0w"
      }
    },
    {
      "cell_type": "code",
      "source": [
        "table_rows=table_bs.find_all('tr')\n",
        "table_rows"
      ],
      "metadata": {
        "id": "BXE3yfMy3CEa"
      },
      "execution_count": null,
      "outputs": []
    },
    {
      "cell_type": "markdown",
      "source": [
        "The result is a Python iterable just like a list, each element is a <code>tag</code> object:"
      ],
      "metadata": {
        "id": "h3AdUtTr3EI1"
      }
    },
    {
      "cell_type": "code",
      "source": [
        "first_row =table_rows[0]\n",
        "first_row"
      ],
      "metadata": {
        "id": "_L0ilUrD3GCb"
      },
      "execution_count": null,
      "outputs": []
    },
    {
      "cell_type": "markdown",
      "source": [
        "The type is <code>tag</code>"
      ],
      "metadata": {
        "id": "kjuzJ6W03Ibl"
      }
    },
    {
      "cell_type": "code",
      "source": [
        "print(type(first_row))"
      ],
      "metadata": {
        "id": "XRrspq2Y3RGt"
      },
      "execution_count": null,
      "outputs": []
    },
    {
      "cell_type": "markdown",
      "source": [
        "we can obtain the child"
      ],
      "metadata": {
        "id": "zYMvoUXn3TWd"
      }
    },
    {
      "cell_type": "code",
      "source": [
        "first_row.td"
      ],
      "metadata": {
        "id": "AHD-BNRp3UDP"
      },
      "execution_count": null,
      "outputs": []
    },
    {
      "cell_type": "code",
      "source": [
        "for i,row in enumerate(table_rows):\n",
        "    print(\"row\",i,\"is\",row)\n",
        ""
      ],
      "metadata": {
        "id": "-Eee6x5C3a-z"
      },
      "execution_count": null,
      "outputs": []
    },
    {
      "cell_type": "markdown",
      "source": [
        "If we iterate through the list, each element corresponds to a row in the table:"
      ],
      "metadata": {
        "id": "lfTyIfg23VwS"
      }
    },
    {
      "cell_type": "markdown",
      "source": [
        "As <code>row</code> is a <code>cell</code> object, we can apply the method <code>find_all</code> to it and extract table cells in the object <code>cells</code> using the tag <code>td</code>, this is all the children with the name <code>td</code>. The result is a list, each element corresponds to a cell and is a <code>Tag</code> object, we can iterate through this list as well. We can extract the content using the <code>string</code> attribute.\n"
      ],
      "metadata": {
        "id": "fYZlINpZ3c8T"
      }
    },
    {
      "cell_type": "code",
      "source": [
        "for i,row in enumerate(table_rows):\n",
        "    print(\"row\",i)\n",
        "    cells=row.find_all('td')\n",
        "    for j,cell in enumerate(cells):\n",
        "        print('colunm',j,\"cell\",cell)"
      ],
      "metadata": {
        "id": "K_o5wPrL3fbc"
      },
      "execution_count": null,
      "outputs": []
    },
    {
      "cell_type": "markdown",
      "source": [
        "If we use a list we can match against any item in that list."
      ],
      "metadata": {
        "id": "99vnOmGP3f2N"
      }
    },
    {
      "cell_type": "code",
      "source": [
        "list_input=table_bs .find_all(name=[\"tr\", \"td\"])\n",
        "list_input"
      ],
      "metadata": {
        "id": "jX13_DG03jFR"
      },
      "execution_count": null,
      "outputs": []
    },
    {
      "cell_type": "markdown",
      "source": [
        "### Attributes"
      ],
      "metadata": {
        "id": "FJObaiaD3lI_"
      }
    },
    {
      "cell_type": "markdown",
      "source": [
        "If the argument is not recognized it will be turned into a filter on the tag's attributes. For example with the <code>id</code> argument, Beautiful Soup will filter against each tag's <code>id</code> attribute. For example, the first <code>td</code> elements have a value of <code>id</code> of <code>flight</code>, therefore we can filter based on that <code>id</code> value."
      ],
      "metadata": {
        "id": "1iWJpzTq3nDc"
      }
    },
    {
      "cell_type": "code",
      "source": [
        "table_bs.find_all(id=\"flight\")"
      ],
      "metadata": {
        "id": "7kwkfVDK3qQ0"
      },
      "execution_count": null,
      "outputs": []
    },
    {
      "cell_type": "markdown",
      "source": [
        "We can find all the elements that have links to the Florida Wikipedia page:"
      ],
      "metadata": {
        "id": "SlU0-Arv3sUW"
      }
    },
    {
      "cell_type": "code",
      "source": [
        "list_input=table_bs.find_all(href=\"https://en.wikipedia.org/wiki/Florida\")\n",
        "list_input"
      ],
      "metadata": {
        "id": "sfCB-Bfv3urA"
      },
      "execution_count": null,
      "outputs": []
    },
    {
      "cell_type": "markdown",
      "source": [
        "If we set the <code>href</code> attribute to True, regardless of what the value is, the code finds all tags with <code>href</code> value:"
      ],
      "metadata": {
        "id": "QE2tAvMi3wj4"
      }
    },
    {
      "cell_type": "code",
      "source": [
        "table_bs.find_all(href=True)"
      ],
      "metadata": {
        "id": "RSrYA7a83yS9"
      },
      "execution_count": null,
      "outputs": []
    },
    {
      "cell_type": "markdown",
      "source": [
        "There are other methods for dealing with attributes and other related methods. Check out the following <a href='https://www.crummy.com/software/BeautifulSoup/bs4/doc/?utm_medium=Exinfluencer&utm_source=Exinfluencer&utm_content=000026UJ&utm_term=10006555&utm_id=NA-SkillsNetwork-Channel-SkillsNetworkCoursesIBMDeveloperSkillsNetworkPY0101ENSkillsNetwork19487395-2021-01-01#css-selectors'>link</a>"
      ],
      "metadata": {
        "id": "D5uwLACZ30HD"
      }
    },
    {
      "cell_type": "markdown",
      "source": [
        "<h3 id=\"exer_type\">Exercise: <code>find_all</code></h3>"
      ],
      "metadata": {
        "id": "O0Gq-Ea_316n"
      }
    },
    {
      "cell_type": "markdown",
      "source": [
        "Using the logic above, find all the elements without <code>href</code> value"
      ],
      "metadata": {
        "id": "w-AhtXDe34ON"
      }
    },
    {
      "cell_type": "code",
      "source": [],
      "metadata": {
        "id": "baG4J1mZ34qx"
      },
      "execution_count": null,
      "outputs": []
    },
    {
      "cell_type": "markdown",
      "source": [
        "<details><summary>Click here for the solution</summary>\n",
        "\n",
        "```\n",
        "table_bs.find_all(href=False)\n",
        "\n",
        "```\n",
        "\n",
        "</details>\n"
      ],
      "metadata": {
        "id": "CUF_vQbg37W6"
      }
    },
    {
      "cell_type": "code",
      "source": [
        "table_bs.find_all(href=False)"
      ],
      "metadata": {
        "id": "xSy1vQEI38fA"
      },
      "execution_count": null,
      "outputs": []
    },
    {
      "cell_type": "markdown",
      "source": [
        "Using the soup object <code>soup</code>, find the element with the <code>id</code> attribute content set to <code>\"boldest\"</code>."
      ],
      "metadata": {
        "id": "NMcEb9RT3-QK"
      }
    },
    {
      "cell_type": "code",
      "source": [],
      "metadata": {
        "id": "k93I8Fb83_WD"
      },
      "execution_count": null,
      "outputs": []
    },
    {
      "cell_type": "markdown",
      "source": [
        "<details><summary>Click here for the solution</summary>\n",
        "\n",
        "```\n",
        "soup.find_all(id=\"boldest\")\n",
        "\n",
        "```\n",
        "\n",
        "</details>"
      ],
      "metadata": {
        "id": "mqdMfNEs4AGj"
      }
    },
    {
      "cell_type": "code",
      "source": [
        "soup.find_all(id=\"boldest\")"
      ],
      "metadata": {
        "id": "DQ15sOwc4DHf"
      },
      "execution_count": null,
      "outputs": []
    },
    {
      "cell_type": "markdown",
      "source": [
        "### string"
      ],
      "metadata": {
        "id": "1hshZ_HP4F5M"
      }
    },
    {
      "cell_type": "markdown",
      "source": [
        "With string you can search for strings instead of tags, where we find all the elments with Florida:\n"
      ],
      "metadata": {
        "id": "QSGdQerg4I0O"
      }
    },
    {
      "cell_type": "code",
      "source": [
        "table_bs.find_all(string=\"Florida\")"
      ],
      "metadata": {
        "id": "8F7RhcCb4Koi"
      },
      "execution_count": null,
      "outputs": []
    },
    {
      "cell_type": "markdown",
      "source": [
        "## find"
      ],
      "metadata": {
        "id": "zDQ9b5924PSP"
      }
    },
    {
      "cell_type": "markdown",
      "source": [
        "The <code>find_all()</code> method scans the entire document looking for results. It’s useful if you are looking for one element, as you can use the <code>find()</code> method to find the first element in the document. Consider the following two tables:"
      ],
      "metadata": {
        "id": "9v2W4d5K4RND"
      }
    },
    {
      "cell_type": "code",
      "source": [
        "%%html\n",
        "<h3>Rocket Launch </h3>\n",
        "\n",
        "<p>\n",
        "<table class='rocket'>\n",
        "  <tr>\n",
        "    <td>Flight No</td>\n",
        "    <td>Launch site</td>\n",
        "    <td>Payload mass</td>\n",
        "  </tr>\n",
        "  <tr>\n",
        "    <td>1</td>\n",
        "    <td>Florida</td>\n",
        "    <td>300 kg</td>\n",
        "  </tr>\n",
        "  <tr>\n",
        "    <td>2</td>\n",
        "    <td>Texas</td>\n",
        "    <td>94 kg</td>\n",
        "  </tr>\n",
        "  <tr>\n",
        "    <td>3</td>\n",
        "    <td>Florida </td>\n",
        "    <td>80 kg</td>\n",
        "  </tr>\n",
        "</table>\n",
        "</p>\n",
        "<p>\n",
        "\n",
        "<h3>Pizza Party  </h3>\n",
        "\n",
        "\n",
        "<table class='pizza'>\n",
        "  <tr>\n",
        "    <td>Pizza Place</td>\n",
        "    <td>Orders</td>\n",
        "    <td>Slices </td>\n",
        "   </tr>\n",
        "  <tr>\n",
        "    <td>Domino's Pizza</td>\n",
        "    <td>10</td>\n",
        "    <td>100</td>\n",
        "  </tr>\n",
        "  <tr>\n",
        "    <td>Little Caesars</td>\n",
        "    <td>12</td>\n",
        "    <td >144 </td>\n",
        "  </tr>\n",
        "  <tr>\n",
        "    <td>Papa John's </td>\n",
        "    <td>15 </td>\n",
        "    <td>165</td>\n",
        "  </tr>\n"
      ],
      "metadata": {
        "colab": {
          "base_uri": "https://localhost:8080/",
          "height": 271
        },
        "id": "ivgxem7t4UeF",
        "outputId": "2118704b-d0d1-4b4d-f175-20b7e37c4459"
      },
      "execution_count": 5,
      "outputs": [
        {
          "output_type": "display_data",
          "data": {
            "text/plain": [
              "<IPython.core.display.HTML object>"
            ],
            "text/html": [
              "<h3>Rocket Launch </h3>\n",
              "\n",
              "<p>\n",
              "<table class='rocket'>\n",
              "  <tr>\n",
              "    <td>Flight No</td>\n",
              "    <td>Launch site</td> \n",
              "    <td>Payload mass</td>\n",
              "  </tr>\n",
              "  <tr>\n",
              "    <td>1</td>\n",
              "    <td>Florida</td>\n",
              "    <td>300 kg</td>\n",
              "  </tr>\n",
              "  <tr>\n",
              "    <td>2</td>\n",
              "    <td>Texas</td>\n",
              "    <td>94 kg</td>\n",
              "  </tr>\n",
              "  <tr>\n",
              "    <td>3</td>\n",
              "    <td>Florida </td>\n",
              "    <td>80 kg</td>\n",
              "  </tr>\n",
              "</table>\n",
              "</p>\n",
              "<p>\n",
              "\n",
              "<h3>Pizza Party  </h3>\n",
              "  \n",
              "    \n",
              "<table class='pizza'>\n",
              "  <tr>\n",
              "    <td>Pizza Place</td>\n",
              "    <td>Orders</td> \n",
              "    <td>Slices </td>\n",
              "   </tr>\n",
              "  <tr>\n",
              "    <td>Domino's Pizza</td>\n",
              "    <td>10</td>\n",
              "    <td>100</td>\n",
              "  </tr>\n",
              "  <tr>\n",
              "    <td>Little Caesars</td>\n",
              "    <td>12</td>\n",
              "    <td >144 </td>\n",
              "  </tr>\n",
              "  <tr>\n",
              "    <td>Papa John's </td>\n",
              "    <td>15 </td>\n",
              "    <td>165</td>\n",
              "  </tr>\n"
            ]
          },
          "metadata": {}
        }
      ]
    },
    {
      "cell_type": "markdown",
      "source": [
        "We store the HTML as a Python string and assign <code>two_tables</code>:"
      ],
      "metadata": {
        "id": "EZMNQjfM4Ye7"
      }
    },
    {
      "cell_type": "code",
      "source": [
        "two_tables=\"<h3>Rocket Launch </h3><p><table class='rocket'><tr><td>Flight No</td><td>Launch site</td> <td>Payload mass</td></tr><tr><td>1</td><td>Florida</td><td>300 kg</td></tr><tr><td>2</td><td>Texas</td><td>94 kg</td></tr><tr><td>3</td><td>Florida </td><td>80 kg</td></tr></table></p><p><h3>Pizza Party  </h3><table class='pizza'><tr><td>Pizza Place</td><td>Orders</td> <td>Slices </td></tr><tr><td>Domino's Pizza</td><td>10</td><td>100</td></tr><tr><td>Little Caesars</td><td>12</td><td >144 </td></tr><tr><td>Papa John's </td><td>15 </td><td>165</td></tr>\""
      ],
      "metadata": {
        "id": "XyVQCEb74avA"
      },
      "execution_count": null,
      "outputs": []
    },
    {
      "cell_type": "markdown",
      "source": [
        "We create a <code>BeautifulSoup</code> object  <code>two_tables_bs</code>"
      ],
      "metadata": {
        "id": "-VjuIFtA4ckh"
      }
    },
    {
      "cell_type": "code",
      "source": [
        "two_tables_bs= BeautifulSoup(two_tables, 'html.parser')"
      ],
      "metadata": {
        "id": "fcvh8gRJ4fAo"
      },
      "execution_count": null,
      "outputs": []
    },
    {
      "cell_type": "markdown",
      "source": [
        "We can find the first table using the tag name table"
      ],
      "metadata": {
        "id": "98G_ezm04hIX"
      }
    },
    {
      "cell_type": "code",
      "source": [
        "two_tables_bs.find(\"table\")"
      ],
      "metadata": {
        "id": "V5HTzsu74jYp"
      },
      "execution_count": null,
      "outputs": []
    },
    {
      "cell_type": "markdown",
      "source": [
        "We can filter on the class attribute to find the second table, but because class is a keyword in Python, we add an underscore to differentiate them."
      ],
      "metadata": {
        "id": "jHCOXMdI4lZO"
      }
    },
    {
      "cell_type": "code",
      "source": [
        "two_tables_bs.find(\"table\",class_='pizza')"
      ],
      "metadata": {
        "id": "9EPB-QgG4n1o"
      },
      "execution_count": null,
      "outputs": []
    },
    {
      "cell_type": "markdown",
      "source": [
        "<h2 id=\"DSCW\">Downloading And Scraping The Contents Of A Web Page</h2>\n"
      ],
      "metadata": {
        "id": "XuWqklZr4toB"
      }
    },
    {
      "cell_type": "markdown",
      "source": [
        "We Download the contents of the web page:"
      ],
      "metadata": {
        "id": "gxAbq1hP4wF6"
      }
    },
    {
      "cell_type": "code",
      "source": [
        "url = \"http://www.ibm.com\""
      ],
      "metadata": {
        "id": "7Wj2Q7VO4xzQ"
      },
      "execution_count": null,
      "outputs": []
    },
    {
      "cell_type": "markdown",
      "source": [
        "We use <code>get</code> to download the contents of the webpage in text format and store in a variable called <code>data</code>:"
      ],
      "metadata": {
        "id": "0p42URuV40ys"
      }
    },
    {
      "cell_type": "code",
      "source": [
        "data  = requests.get(url).text"
      ],
      "metadata": {
        "id": "BW1lH7BM43BL"
      },
      "execution_count": null,
      "outputs": []
    },
    {
      "cell_type": "markdown",
      "source": [
        "We create a <code>BeautifulSoup</code> object using the <code>BeautifulSoup</code> constructor"
      ],
      "metadata": {
        "id": "ycTm5m8Y48kX"
      }
    },
    {
      "cell_type": "code",
      "source": [
        "soup = BeautifulSoup(data,\"html5lib\")  # create a soup object using the variable 'data'"
      ],
      "metadata": {
        "id": "L37UG92r45V7"
      },
      "execution_count": null,
      "outputs": []
    },
    {
      "cell_type": "markdown",
      "source": [
        "Scrape all links"
      ],
      "metadata": {
        "id": "5LkbUOLH5BIw"
      }
    },
    {
      "cell_type": "code",
      "source": [
        "for link in soup.find_all('a',href=True):  # in html anchor/link is represented by the tag <a>\n",
        "\n",
        "    print(link.get('href'))"
      ],
      "metadata": {
        "id": "ElXe3YTL5DNB"
      },
      "execution_count": null,
      "outputs": []
    },
    {
      "cell_type": "markdown",
      "source": [
        "### Scrape all images Tags"
      ],
      "metadata": {
        "id": "qF3OGMlk5Fr_"
      }
    },
    {
      "cell_type": "code",
      "source": [
        "for link in soup.find_all('img'):# in html image is represented by the tag <img>\n",
        "    print(link)\n",
        "    print(link.get('src'))"
      ],
      "metadata": {
        "id": "Et02AsRg5HrF"
      },
      "execution_count": null,
      "outputs": []
    },
    {
      "cell_type": "markdown",
      "source": [
        "### Scrape data from HTML tables\n"
      ],
      "metadata": {
        "id": "vySt2Z6K5JyE"
      }
    },
    {
      "cell_type": "code",
      "source": [
        "#The below url contains an html table with data about colors and color codes.\n",
        "url = \"https://cf-courses-data.s3.us.cloud-object-storage.appdomain.cloud/IBM-DA0321EN-SkillsNetwork/labs/datasets/HTMLColorCodes.html\""
      ],
      "metadata": {
        "id": "4vUDHPWk5NTm"
      },
      "execution_count": null,
      "outputs": []
    },
    {
      "cell_type": "markdown",
      "source": [
        "Before proceeding to scrape a web site, you need to examine the contents and the way data is organized on the website. Open the above url in your browser and check how many rows and columns there are in the color table."
      ],
      "metadata": {
        "id": "y8oDEQko5Qg7"
      }
    },
    {
      "cell_type": "code",
      "source": [
        "# get the contents of the webpage in text format and store in a variable called data\n",
        "data  = requests.get(url).text"
      ],
      "metadata": {
        "id": "Rt0xaTBV5SU5"
      },
      "execution_count": null,
      "outputs": []
    },
    {
      "cell_type": "code",
      "source": [
        "soup = BeautifulSoup(data,\"html5lib\")"
      ],
      "metadata": {
        "id": "1IpCR6IS5UOr"
      },
      "execution_count": null,
      "outputs": []
    },
    {
      "cell_type": "code",
      "source": [
        "#find a html table in the web page\n",
        "table = soup.find('table') # in html table is represented by the tag <table>"
      ],
      "metadata": {
        "id": "3EwG3OSe5W3V"
      },
      "execution_count": null,
      "outputs": []
    },
    {
      "cell_type": "code",
      "source": [
        "#Get all rows from the table\n",
        "for row in table.find_all('tr'): # in html table row is represented by the tag <tr>\n",
        "    # Get all columns in each row.\n",
        "    cols = row.find_all('td') # in html a column is represented by the tag <td>\n",
        "    color_name = cols[2].string # store the value in column 3 as color_name\n",
        "    color_code = cols[3].text # store the value in column 4 as color_code\n",
        "    print(\"{}--->{}\".format(color_name,color_code))"
      ],
      "metadata": {
        "id": "KNyLLYPr5Yu-"
      },
      "execution_count": null,
      "outputs": []
    },
    {
      "cell_type": "markdown",
      "source": [
        "## Scraping tables from a Web page using Pandas"
      ],
      "metadata": {
        "id": "YwJtOZjf5bLY"
      }
    },
    {
      "cell_type": "markdown",
      "source": [
        "Particularly for extracting tabular data from a web page, you may also use the `read_html()` method of the Pandas library."
      ],
      "metadata": {
        "id": "vz18ihwr5dmH"
      }
    },
    {
      "cell_type": "code",
      "source": [
        "#The below url contains an html table with data about colors and color codes.\n",
        "url = \"https://cf-courses-data.s3.us.cloud-object-storage.appdomain.cloud/IBM-DA0321EN-SkillsNetwork/labs/datasets/HTMLColorCodes.html\""
      ],
      "metadata": {
        "id": "XaCMNvy85fvl"
      },
      "execution_count": null,
      "outputs": []
    },
    {
      "cell_type": "markdown",
      "source": [
        "You may extract all the tables from the given webpage simply by using the following commands."
      ],
      "metadata": {
        "id": "J5x9B5qB5isi"
      }
    },
    {
      "cell_type": "code",
      "source": [
        "import pandas as pd\n",
        "\n",
        "tables = pd.read_html(url)\n",
        "tables"
      ],
      "metadata": {
        "id": "iQyWfyHA5kZh"
      },
      "execution_count": null,
      "outputs": []
    },
    {
      "cell_type": "markdown",
      "source": [
        "`tables` is now a list of dataframes representing the tables from the web page, in the sequence of their appearance. In the current  URL, there is only a single table, so the same can be accessed as shown below."
      ],
      "metadata": {
        "id": "t-dFJRST5mZY"
      }
    },
    {
      "cell_type": "code",
      "source": [
        "tables[0]"
      ],
      "metadata": {
        "id": "fA6P4v-V5opt"
      },
      "execution_count": null,
      "outputs": []
    },
    {
      "cell_type": "markdown",
      "source": [
        "## Editor :"
      ],
      "metadata": {
        "id": "T4YMf50c5sYn"
      }
    },
    {
      "cell_type": "markdown",
      "source": [
        "Matin Hajnorouzi"
      ],
      "metadata": {
        "id": "kQPPwna15xwI"
      }
    }
  ]
}