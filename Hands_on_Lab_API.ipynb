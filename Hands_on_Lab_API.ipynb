{
  "nbformat": 4,
  "nbformat_minor": 0,
  "metadata": {
    "colab": {
      "provenance": [],
      "authorship_tag": "ABX9TyPPHQU61lv4EerUKBi3eo+s",
      "include_colab_link": true
    },
    "kernelspec": {
      "name": "python3",
      "display_name": "Python 3"
    },
    "language_info": {
      "name": "python"
    }
  },
  "cells": [
    {
      "cell_type": "markdown",
      "metadata": {
        "id": "view-in-github",
        "colab_type": "text"
      },
      "source": [
        "<a href=\"https://colab.research.google.com/github/Matinnorouzi2023/data-science/blob/main/Hands_on_Lab_API.ipynb\" target=\"_parent\"><img src=\"https://colab.research.google.com/assets/colab-badge.svg\" alt=\"Open In Colab\"/></a>"
      ]
    },
    {
      "cell_type": "markdown",
      "source": [
        "<center>\n",
        "    <img src=\"https://cf-courses-data.s3.us.cloud-object-storage.appdomain.cloud/assets/logos/SN_web_lightmode.png\" width=\"300\" alt=\"cognitiveclass.ai logo\">\n",
        "</center>\n",
        "\n",
        "# Hands-on Lab: API Examples\n",
        "## Random User and Fruityvice API Examples\n",
        "\n",
        "\n",
        "Estimated time needed: **30** minutes\n",
        "\n",
        "## Objectives\n",
        "\n",
        "After completing this lab you will be able to:\n",
        "\n",
        "*   Load and use RandomUser API, using `RandomUser()` Python library\n",
        "*   Load and use Fruityvice API, using `requests` Python library\n",
        "*   Load and use Open-Joke-API, using `requests` Python library\n",
        "\n"
      ],
      "metadata": {
        "id": "8hP4O7oiB0M7"
      }
    },
    {
      "cell_type": "markdown",
      "source": [
        "The purpose of this notebook is to provide more examples on how to use simple APIs. As you have already learned from previous videos and notebooks, API stands for Application Programming Interface and is a software intermediary that allows two applications to talk to each other.\n",
        "\n",
        "The advantages of using APIs:\n",
        " *   **Automation**. Less human effort is required and workflows can be easily updated to become faster and more      \n",
        "     productive.\n",
        " *   **Efficiency**. It allows to use the capabilities of one of the already developed APIs than to try to\n",
        "     independently implement some functionality from scratch.\n",
        "\n",
        "The disadvantage of using APIs:\n",
        " *   **Security**. If the API is poorly integrated, it means it will be vulnerable to attacks, resulting in data breeches or losses having financial or reputation implications.\n",
        "\n",
        "One of the applications we will use in this notebook is Random User Generator. RandomUser is an open-source, free API providing developers with randomly generated users to be used as placeholders for testing purposes. This makes the tool similar to Lorem Ipsum, but is a placeholder for people instead of text. The API can return multiple results, as well as specify generated user details such as gender, email, image, username, address, title, first and last name, and more. More information on [RandomUser](https://randomuser.me/documentation#intro) can be found here.\n",
        "\n",
        "Another example of simple API we will use in this notebook is Fruityvice application. The Fruityvice API web service which provides data for all kinds of fruit! You can use Fruityvice to find out interesting information about fruit and educate yourself. The web service is completely free to use and contribute to."
      ],
      "metadata": {
        "id": "chEOaIltB8eP"
      }
    },
    {
      "cell_type": "markdown",
      "source": [
        "## Example 1: RandomUser API\n",
        "Bellow are Get Methods parameters that we can generate. For more information on the parameters, please visit this [documentation](https://randomuser.me/documentation) page."
      ],
      "metadata": {
        "id": "_nVJ-76RCB7n"
      }
    },
    {
      "cell_type": "markdown",
      "source": [
        "## **Get Methods**\n",
        "\n",
        "- get_cell()\n",
        "- get_city()\n",
        "- get_dob()\n",
        "- get_email()\n",
        "- get_first_name()\n",
        "- get_full_name()\n",
        "- get_gender()\n",
        "- get_id()\n",
        "- get_id_number()\n",
        "- get_id_type()\n",
        "- get_info()\n",
        "- get_last_name()\n",
        "- get_login_md5()\n",
        "- get_login_salt()\n",
        "- get_login_sha1()\n",
        "- get_login_sha256()\n",
        "- get_nat()\n",
        "- get_password()\n",
        "- get_phone()\n",
        "- get_picture()\n",
        "- get_postcode()\n",
        "- get_registered()\n",
        "- get_state()\n",
        "- get_street()\n",
        "- get_username()\n",
        "- get_zipcode()\n"
      ],
      "metadata": {
        "id": "vVent9SjCGl_"
      }
    },
    {
      "cell_type": "markdown",
      "source": [
        "To start using the API you can install the `randomuser` library running the `pip install` command"
      ],
      "metadata": {
        "id": "HJw-QzuHCLSO"
      }
    },
    {
      "cell_type": "code",
      "execution_count": null,
      "metadata": {
        "id": "HZB3TKKrATCb"
      },
      "outputs": [],
      "source": [
        "!pip install randomuser"
      ]
    },
    {
      "cell_type": "markdown",
      "source": [
        "Then, we will load the necessary libraries."
      ],
      "metadata": {
        "id": "SQdLzxxPCPzR"
      }
    },
    {
      "cell_type": "code",
      "source": [
        "from randomuser import RandomUser\n",
        "import pandas as pd"
      ],
      "metadata": {
        "id": "NWP3jSl_CR9R"
      },
      "execution_count": null,
      "outputs": []
    },
    {
      "cell_type": "markdown",
      "source": [
        "First, we will create a random user object, r."
      ],
      "metadata": {
        "id": "NEfYYYjcCT6u"
      }
    },
    {
      "cell_type": "code",
      "source": [
        "r = RandomUser()"
      ],
      "metadata": {
        "id": "zOAtfczGCW9x"
      },
      "execution_count": null,
      "outputs": []
    },
    {
      "cell_type": "markdown",
      "source": [
        "Then, using `generate_users()` function, we get a list of random 10 users."
      ],
      "metadata": {
        "id": "uehuywijCahy"
      }
    },
    {
      "cell_type": "code",
      "source": [
        "some_list = r.generate_users(10)"
      ],
      "metadata": {
        "id": "S6WA2mTwCcbc"
      },
      "execution_count": null,
      "outputs": []
    },
    {
      "cell_type": "code",
      "source": [
        "some_list"
      ],
      "metadata": {
        "id": "Gxf2D3YmCeQ-"
      },
      "execution_count": null,
      "outputs": []
    },
    {
      "cell_type": "markdown",
      "source": [
        "The **\"Get Methods\"** functions mentioned at the beginning of this notebook, can generate the required parameters to construct a dataset. For example, to get full name, we call `get_full_name()` function."
      ],
      "metadata": {
        "id": "vieUY8csCg_z"
      }
    },
    {
      "cell_type": "code",
      "source": [
        "name = r.get_full_name()"
      ],
      "metadata": {
        "id": "aN_5QRGMCisB"
      },
      "execution_count": null,
      "outputs": []
    },
    {
      "cell_type": "markdown",
      "source": [
        "Let's say we only need 10 users with full names and their email addresses. We can write a \"for-loop\" to print these 10 users."
      ],
      "metadata": {
        "id": "vIwroSO6CjHA"
      }
    },
    {
      "cell_type": "code",
      "source": [
        "for user in some_list:\n",
        "    print (user.get_full_name(),\" \",user.get_email())"
      ],
      "metadata": {
        "id": "PPLLCdkdCk37"
      },
      "execution_count": null,
      "outputs": []
    },
    {
      "cell_type": "markdown",
      "source": [
        "## Exercise 1\n",
        "In this Exercise, generate photos of the random 10 users.\n"
      ],
      "metadata": {
        "id": "1eurJ4SDCpv5"
      }
    },
    {
      "cell_type": "code",
      "source": [
        "## Write your code here"
      ],
      "metadata": {
        "id": "mtIjmNcbCsM8"
      },
      "execution_count": null,
      "outputs": []
    },
    {
      "cell_type": "markdown",
      "source": [
        "<details><summary>Click here for the solution</summary>\n",
        "\n",
        "```python\n",
        "for user in some_list:\n",
        "    print (user.get_picture())\n",
        "```\n",
        "\n",
        "</details>"
      ],
      "metadata": {
        "id": "6MkFxuSWCt9J"
      }
    },
    {
      "cell_type": "code",
      "source": [
        "for user in some_list:\n",
        "    print (user.get_picture())"
      ],
      "metadata": {
        "id": "hpNWOR3BCvQo"
      },
      "execution_count": null,
      "outputs": []
    },
    {
      "cell_type": "markdown",
      "source": [
        "To generate a table with information about the users, we can write a function containing all desirable parameters. For example, name, gender, city, etc. The parameters will depend on the requirements of the test to be performed. We call the Get Methods, listed at the beginning of this notebook. Then, we return pandas dataframe with the users."
      ],
      "metadata": {
        "id": "-yXD_eo2CxUw"
      }
    },
    {
      "cell_type": "code",
      "source": [
        "def get_users():\n",
        "    users =[]\n",
        "\n",
        "    for user in RandomUser.generate_users(10):\n",
        "        users.append({\"Name\":user.get_full_name(),\"Gender\":user.get_gender(),\"City\":user.get_city(),\"State\":user.get_state(),\"Email\":user.get_email(), \"DOB\":user.get_dob(),\"Picture\":user.get_picture()})\n",
        "\n",
        "    return pd.DataFrame(users)"
      ],
      "metadata": {
        "id": "akmo0_XlCzFI"
      },
      "execution_count": null,
      "outputs": []
    },
    {
      "cell_type": "code",
      "source": [
        "get_users()"
      ],
      "metadata": {
        "id": "AYfU2dN1C01X"
      },
      "execution_count": null,
      "outputs": []
    },
    {
      "cell_type": "code",
      "source": [
        "df1 = pd.DataFrame(get_users())"
      ],
      "metadata": {
        "id": "0Q1G-_NIC2XH"
      },
      "execution_count": null,
      "outputs": []
    },
    {
      "cell_type": "markdown",
      "source": [
        "Now we have a *pandas* dataframe that can be used for any testing purposes that the tester might have."
      ],
      "metadata": {
        "id": "FuJqHg8QC43e"
      }
    },
    {
      "cell_type": "markdown",
      "source": [
        "## Example 2: Fruityvice API\n",
        "\n",
        "Another, more common way to use APIs, is through `requests` library. The next lab, Requests and HTTP, will contain more information about requests.\n",
        "\n",
        "We will start by importing all required libraries."
      ],
      "metadata": {
        "id": "035mC_VQC63d"
      }
    },
    {
      "cell_type": "code",
      "source": [
        "import requests\n",
        "import json"
      ],
      "metadata": {
        "id": "w1Oq650jC8nP"
      },
      "execution_count": null,
      "outputs": []
    },
    {
      "cell_type": "markdown",
      "source": [
        "We will obtain the [fruityvice](https://www.fruityvice.com) API data using `requests.get(\"url\")` function. The data is in a json format."
      ],
      "metadata": {
        "id": "V7y2XxTMC-0n"
      }
    },
    {
      "cell_type": "code",
      "source": [
        "data = requests.get(\"https://fruityvice.com/api/fruit/all\")"
      ],
      "metadata": {
        "id": "xqRbc0yIDApT"
      },
      "execution_count": null,
      "outputs": []
    },
    {
      "cell_type": "markdown",
      "source": [
        "We will retrieve results using `json.loads()` function.\n"
      ],
      "metadata": {
        "id": "rLkdI8nUDDnv"
      }
    },
    {
      "cell_type": "code",
      "source": [
        "results = json.loads(data.text)"
      ],
      "metadata": {
        "id": "pubVvhVrDFwq"
      },
      "execution_count": null,
      "outputs": []
    },
    {
      "cell_type": "markdown",
      "source": [
        "We will convert our json data into *pandas* data frame."
      ],
      "metadata": {
        "id": "aqT8gAfaDHu2"
      }
    },
    {
      "cell_type": "code",
      "source": [
        "pd.DataFrame(results)"
      ],
      "metadata": {
        "id": "ryqNvMNNDKTI"
      },
      "execution_count": null,
      "outputs": []
    },
    {
      "cell_type": "markdown",
      "source": [
        "The result is in a nested json format. The 'nutrition' column contains multiple subcolumns, so the data needs to be 'flattened' or normalized."
      ],
      "metadata": {
        "id": "D_c9MW6tDH12"
      }
    },
    {
      "cell_type": "code",
      "source": [
        "df2 = pd.json_normalize(results)"
      ],
      "metadata": {
        "id": "22tIRe20DOFz"
      },
      "execution_count": null,
      "outputs": []
    },
    {
      "cell_type": "code",
      "source": [
        "df2"
      ],
      "metadata": {
        "id": "3tgsUVoqDP70"
      },
      "execution_count": null,
      "outputs": []
    },
    {
      "cell_type": "markdown",
      "source": [
        "Let's see if we can extract some information from this dataframe. Perhaps, we need to know the family and genus of a cherry.\n"
      ],
      "metadata": {
        "id": "X41Pm8rQDRwa"
      }
    },
    {
      "cell_type": "code",
      "source": [
        "cherry = df2.loc[df2[\"name\"] == 'Cherry']\n",
        "(cherry.iloc[0]['family']) , (cherry.iloc[0]['genus'])"
      ],
      "metadata": {
        "id": "ugspjjIaDTVx"
      },
      "execution_count": null,
      "outputs": []
    },
    {
      "cell_type": "markdown",
      "source": [
        "## Exercise 2\n",
        "In this Exercise, find out how many calories are contained in a banana."
      ],
      "metadata": {
        "id": "hQxqLqbrDWHv"
      }
    },
    {
      "cell_type": "code",
      "source": [
        "# Write your code here"
      ],
      "metadata": {
        "id": "ZLUXJgaQDYAa"
      },
      "execution_count": null,
      "outputs": []
    },
    {
      "cell_type": "markdown",
      "source": [
        "<details><summary>Click here for the solution</summary>\n",
        "\n",
        "```python\n",
        "cal_banana = df2.loc[df2[\"name\"] == 'Banana']\n",
        "cal_banana.iloc[0]['nutritions.calories']\n",
        "```\n",
        "\n",
        "</details>"
      ],
      "metadata": {
        "id": "bvRtJRCzDZzS"
      }
    },
    {
      "cell_type": "code",
      "source": [
        "cal_banana = df2.loc[df2[\"name\"] == 'Banana']\n",
        "cal_banana.iloc[0]['nutritions.calories']"
      ],
      "metadata": {
        "id": "8sxeKRKHDd3A"
      },
      "execution_count": null,
      "outputs": []
    },
    {
      "cell_type": "markdown",
      "source": [
        "## Exercise 3\n",
        "\n",
        "This [page](https://mixedanalytics.com/blog/list-actually-free-open-no-auth-needed-apis/) contains a list of free public APIs for you to practice. Let us deal with the following example.\n",
        "\n",
        "#### Official Joke API\n",
        "This API returns random jokes from a database. The following URL can be used to retrieve 10 random jokes.\n",
        "\n",
        "https://official-joke-api.appspot.com/jokes/ten\n",
        "\n",
        "1. Using `requests.get(\"url\")` function, load the data from the URL."
      ],
      "metadata": {
        "id": "bs12kxd1Dcwx"
      }
    },
    {
      "cell_type": "code",
      "source": [
        "# Write your code here"
      ],
      "metadata": {
        "id": "OH1akiqlDjNK"
      },
      "execution_count": null,
      "outputs": []
    },
    {
      "cell_type": "markdown",
      "source": [
        "<details><summary>Click here for the solution</summary>\n",
        "\n",
        "```python\n",
        "data2 = requests.get(\"https://official-joke-api.appspot.com/jokes/ten\")\n",
        "```\n",
        "\n",
        "</details>\n"
      ],
      "metadata": {
        "id": "lcaz8ejSDlem"
      }
    },
    {
      "cell_type": "code",
      "source": [
        "data2 = requests.get(\"https://official-joke-api.appspot.com/jokes/ten\")"
      ],
      "metadata": {
        "id": "ITql9dZHDngS"
      },
      "execution_count": null,
      "outputs": []
    },
    {
      "cell_type": "markdown",
      "source": [
        "data2 = requests.get(\"https://official-joke-api.appspot.com/jokes/ten\")"
      ],
      "metadata": {
        "id": "IVflimNtDqDe"
      }
    },
    {
      "cell_type": "code",
      "source": [
        "# Write your code here"
      ],
      "metadata": {
        "id": "T-uYeveGDtAR"
      },
      "execution_count": null,
      "outputs": []
    },
    {
      "cell_type": "markdown",
      "source": [
        "<details><summary>Click here for the solution</summary>\n",
        "\n",
        "```python\n",
        "results2 = json.loads(data2.text)\n",
        "```\n",
        "\n",
        "</details>"
      ],
      "metadata": {
        "id": "LJLmimGWDwGq"
      }
    },
    {
      "cell_type": "code",
      "source": [
        "results2 = json.loads(data2.text)"
      ],
      "metadata": {
        "id": "xZaxEmzMDxrk"
      },
      "execution_count": null,
      "outputs": []
    },
    {
      "cell_type": "markdown",
      "source": [
        "3. Convert json data into *pandas* data frame. Drop the type and id columns."
      ],
      "metadata": {
        "id": "YBWJZKfHDzlb"
      }
    },
    {
      "cell_type": "code",
      "source": [
        "# Write your code here"
      ],
      "metadata": {
        "id": "kZYwySNsD04b"
      },
      "execution_count": null,
      "outputs": []
    },
    {
      "cell_type": "markdown",
      "source": [
        "<details><summary>Click here for the solution</summary>\n",
        "\n",
        "```python\n",
        "df3 = pd.DataFrame(results2)\n",
        "df3.drop(columns=[\"type\",\"id\"],inplace=True)\n",
        "df3\n",
        "```\n",
        "\n",
        "</details>"
      ],
      "metadata": {
        "id": "6CNBWVUWD2wL"
      }
    },
    {
      "cell_type": "code",
      "source": [
        "df3 = pd.DataFrame(results2)\n",
        "df3.drop(columns=[\"type\",\"id\"],inplace=True)\n",
        "df3"
      ],
      "metadata": {
        "id": "3BOtPKZhD4Pb"
      },
      "execution_count": null,
      "outputs": []
    },
    {
      "cell_type": "markdown",
      "source": [
        "# Congratulations! - You have completed the lab"
      ],
      "metadata": {
        "id": "iwgkNoyeD6w-"
      }
    },
    {
      "cell_type": "markdown",
      "source": [
        "## Editor\n",
        "<a href=\"https://www.linkedin.com/in/matinhajnorouzi/\" target=\"_blank\">Matin Hajnorouzi</a>\n",
        "\n",
        "\n",
        "\n"
      ],
      "metadata": {
        "id": "6ON4PA8VD9iK"
      }
    }
  ]
}